{
 "cells": [
  {
   "cell_type": "markdown",
   "metadata": {},
   "source": [
    "Jay Sayre - sayrejay (at) gmail,\n",
    "\n"
   ]
  },
  {
   "cell_type": "code",
   "execution_count": 2,
   "metadata": {
    "collapsed": true
   },
   "outputs": [],
   "source": [
    "library(ggplot2)\n",
    "\n",
    "setwd(\"~/Dropbox/College/DR_Paper/\")\n",
    "#setwd(\"D:/Dropbox/Dropbox (Personal)/College/DR_Paper/Old\")"
   ]
  },
  {
   "cell_type": "code",
   "execution_count": null,
   "metadata": {
    "collapsed": true
   },
   "outputs": [],
   "source": [
    "mundf <- read.csv(\"municitarincocc.csv\")\n",
    "provdf <- read.csv(\"provtarincocc.csv\")\n",
    "\n",
    "mundf$chnginc <- mundf$INC13-mundf$INC07\n",
    "mundf$d2013 <- mundf$wmtrduty2013\n",
    "mundf$d2007 <- mundf$wmtrduty2007  \n",
    "mundf$Base <- mundf$wmtrBase\n",
    "mundf$chngtrf <- mundf$d2007-mundf$d2013\n",
    "\n",
    "provdf$chnginc <- provdf$INC13-provdf$INC07\n",
    "provdf$d2013 <- provdf$wptrduty2013\n",
    "provdf$d2007 <- provdf$wptrduty2007\n",
    "provdf$d2006 <- provdf$wptr2006AvgRate\n",
    "provdf$Base <- provdf$wptrBase\n",
    "provdf$chngtrf <- provdf$d2007-provdf$d2013\n",
    "\n",
    "reg1 <- lm(provdf$chnginc~log(provdf$chngtrf))\n",
    "summary(reg1)\n",
    "plot(provdf$chnginc,log(provdf$chngtrf))\n",
    "\n",
    "reg2 <- lm(mundf$chnginc~log(mundf$chngtrf+1))\n",
    "summary(reg2)\n",
    "plot(mundf$chnginc,log(mundf$chngtrf+1))"
   ]
  }
 ],
 "metadata": {
  "kernelspec": {
   "display_name": "R",
   "language": "R",
   "name": "ir"
  },
  "language_info": {
   "codemirror_mode": "r",
   "file_extension": ".r",
   "mimetype": "text/x-r-source",
   "name": "R",
   "pygments_lexer": "r",
   "version": "3.2.2"
  }
 },
 "nbformat": 4,
 "nbformat_minor": 0
}
