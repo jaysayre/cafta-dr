{
 "cells": [
  {
   "cell_type": "markdown",
   "metadata": {},
   "source": [
    "datavisualization.R\n",
    "Jay Sayre - sayrejay (at) Gmail,\n",
    "\n",
    "Used for data visualization of data for CAFTA-DR paper"
   ]
  },
  {
   "cell_type": "code",
   "execution_count": 1,
   "metadata": {
    "collapsed": false
   },
   "outputs": [
    {
     "name": "stderr",
     "output_type": "stream",
     "text": [
      "Version:  1.36\n",
      "Date:     2015-12-08\n",
      "Author:   Philip Leifeld (Eawag & University of Bern)\n",
      "\n",
      "Please cite the JSS article in your publications -- see citation(\"texreg\").\n"
     ]
    }
   ],
   "source": [
    "library(ggplot2)\n",
    "library(texreg)\n",
    "library(tikzDevice)\n",
    "\n",
    "setwd(\"~/Dropbox/College/DR_Paper/cafta-dr/Output/\")\n",
    "#setwd(\"D:/Dropbox/Dropbox (Personal)/College/DR_Paper/\")\n",
    "\n",
    "munoccdf <- read.csv(\"municipality_occupation_level_DATASET.csv\")\n",
    "hs6tariff <- read.csv(\"wtoandcaftahstariff.csv\")\n",
    "hs2tariff <- read.csv(\"tariffhs2.csv\")"
   ]
  },
  {
   "cell_type": "code",
   "execution_count": 14,
   "metadata": {
    "collapsed": false
   },
   "outputs": [
    {
     "data": {
      "text/html": [
       "<ol class=list-inline>\n",
       "\t<li>'HS2'</li>\n",
       "\t<li>'year'</li>\n",
       "\t<li>'duty'</li>\n",
       "</ol>\n"
      ],
      "text/latex": [
       "\\begin{enumerate*}\n",
       "\\item 'HS2'\n",
       "\\item 'year'\n",
       "\\item 'duty'\n",
       "\\end{enumerate*}\n"
      ],
      "text/markdown": [
       "1. 'HS2'\n",
       "2. 'year'\n",
       "3. 'duty'\n",
       "\n",
       "\n"
      ],
      "text/plain": [
       "[1] \"HS2\"  \"year\" \"duty\""
      ]
     },
     "execution_count": 14,
     "metadata": {},
     "output_type": "execute_result"
    },
    {
     "name": "stderr",
     "output_type": "stream",
     "text": [
      "Warning message:\n",
      ": Removed 18 rows containing missing values (geom_path).Warning message:\n",
      ": Removed 18 rows containing missing values (geom_point)."
     ]
    }
   ],
   "source": [
    "colnames(hs2tariff)\n",
    "hs2tariff$HS2 <- factor(hs2tariff$HS2)\n",
    "\n",
    "p4 <- ggplot(data=hs2tariff, aes(x=year, y=duty, group=HS2)) +\n",
    "    geom_line(aes(colour=HS2)) +\n",
    "    geom_point(aes(colour=HS2)) +\n",
    "    xlab(\"Year\") + ylab(\"Tariff Rate\") +\n",
    "    theme_classic() + ylim(0,20) +\n",
    "    ggtitle(\"Tariff Changes pre-CAFTA (HS 2 digit level)\")\n",
    "\n",
    "ggsave(filename=\"hstwodigittrfs.png\", plot=p4, path=\"../Plots/\", width=14, height=8)"
   ]
  },
  {
   "cell_type": "code",
   "execution_count": 72,
   "metadata": {
    "collapsed": false
   },
   "outputs": [],
   "source": [
    "### CLean up HS6 level tariff data set\n",
    "hs6tariff$chngtrf <- hs6tariff$duty2013-hs6tariff$X2002AvgRate\n",
    "hs6tariff$lgchng <- log(-hs6tariff$chngtrf+1)\n",
    "hs6tariff$lgdty02 <-log(hs6tariff$X2002AvgRate+1)"
   ]
  },
  {
   "cell_type": "code",
   "execution_count": 66,
   "metadata": {
    "collapsed": true
   },
   "outputs": [],
   "source": [
    "### Cleanup variables in municipality/occupation level dataset\n",
    "munoccdf$mean=rowMeans(munoccdf[,c(\"incforocc13\", \"firstsourceofincome13\",\n",
    "                                  \"totalhhincpercapita13\",\"incpercapita13\")],\n",
    "                       na.rm=TRUE)\n",
    "munoccdf$chnginc1 <- munoccdf$incforocc13-munoccdf$inc2002\n",
    "munoccdf$chnginc2 <- munoccdf$firstsourceofincome13-munoccdf$inc2002\n",
    "munoccdf$chnginc3 <- munoccdf$totalhhincpercapita13-munoccdf$inc2002\n",
    "munoccdf$chnginc4 <- munoccdf$incpercapita13-munoccdf$inc2002\n",
    "munoccdf$chnginc5 <- munoccdf$mean-munoccdf$inc2002\n",
    "munoccdf$chngtrf <- munoccdf$duty13-munoccdf$duty02\n",
    "munoccdf$lgchng <- log(-munoccdf$chngtrf+1)\n",
    "munoccdf$lgdty02 <-log(munoccdf$duty02+1)\n",
    "munoccdf$chngwrk <- munoccdf$numworkers10-munoccdf$numworkers02\n",
    "munoccdf$occ <- factor(munoccdf$occ)"
   ]
  },
  {
   "cell_type": "code",
   "execution_count": 23,
   "metadata": {
    "collapsed": false
   },
   "outputs": [],
   "source": [
    "#colnames(hs6tariff)\n",
    "#plot(hs6tariff$X2002AvgRate,hs6tariff$chngtrf)\n",
    "\n",
    "bf <- lm(hs6tariff$chngtrf~hs6tariff$X2002AvgRate)\n",
    "#summary(bf)"
   ]
  },
  {
   "cell_type": "code",
   "execution_count": 67,
   "metadata": {
    "collapsed": false
   },
   "outputs": [],
   "source": [
    "## Plot tariff level in 2002 compared to tariff change\n",
    "p1 <- ggplot(munoccdf, aes(x=duty02, y=chngtrf)) +\n",
    "  coord_equal() + geom_jitter(aes(colour=occ),size=.75) + #geom_point(shape=1) +\n",
    "  #geom_text(aes(label=occ)) + # Could do this perhaps\n",
    "  ggtitle(\"Tariff Changes 2002-2013 based on Pre-CAFTA Tariff Levels\n",
    "  (ISIC 2 digit)\") + geom_smooth(method=lm)+ \n",
    "  xlab(\"2002 pre-CAFTA duty\") + ylab(\"Decrease in duty rate\") +\n",
    "  theme_classic()\n",
    "#tikz(file='../Plots/caftanonlog.tex',standAlone=TRUE,sanitize=TRUE) \n",
    "#print(p1)\n",
    "#dev.off()\n",
    "#p1\n",
    "ggsave(filename=\"tariffdecrisic.png\", plot=p1, path=\"../Plots/\", width=8, height=8)"
   ]
  },
  {
   "cell_type": "code",
   "execution_count": 77,
   "metadata": {
    "collapsed": false
   },
   "outputs": [
    {
     "name": "stderr",
     "output_type": "stream",
     "text": [
      "Warning message:\n",
      ": Removed 30 rows containing non-finite values (stat_smooth).Warning message:\n",
      ": Removed 30 rows containing missing values (geom_point)."
     ]
    }
   ],
   "source": [
    "## Do same as above but at HS6 level\n",
    "p2 <- ggplot(hs6tariff, aes(x=X2002AvgRate, y=chngtrf))+\n",
    "  coord_equal() + geom_point(shape=1) +\n",
    "  ggtitle(\"Tariff Changes 2002-2013 based on Pre-CAFTA Tariff Levels (HS6 Code)\") +\n",
    "  geom_smooth(method=lm)+\n",
    "  xlab(\"2002 pre-CAFTA duty\") + ylab(\"Decrease in duty rate\") +\n",
    "  theme_classic()\n",
    "#p2\n",
    "ggsave(filename=\"tariffdecrhs6.png\", plot=p2, path=\"../Plots/\", width=8, height=8)"
   ]
  },
  {
   "cell_type": "code",
   "execution_count": null,
   "metadata": {
    "collapsed": true
   },
   "outputs": [],
   "source": [
    "p3 <- ggplot(munoccdf, aes(x=chngtrf, y=chnginc3)) +\n",
    "  #coord_equal() + \n",
    "  #geom_jitter(aes(colour=occ),size=.75) + \n",
    "  geom_point(shape=1) +\n",
    "  #geom_text(aes(label=occ)) + # Could do this perhaps\n",
    "  ggtitle(\"Hi\") + geom_smooth(method=lm)+ \n",
    "  xlab(\"x\") + ylab(\"y\") +\n",
    "  theme_classic()\n",
    "#p3"
   ]
  }
 ],
 "metadata": {
  "kernelspec": {
   "display_name": "R",
   "language": "R",
   "name": "ir"
  },
  "language_info": {
   "codemirror_mode": "r",
   "file_extension": ".r",
   "mimetype": "text/x-r-source",
   "name": "R",
   "pygments_lexer": "r",
   "version": "3.2.2"
  }
 },
 "nbformat": 4,
 "nbformat_minor": 0
}
