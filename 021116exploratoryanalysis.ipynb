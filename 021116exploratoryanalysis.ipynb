{
 "cells": [
  {
   "cell_type": "markdown",
   "metadata": {},
   "source": [
    "Jay Sayre - sayrejay (at) gmail,\n",
    "\n",
    "This is actually an R file inside a jupyter notebook, not a Python file! You need to run this in R.\n",
    "\n"
   ]
  },
  {
   "cell_type": "code",
   "execution_count": 5,
   "metadata": {
    "collapsed": false
   },
   "outputs": [
    {
     "ename": "ERROR",
     "evalue": "Error in contrib.url(repos, type): trying to use CRAN without setting a mirror\n",
     "output_type": "error",
     "traceback": [
      "Error in contrib.url(repos, type): trying to use CRAN without setting a mirror\n"
     ]
    },
    {
     "ename": "ERROR",
     "evalue": "Error in contrib.url(repos, type): trying to use CRAN without setting a mirror\n",
     "output_type": "error",
     "traceback": [
      "Error in contrib.url(repos, type): trying to use CRAN without setting a mirror\n"
     ]
    }
   ],
   "source": [
    "install.packages(\"texreg\")\n",
    "install.packages(\"tikzDevice\")"
   ]
  },
  {
   "cell_type": "code",
   "execution_count": 1,
   "metadata": {
    "collapsed": true
   },
   "outputs": [],
   "source": [
    "library(ggplot2)\n",
    "#library(texreg)\n",
    "#library(tikzDevice)\n",
    "\n",
    "setwd(\"~/Dropbox/College/DR_Paper/cafta-dr/Output/\")\n",
    "#setwd(\"D:/Dropbox/Dropbox (Personal)/College/DR_Paper/\")\n",
    "\n",
    "mundf <- read.csv(\"municipality_level_DATASET.csv\")\n",
    "munoccdf <- read.csv(\"municipality_occupation_level_DATASET.csv\")"
   ]
  },
  {
   "cell_type": "code",
   "execution_count": 2,
   "metadata": {
    "collapsed": true
   },
   "outputs": [],
   "source": [
    "### Cleanup variables in municipality level dataset\n",
    "mundf$chnginc1 <- log(1+mundf$incforocc13)-log(1+mundf$inc02)\n",
    "mundf$chnginc2 <- log(1+mundf$totalhhincpercapita13)-log(1+mundf$inc02)\n",
    "mundf$chnginc3 <- log(1+mundf$firstsourceofincome13)-log(1+mundf$inc02)\n",
    "mundf$chnginc4 <- log(1+mundf$incpercapita13)-log(1+mundf$inc02)\n",
    "mundf$prov <- factor(mundf$prov)\n",
    "mundf$chngtrf <- log(1+mundf$duty13)-log(1+mundf$duty02)"
   ]
  },
  {
   "cell_type": "code",
   "execution_count": 15,
   "metadata": {
    "collapsed": false
   },
   "outputs": [],
   "source": [
    "### Cleanup variables in municipality/occupation level dataset\n",
    "munoccdf$mean=rowMeans(munoccdf[,c(\"incforocc13\", \"firstsourceofincome13\",\n",
    "                                  \"totalhhincpercapita13\",\"incpercapita13\")],\n",
    "                       na.rm=TRUE)\n",
    "munoccdf$chnginc1 <- munoccdf$incforocc13-munoccdf$inc2002\n",
    "munoccdf$chnginc2 <- munoccdf$firstsourceofincome13-munoccdf$inc2002\n",
    "munoccdf$chnginc3 <- munoccdf$totalhhincpercapita13-munoccdf$inc2002\n",
    "munoccdf$chnginc4 <- munoccdf$incpercapita13-munoccdf$inc2002\n",
    "munoccdf$chnginc5 <- munoccdf$mean-munoccdf$inc2002\n",
    "munoccdf$chngtrf <- munoccdf$duty13-munoccdf$duty02\n",
    "munoccdf$lgchng <- log(-munoccdf$chngtrf+1)\n",
    "munoccdf$lgdty02 <-log(munoccdf$duty02+1)\n",
    "munoccdf$chngwrk <- munoccdf$numworkers10-munoccdf$numworkers02\n",
    "munoccdf$occ <- factor(munoccdf$occ)\n",
    "munoccdf$munocc <- factor(munoccdf$munocc)"
   ]
  },
  {
   "cell_type": "code",
   "execution_count": null,
   "metadata": {
    "collapsed": true
   },
   "outputs": [],
   "source": [
    "### Municipality level regressions\n",
    "#colnames(mundf)\n",
    "munreg1 <- lm(chnginc1~chngtrf+prov, data = mundf)\n",
    "#summary(munreg1)\n",
    "munreg2 <- lm(chnginc2~chngtrf+prov, data = mundf)\n",
    "#summary(munreg2)\n",
    "#munreg3 <- lm(chnginc3~chngtrf+prov, data = mundf)\n",
    "#summary(munreg3)\n",
    "munreg4 <- lm(chnginc4~chngtrf+prov, data = mundf)\n",
    "#summary(munreg4)\n",
    "\n",
    "#plot(mundf$chnginc,mundf$chngtrf)"
   ]
  },
  {
   "cell_type": "code",
   "execution_count": null,
   "metadata": {
    "collapsed": true
   },
   "outputs": [],
   "source": [
    "### Municipality/occupation level regressions\n",
    "#colnames(munoccdf)\n",
    "reg1 <- lm(chnginc1~chngtrf+chngwrk+munocc,data = munoccdf)\n",
    "#summary(reg1)\n",
    "reg2 <- lm(chnginc2~chngtrf+chngwrk+munocc,data = munoccdf)\n",
    "#summary(reg2)\n",
    "reg6 <- lm(chnginc2~chngtrf,data = munoccdf)\n",
    "#summary(reg6)\n",
    "reg3 <- lm(chnginc3~chngtrf+chngwrk+munocc,data = munoccdf)\n",
    "#summary(reg3)\n",
    "reg4 <- lm(chnginc4~chngtrf+chngwrk+munocc,data = munoccdf)\n",
    "#summary(reg4)\n",
    "reg5 <- lm(chnginc5~chngtrf+chngwrk+munocc,data = munoccdf)\n",
    "#summary(reg5)\n",
    "\n",
    "#plot(munoccdf$chnginc1,munoccdf$chngtrf)\n",
    "#plot(munoccdf$chnginc2,munoccdf$chngtrf)\n",
    "#plot(munoccdf$chnginc3,munoccdf$chngtrf)\n",
    "#plot(munoccdf$chnginc4,munoccdf$chngtrf)\n",
    "#plot(munoccdf$chnginc5,munoccdf$chngtrf)"
   ]
  }
 ],
 "metadata": {
  "kernelspec": {
   "display_name": "R",
   "language": "R",
   "name": "ir"
  },
  "language_info": {
   "codemirror_mode": "r",
   "file_extension": ".r",
   "mimetype": "text/x-r-source",
   "name": "R",
   "pygments_lexer": "r",
   "version": "3.2.2"
  }
 },
 "nbformat": 4,
 "nbformat_minor": 0
}
