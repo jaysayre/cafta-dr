{
 "cells": [
  {
   "cell_type": "markdown",
   "metadata": {},
   "source": [
    "makedominicanrepublicmap.R\n",
    "\n",
    "Jay Sayre - sayrejay (at) gmai| \n",
    "\n",
    "This needs a desciption."
   ]
  },
  {
   "cell_type": "code",
   "execution_count": 8,
   "metadata": {
    "collapsed": false
   },
   "outputs": [
    {
     "name": "stderr",
     "output_type": "stream",
     "text": [
      "Warning message:\n",
      "In install.packages(\"plyr\", repos = \"http://cran.us.r-project.org\"): installation of package ‘plyr’ had non-zero exit status"
     ]
    },
    {
     "name": "stdout",
     "output_type": "stream",
     "text": [
      "\n",
      "The downloaded source packages are in\n",
      "\t‘/tmp/Rtmpsi9sQT/downloaded_packages’\n"
     ]
    },
    {
     "name": "stderr",
     "output_type": "stream",
     "text": [
      "Updating HTML index of packages in '.Library'\n",
      "Making 'packages.html' ... done\n"
     ]
    }
   ],
   "source": [
    "library(sp)\n",
    "#install.packages(\"sp\", repos='http://cran.us.r-project.org')\n",
    "\n",
    "library(maps)\n",
    "#install.packages(\"maps\", repos='http://cran.us.r-project.org')\n",
    "library(maptools)\n",
    "#install.packages(\"maptools\", repos='http://cran.us.r-project.org')\n",
    "#library(ggmap)\n",
    "#install.packages(\"ggmap\", repos='http://cran.us.r-project.org')\n",
    "library(ggplot2)\n",
    "\n",
    "#library(rgdal)\n",
    "#install.packages(\"rgdal\", repos='http://cran.us.r-project.org')\n",
    "\n",
    "#library(plyr)\n",
    "install.packages(\"plyr\", repos='http://cran.us.r-project.org')\n"
   ]
  }
 ],
 "metadata": {
  "kernelspec": {
   "display_name": "R",
   "language": "R",
   "name": "ir"
  },
  "language_info": {
   "codemirror_mode": "r",
   "file_extension": ".r",
   "mimetype": "text/x-r-source",
   "name": "R",
   "pygments_lexer": "r",
   "version": "3.2.2"
  }
 },
 "nbformat": 4,
 "nbformat_minor": 0
}
