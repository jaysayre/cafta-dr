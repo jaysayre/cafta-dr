{
 "cells": [
  {
   "cell_type": "code",
   "execution_count": 2,
   "metadata": {
    "collapsed": true
   },
   "outputs": [],
   "source": [
    "import pandas as pd\n",
    "import os\n",
    "\n",
    "if os.name == 'nt':\n",
    "    base_dir = \"D:/Dropbox/Dropbox (Personal)/College/DR_Paper/\"\n",
    "else:\n",
    "    base_dir = \"/home/j/Dropbox/College/DR_Paper/\""
   ]
  },
  {
   "cell_type": "code",
   "execution_count": 4,
   "metadata": {
    "collapsed": false
   },
   "outputs": [],
   "source": [
    "## Build table to convert HS1996 to SITC3 data\n",
    "tconvdir = base_dir + 'Tariff Conversion/'\n",
    "hs96sitc3 = tconvdir + 'HS1996 to SITC3.xls'\n",
    "texcelfile = pd.ExcelFile(hs96sitc3)\n",
    "tcdf = texcelfile.parse(\"Conversion Table\",\n",
    "                        converters={'HS96': lambda x: str(x),\n",
    "                                    'S3': lambda x: str(x)})\n",
    "tconv = dict(zip(tcdf['HS96'],tcdf['S3']))\n",
    "tconv.update({'710820':'710820','711890':'711890','070513':'070513',\n",
    "             '090510':'090510','090590':'090590','090710':'090710',\n",
    "             '090790':'090790','121290':'121290','200999':'200999',\n",
    "             '293490':'293490','370192':'370192','390312':'390312',\n",
    "             '620362':'620362','701091':'701091','701092':'701092',\n",
    "             '701093':'701093','701094':'701094','731430':'731430',\n",
    "             '851740':'851740','852840':'852840'})"
   ]
  },
  {
   "cell_type": "code",
   "execution_count": 12,
   "metadata": {
    "collapsed": true
   },
   "outputs": [],
   "source": [
    "## Build table to convert HS1996 to ISIC3 data\n",
    "isic3convdir = base_dir + 'Tariff Conversion/HS1996toISIC3/'\n",
    "hs96isic3 = isic3convdir + 'HS1996toISIC3.csv'\n",
    "isic3 = pd.read_csv(hs96isic3, \n",
    "                    converters={'HS 1996 Product Code': lambda x: str(x),\n",
    "                                'ISIC Revision 3 Product Code': lambda x: str(x)})\n",
    "isic3.columns=['HS96', 'HSdesc', 'ISIC3', 'ISICdesc']\n",
    "isic3 = isic3[['HS96', 'ISIC3']]\n",
    "\n",
    "isic3conv = dict(zip(isic3['HS96'],isic3['ISIC3']))"
   ]
  },
  {
   "cell_type": "code",
   "execution_count": 8,
   "metadata": {
    "collapsed": false
   },
   "outputs": [],
   "source": [
    "## Merge together WTO provided data and CAFTA DR treaty data\n",
    "tardir = base_dir + 'Tariffs/HS6/'\n",
    "caftadir = base_dir + 'Treaties/'\n",
    "\n",
    "tardf = pd.read_csv(tardir+'TariffsCombined.csv')\n",
    "caftadf = pd.read_csv(caftadir+'Tariffsagg.csv')    \n",
    "\n",
    "df = tardf.merge(caftadf, left_on='HS6', right_on='HS1996', how='left')\n",
    "df = df.drop(['HS1996','DutyCode'],1)\n",
    "\n",
    "cols = list(df.columns)\n",
    "for col in cols:\n",
    "    if 'AvgRate' in col:\n",
    "        df[col] = df[col].apply(lambda x: 0 if str(x)=='nan' else x)"
   ]
  },
  {
   "cell_type": "code",
   "execution_count": 29,
   "metadata": {
    "collapsed": false
   },
   "outputs": [],
   "source": [
    "compdir = base_dir + \"DirectoryofCompaniesandEstablishments/\"\n",
    "compoutcsv = base_dir + 'companiestariffs.csv'\n",
    "\n",
    "## Merge together tariff data and Empresas by municipality\n",
    "compdirdf = df\n",
    "\n",
    "lines = [a for a in compdirdf.columns if 'Lines' in a]\n",
    "compdirdf = compdirdf.drop(lines, 1)\n",
    "\n",
    "#Convert HS2002 codes into ISIC3 codes\n",
    "compdirdf['ISIC'] = compdirdf['HS6'].apply(lambda x: \"'\"+isic3conv[x.replace(\"'\",\"\")])       \n",
    "compdirdf.drop('HS6',1)\n",
    "compdirdf = compdirdf.groupby('ISIC', as_index=False)[list(compdirdf.columns)].mean()\n",
    "\n",
    "#Merge with municipality level company data\n",
    "companiesdf = pd.read_csv(compdir+'empresasbymunici.csv')\n",
    "\n",
    "companiesdf = companiesdf.merge(compdirdf, on=\"ISIC\",how='left')\n",
    "companiesdf.to_csv(compoutcsv, index=False)"
   ]
  },
  {
   "cell_type": "code",
   "execution_count": null,
   "metadata": {
    "collapsed": true
   },
   "outputs": [],
   "source": [
    "## Part below copied from area share companies on 1/27/16 - Need to fix this script anyway"
   ]
  },
  {
   "cell_type": "code",
   "execution_count": null,
   "metadata": {
    "collapsed": true
   },
   "outputs": [],
   "source": [
    "## Compute weighted average of import competing tariff for each\n",
    "## municipality/province\n",
    "comptarcsv = '/home/j/Dropbox/College/DR_Paper/companiestariffs.csv'\n",
    "municicsv = '/home/j/Dropbox/College/DR_Paper/municitariffs.csv'\n",
    "provcsv = '/home/j/Dropbox/College/DR_Paper/provtariffs.csv'\n",
    "\n",
    "compdf = pd.read_csv(comptarcsv)\n",
    "\n",
    "# Reduces data frame down to only \"import competing\" (wink) industries\n",
    "# You want to look into this later, of course\n",
    "compdf = compdf[compdf['duty2007'].astype(str) != 'nan'] \n",
    "\n",
    "#Calculate \"new\" number of companies in province and municipality\n",
    "compdf = compdf.drop(['MUNICINUM','PROVNUM'],1)\n",
    "calcdf = compdf\n",
    "calcdf = calcdf[list(calcdf.columns)[:4]]\n",
    "municidf2 = calcdf.groupby(['PROVINCE','MUNICIPIO'], as_index=False).sum()\n",
    "provdf2 = calcdf.groupby('PROVINCE', as_index=False)['EMPRESAS'].sum()\n",
    "municidf2.columns = ['PROVINCE','MUNICIPIO','MUNICINUM']\n",
    "provdf2.columns = ['PROVINCE','PROVNUM']\n",
    "\n",
    "compdf = compdf.merge(municidf2, on=['PROVINCE','MUNICIPIO'], how='left')\n",
    "compdf = compdf.merge(provdf2, on=['PROVINCE'], how='left')\n",
    "compdf['MUNSHARE'] = compdf['EMPRESAS']/compdf['MUNICINUM']\n",
    "compdf['PROVSHARE'] = compdf['EMPRESAS']/compdf['PROVNUM']\n",
    "\n",
    "## Calculate weighted tariff for each province and municipality\n",
    "for col in list(compdf.columns)[4:25]: # Might need to check columns\n",
    "    compdf['wptr'+col] = compdf[col] * compdf['PROVSHARE']\n",
    "    compdf['wmtr'+col] = compdf[col] * compdf['MUNSHARE']\n",
    "    \n",
    "#df.loc[i,'duty'+str(year)]=ctariff(df['Base'][i]\n",
    "\n",
    "## Sum down to municipality and province tariff averages\n",
    "\n",
    "# Province level\n",
    "provtariffdf= compdf\n",
    "provkeeps = [a for a in provtariffdf.columns if 'wptr' in a]\n",
    "provkeeps.extend(['PROVINCE'])\n",
    "provtariffdf = provtariffdf[provkeeps]\n",
    "provcols = list(provtariffdf.columns)\n",
    "provcols.remove('PROVINCE')\n",
    "provtariffdf = provtariffdf.groupby('PROVINCE', as_index=False)[provcols].sum()\n",
    "provtariffdf.to_csv(provcsv,index=False)\n",
    "\n",
    "# Municipality level\n",
    "municitariffdf = compdf\n",
    "municikeeps = [a for a in municitariffdf.columns if 'wmtr' in a]\n",
    "municikeeps.extend(['MUNICIPIO'])\n",
    "municitariffdf = municitariffdf[municikeeps]\n",
    "municicols = list(municitariffdf.columns)\n",
    "municicols.remove('MUNICIPIO')\n",
    "municitariffdf = municitariffdf.groupby('MUNICIPIO', as_index=False)[municicols].sum()\n",
    "municitariffdf.to_csv(municicsv,index=False)"
   ]
  },
  {
   "cell_type": "code",
   "execution_count": null,
   "metadata": {
    "collapsed": true
   },
   "outputs": [],
   "source": [
    "## Merge together tariff data and U.S. Import/Export data\n",
    "## This is for the paper I wrote this summer\n",
    "## DEPRECATED\n",
    "\n",
    "importdf =  df\n",
    "outputcsv = base_dir + 'tariffsacrossyears.csv'\n",
    "impcsv = base_dir + 'ValueExportsImportsDR-US/allyears.csv'\n",
    "\n",
    "lines = [a for a in importdf.columns if 'Lines' in a]\n",
    "importdf = importdf.drop(lines, 1)\n",
    "importdf = importdf.drop(['HS6'],1)\n",
    "\n",
    "## Aggregate data down to SITC v3 3 digit level\n",
    "importdf['S3'] = importdf['HS6'].apply(lambda x: tconv[x.replace(\"'\",\"\")][:3])       \n",
    "importdf = importdf.groupby('S3', as_index=False)[list(importdf.columns)].mean()\n",
    "\n",
    "## Merge with U.S. Import/Export data\n",
    "impdf = pd.read_csv(impcsv)\n",
    "impdf['SITC'] = impdf['SITC'].apply(lambda  x: x.replace(\"'\",\"\"))\n",
    "importdf = importdf.merge(impdf, left_on='S3', right_on='SITC', how='left')\n",
    "importdf = importdf.drop(['SITC'],1)\n",
    "importdf['S3'] = importdf['S3'].apply(lambda x: \"'\"+x)\n",
    "\n",
    "importdf.to_csv(outputcsv, index=False)"
   ]
  },
  {
   "cell_type": "code",
   "execution_count": 26,
   "metadata": {
    "collapsed": false
   },
   "outputs": [],
   "source": [
    "## Merge income numbers with municipality level tariff data\n",
    "## Only used for test conducted on 9/13/2015\n",
    "\n",
    "municitarf = base_dir + \"municitariffs.csv\"\n",
    "#munemp = base_dir + \"DirectoryofCompaniesandEstablishments/municipalitycodecorrespondence.csv\"\n",
    "income = base_dir + \"MUNICIoccinc.csv\"\n",
    "\n",
    "\n",
    "municitarfdf = pd.read_csv(municitarf)\n",
    "#munempdf = pd.read_csv(munemp,encoding='utf-8')\n",
    "#munempdf = munempdf.drop([u'PROVINCE_DESC',u'MUNICIPIO_DESC'],1)\n",
    "incomedf = pd.read_csv(income)\n",
    "incomedf['MUNICIPIO'] = incomedf['PROV'].astype(str)+'0'+incomedf['MUN'].astype(str)\n",
    "incomedf.drop(['PROV','MUN'],1, inplace=True)\n",
    "incomedf.columns = ['INC07', 'INC13','MUNICIPIO']\n",
    "\n",
    "\n",
    "#municitarfdf = municitarfdf.merge(munempdf, on='MUNICIPIO', how='left')\n",
    "municitarfdf['MUNICIPIO'] = municitarfdf['MUNICIPIO'].astype(str)\n",
    "municitarfdf = municitarfdf.merge(incomedf, on='MUNICIPIO', how='left')\n",
    "municitarfdf.to_csv(base_dir + 'municitarincocc.csv',index=False,encoding='utf-8')"
   ]
  },
  {
   "cell_type": "code",
   "execution_count": 38,
   "metadata": {
    "collapsed": false
   },
   "outputs": [],
   "source": [
    "## Merge income numbers with province level tariff data\n",
    "## Only used for test conducted on 9/13/2015\n",
    "\n",
    "provtarf = base_dir + \"provtariffs.csv\"\n",
    "income = base_dir + \"PROVoccinc.csv\"\n",
    "\n",
    "\n",
    "provtarfdf = pd.read_csv(provtarf)\n",
    "incomedf = pd.read_csv(income)\n",
    "incomedf.columns = ['PROVINCE','INC07', 'INC13']\n",
    "\n",
    "provtarfdf = provtarfdf.merge(incomedf, on='PROVINCE', how='left')\n",
    "provtarfdf.to_csv(base_dir + 'provtarincocc.csv',index=False,encoding='utf-8')"
   ]
  }
 ],
 "metadata": {
  "kernelspec": {
   "display_name": "Python 2",
   "language": "python",
   "name": "python2"
  },
  "language_info": {
   "codemirror_mode": {
    "name": "ipython",
    "version": 2
   },
   "file_extension": ".py",
   "mimetype": "text/x-python",
   "name": "python",
   "nbconvert_exporter": "python",
   "pygments_lexer": "ipython2",
   "version": "2.7.11"
  }
 },
 "nbformat": 4,
 "nbformat_minor": 0
}
