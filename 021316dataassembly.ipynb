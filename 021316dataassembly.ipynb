{
 "cells": [
  {
   "cell_type": "markdown",
   "metadata": {},
   "source": [
    "dataassembly.py\n",
    "Jay Sayre - sayrejay (at) Gmai|, \n",
    "\n",
    "Purpose: Combines various datasets and preps code for analysis (see exploratoryanalysis.R script)\n",
    "\n",
    "Inputs:\n",
    "\n",
    "Produced by mergingtariffandindustrydata.py:\n",
    "\"cafta-dr/Output/ISICtwodigitleveltariffs.csv\" - tariff averages at the ISIC 2-digit level for 2002 and 2013\n",
    "\n",
    "\"cafta-dr/Output/municipalityaverageisic4dig.csv\" - municipality level tariff averages using ISIC 4 digit codes for the D.R. in 2013, using empresas data produced by the script compute_regional_employment.py, updated on 2/13/16\n",
    "    \n",
    "\"cafta-dr/Output/municipalityaveragetariff2002.csv\" - municipality level tariff averages (for import competing industries, where import competing is considered harmonized system goods that correspond to ISIC\n",
    "codes based upon conversion table) for the D.R. in 2002, using estimated industrial activity in a municipality for 2002 produced by the script mergingtariffandindustrydata.py\n",
    "\n",
    "\"cafta-dr/Output/municipalityaveragetariff2013.csv\" - municipality level tariff averages (for import competing industries, where import competing is considered harmonized system goods that correspond to ISIC\n",
    "codes based upon conversion table) for the D.R. in 2013, using estimated industrial activity in a municipality for 2010 produced by the script mergingtariffandindustrydata.py\n",
    "\n",
    "Produced by DHSdataaggregation.py:\n",
    "\"averageincomebymunicipality2013.csv\" - Average income in each D.R. municipality for 2013\n",
    "\n",
    "\"averageincomebyoccmun2013.csv\" - Average income in each D.R. municipality and occupation for 2013\n",
    "\n",
    "Produced by IPUMSdataaggregation.py:\n",
    "'averageincomebymunicipality2002.csv' - IPUMS 2002 information on the average income of workers in the private sector for a given D.R. municipality\n",
    "\n",
    "'averageincomebyoccmun2002.csv' - IPUMS 2002 information on the average income of workers in a given ISIC occupation code for a given D.R. municipality\n",
    "\n",
    "Produced by compute_regional_employment.py:\n",
    "\n",
    "estmunicipalindustryactivity2002.csv - Combines D.R. empresa data and IPUMS data at the ISIC 2-digit level for 2002\n",
    "estmunicipalindustryactivity2010.csv - Combines D.R. empresa data and IPUMS data at the ISIC 2-digit level for 2010\n",
    "\n",
    "Outputs:\n",
    "\n",
    "'mun_level_isic4dig_DATASET.csv' - contains income and tariff levels at\n",
    "for 2002 and 2013 at the municipality level (using ISIC four digit, just empresas), to be analyzed later in R\n",
    "or STATA\n",
    "\n",
    "'municipality_level_DATASET.csv' - contains income and tariff levels at\n",
    "for 2002 and 2013 at the municipality level (using ISIC two digit, IPUMS+empresas), to be analyzed later in R\n",
    "or STATA\n",
    "\n",
    "'municipality_occupation_level_DATASET.csv' - contains income and tariff levels for 2002 and 2013 at the municipality and occupational level, to be analyzed later in R or STATA"
   ]
  },
  {
   "cell_type": "code",
   "execution_count": 2,
   "metadata": {
    "collapsed": false
   },
   "outputs": [],
   "source": [
    "import pandas as pd\n",
    "import os\n",
    "\n",
    "if os.name == 'nt':\n",
    "    basedir =\"D:/Dropbox/Dropbox (Personal)/College/DR_Paper/\"\n",
    "else:\n",
    "    basedir =\"/home/j/Dropbox/College/DR_Paper/\"\n",
    "\n",
    "outputdir = basedir+'cafta-dr/Output/'\n",
    "    \n",
    "## INPUTS\n",
    "isictariffs = outputdir+'ISICtwodigitleveltariffs.csv' #MUN/OCC\n",
    "muntariffisic4dig = outputdir+'municipalityaverageisic4dig.csv' # MUN/ISIC 4 DIG\n",
    "muntariff2002 = outputdir+'municipalityaveragetariff2002.csv' #MUN\n",
    "muntariff2013 = outputdir+'municipalityaveragetariff2013.csv' #MUN\n",
    "munavginc2002 = outputdir+'averageincomebymunicipality2002.csv' #MUN\n",
    "munavginc2013 = outputdir+'averageincomebymunicipality2013.csv' #MUN\n",
    "munavgincocc2002 = outputdir+'averageincomebyoccmun2002.csv' #MUN/OCC\n",
    "munavgincocc2013 = outputdir+'averageincomebyoccmun2013.csv' #MUN/OCC\n",
    "industry2002 = outputdir+'estmunicipalindustryactivity2002.csv' #MUN/OCC\n",
    "industry2010 = outputdir+'estmunicipalindustryactivity2010.csv' #MUN/OCC\n",
    "\n",
    "## OUTPUTS\n",
    "munisic4output = outputdir+'mun_level_isic4dig_DATASET.csv'\n",
    "munoutput = outputdir+'municipality_level_DATASET.csv'\n",
    "munoccoutput = outputdir+'municipality_occupation_level_DATASET.csv'"
   ]
  },
  {
   "cell_type": "code",
   "execution_count": 3,
   "metadata": {
    "collapsed": false
   },
   "outputs": [],
   "source": [
    "### Build municipality level tariff/income data set aka #MUN\n",
    "\n",
    "tariffdf02 = pd.read_csv(muntariff2002)\n",
    "tariffdf13 = pd.read_csv(muntariff2013)\n",
    "avgincdf02 = pd.read_csv(munavginc2002)\n",
    "avgincdf13 = pd.read_csv(munavginc2013)\n",
    "\n",
    "tariffdf02.columns = ['mun','duty02']\n",
    "tariffdf13.columns = ['mun','duty13']\n",
    "avgincdf02.columns = ['inc02','mun']\n",
    "avgincdf13.drop(['PROV','MUN'],1,inplace=True)\n",
    "avgincdf13.columns = ['grossalary13', u'occinc13', u'frstsourcinc13','mun']\n",
    "avgincdf13['mun']=avgincdf13['mun'].astype(str)\n",
    "\n",
    "mundf = tariffdf02.merge(tariffdf13,on='mun')\n",
    "mundf['mun']=mundf['mun'].astype(str)\n",
    "mundf = mundf.merge(avgincdf02,on='mun')\n",
    "mundf = mundf.merge(avgincdf13,on='mun')\n",
    "mundf['prov'] = mundf['mun'].apply(lambda x: x[:1] if len(x)==3 else x[:2])\n"
   ]
  },
  {
   "cell_type": "code",
   "execution_count": 4,
   "metadata": {
    "collapsed": false
   },
   "outputs": [],
   "source": [
    "### Build municipality level tariff/income data set aka #MUN/ISIC 4 dig\n",
    "\n",
    "tariff4digdf = pd.read_csv(muntariffisic4dig)\n",
    "avgincdf02 = pd.read_csv(munavginc2002)\n",
    "avgincdf13 = pd.read_csv(munavginc2013)\n",
    "\n",
    "tariff4digdf.columns = ['mun','duty02','duty13']\n",
    "tariff4digdf['mun']=tariff4digdf['mun'].astype(str)\n",
    "avgincdf02.columns = ['inc02','mun']\n",
    "avgincdf13.drop(['PROV','MUN'],1,inplace=True)\n",
    "avgincdf13.columns = ['grossalary13','occinc13','frstsourcinc13','mun']\n",
    "avgincdf13['mun']=avgincdf13['mun'].astype(str)\n",
    "\n",
    "mun4digdf = tariff4digdf.merge(avgincdf02,on='mun')\n",
    "mun4digdf = mun4digdf.merge(avgincdf13,on='mun')\n",
    "mun4digdf['prov'] = mun4digdf['mun'].apply(lambda x: x[:1] if len(x)==3 else x[:2])\n"
   ]
  },
  {
   "cell_type": "code",
   "execution_count": 5,
   "metadata": {
    "collapsed": false
   },
   "outputs": [],
   "source": [
    "### Build municipality and occupation level tariff/income data set aka #MUN/OCC\n",
    "\n",
    "munoccdf02 = pd.read_csv(munavgincocc2002)\n",
    "munoccdf13 = pd.read_csv(munavgincocc2013)\n",
    "isictwodig = pd.read_csv(isictariffs)\n",
    "industryact02 = pd.read_csv(industry2002)\n",
    "industryact10 = pd.read_csv(industry2010)\n",
    "\n",
    "## Prepare data for merging\n",
    "munoccdf13.drop(['PROV','MUN'],1,inplace=True)\n",
    "munoccdf02.columns=['occ','mun','inc2002']\n",
    "munoccdf13.columns = ['occ','grossalary13','occinc13','frstsourcinc13','mun']\n",
    "isictwodig.columns=['occ','duty02','duty13','nontraded']\n",
    "industryact02 = industryact02.set_index('mun').stack().reset_index()\n",
    "industryact10 = industryact10.set_index('mun').stack().reset_index()\n",
    "industryact02.columns=['mun','occ','numworkers02']\n",
    "industryact10.columns=['mun','occ','numworkers10']\n",
    "## Make sure all merge columns are of the same type\n",
    "## This shouldn't be necessary, but I couldn't fix merge issues otherwise\n",
    "## Whatever, it only means code is longer than it has to be.. oh well\n",
    "munoccdf02['munocc']=munoccdf02['mun'].astype(str)+'  '+munoccdf02['occ'].astype(str)\n",
    "munoccdf13['munocc']=munoccdf13['mun'].astype(str)+'  '+munoccdf13['occ'].astype(str)\n",
    "industryact02['munocc']=industryact02['mun'].astype(str)+'  '+industryact02['occ'].astype(str)\n",
    "industryact10['munocc']=industryact10['mun'].astype(str)+'  '+industryact10['occ'].astype(str)\n",
    "munoccdf02.drop(['mun','occ'],1,inplace=True)\n",
    "munoccdf13.drop(['mun','occ'],1,inplace=True)\n",
    "industryact02.drop(['mun','occ'],1,inplace=True)\n",
    "industryact10.drop(['mun','occ'],1,inplace=True)\n",
    "isictwodig['occ']=isictwodig['occ'].astype(str)\n",
    "\n",
    "## Merge all files together\n",
    "munoccdf = munoccdf02.merge(munoccdf13,on='munocc')\n",
    "munoccdf = munoccdf.merge(industryact02,on='munocc')\n",
    "munoccdf = munoccdf.merge(industryact10,on='munocc')\n",
    "munoccdf['occ'] = munoccdf['munocc'].apply(lambda x: x.split('  ')[1])\n",
    "munoccdf['munocc'] = munoccdf['munocc'].apply(lambda x: x.split(' ')[0])\n",
    "munoccdf = munoccdf.merge(isictwodig,on='occ')"
   ]
  },
  {
   "cell_type": "code",
   "execution_count": 6,
   "metadata": {
    "collapsed": true
   },
   "outputs": [],
   "source": [
    "### Write outputs to file\n",
    "mundf.to_csv(munoutput,index=False)\n",
    "mun4digdf.to_csv(munisic4output,index=False)\n",
    "munoccdf.to_csv(munoccoutput,index=False)"
   ]
  }
 ],
 "metadata": {
  "kernelspec": {
   "display_name": "Python 2",
   "language": "python",
   "name": "python2"
  },
  "language_info": {
   "codemirror_mode": {
    "name": "ipython",
    "version": 2
   },
   "file_extension": ".py",
   "mimetype": "text/x-python",
   "name": "python",
   "nbconvert_exporter": "python",
   "pygments_lexer": "ipython2",
   "version": "2.7.11"
  }
 },
 "nbformat": 4,
 "nbformat_minor": 0
}
