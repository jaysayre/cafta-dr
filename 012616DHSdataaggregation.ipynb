{
 "cells": [
  {
   "cell_type": "markdown",
   "metadata": {},
   "source": [
    "011816incomeandwagedataaggregation.py - Takes DHS data and\n",
    "aggregates the variables in the files (most importantly income and wage data) to the sector and municipality level, after making necessary cleaning and merging steps\n",
    "\n",
    "Jay Sayre - sayrejay@gmail.com\n",
    "\n",
    "INPUTS: \n",
    "\n",
    "\"DHS/2013Standard/geo/merge2013clust.csv\" - DHS 2013 Dominican Republic geospatial data corresponding to geo-tagged keys in DHS 2013 dataset, compiled by extractoneshapefiletopoint.py\n",
    "\n",
    "\"DHS/2013Standard/hhmember/DRPR61FL.csv\" - DHS 2013 Dominican Republic Household Member Dataset (converted to csv by DHS/DHSbuild.R script)\n",
    "\n",
    "Also potentially 2007 DHS data\n",
    "\n",
    "INTERMEDIATE DATA: N/A\n",
    "\n",
    "OUTPUTS: \"averageincomebymunicipality2010.csv\" - Average income in each D.R. municipality for 2013"
   ]
  },
  {
   "cell_type": "code",
   "execution_count": 2,
   "metadata": {
    "collapsed": false
   },
   "outputs": [],
   "source": [
    "import pandas as pd\n",
    "import os\n",
    "\n",
    "if os.name == 'nt':\n",
    "    base_dir = \"D:/Dropbox/Dropbox (Personal)/College/DR_Paper/\"\n",
    "else:\n",
    "    base_dir = \"/home/j/Dropbox/College/DR_Paper/\""
   ]
  },
  {
   "cell_type": "markdown",
   "metadata": {},
   "source": [
    "Takes the DHS geocluster csvs (merged with ONE municipality codes by 091215extractoneshapefiletopoint.py and converted to csvs by 091215dbftodata.py) and merges them with DHS samples\n",
    "\n",
    "Number of DHS clusters incorrectly marked in another province: 53"
   ]
  },
  {
   "cell_type": "code",
   "execution_count": 8,
   "metadata": {
    "collapsed": false
   },
   "outputs": [],
   "source": [
    "dhs_geoclust_2007 = base_dir + \"DHS/2007Standard/geo/merge2007clust.csv\"\n",
    "dhs_hhmember_2007 = base_dir + \"DHS/2007Standard/hhmember/DRPR52FL.csv\" # Converted to csv by DHSbuild.R in  main directory\n",
    "dhs_geoclust_2013 = base_dir + \"DHS/2013Standard/geo/merge2013clust.csv\"\n",
    "dhs_hhmember_2013 = base_dir + \"DHS/2013Standard/hhmember/DRPR61FL.csv\" # Converted to csv by DHSbuild.R in  main directory\n",
    "\n",
    "geo_df_2007 = pd.read_csv(dhs_geoclust_2007)\n",
    "geo_df_2013 = pd.read_csv(dhs_geoclust_2013, encoding='latin_1')\n",
    "dhs_data_2007 = pd.read_csv(dhs_hhmember_2007)\n",
    "dhs_data_2013 = pd.read_csv(dhs_hhmember_2013, encoding='latin_1')\n",
    "\n",
    "# Subset geocluster datasets down to relevant variables\n",
    "geo_keep_cols = ['ADM1DHS','ALT_DEM',\"DHSCLUST\",\"MUN\",\"PROV\",\"REG\",\"URBAN_RURA\"]\n",
    "geo_df_2007 = geo_df_2007[geo_keep_cols]\n",
    "geo_df_2013 = geo_df_2013[geo_keep_cols]\n",
    "\n",
    "#May want to apply some correction to municipality displacement. Only problem is correction isn't possible for 2013 data.\n",
    "# Commented section below tests whether different shapefile has better municipality displacement, which it does not.\n",
    "#count = 0 \n",
    "#for i in geo_df_2013.index:\n",
    "#    if geo_df_2013['ADM1DHS'][i] != geo_df_2013['PROV'][i]:\n",
    "#        count += 1\n",
    "#print \"Number of DHS clusters incorrectly marked in another province:\", count\n",
    "\n",
    "dhs_data_2007 = dhs_data_2007.merge(geo_df_2007, left_on=\"hv001\", right_on=\"DHSCLUST\", how=\"left\")\n",
    "dhs_data_2013 = dhs_data_2013.merge(geo_df_2013, left_on=\"hv001\", right_on=\"DHSCLUST\", how=\"left\")"
   ]
  },
  {
   "cell_type": "raw",
   "metadata": {
    "collapsed": false
   },
   "source": [
    "### DEPRECATED\n",
    "## Used to test whether DIVA-GIS provided ADM shapefile is more accurate. \n",
    "## It isn't.\n",
    "## 60 missing clusters\n",
    "\n",
    "#dhs_testclust_2007 = base_dir + \"DHS/2007Standard/geo/TEST2007clust.csv\"\n",
    "#dhs_testmerge = base_dir + \"DR Codigos/muncorrespondence.csv\"\n",
    "\n",
    "#geo_df_test = pd.read_csv(dhs_testclust_2007)\n",
    "#test_keeps = ['ADM1DHS','ALT_DEM',\"DHSCLUST\",\"URBAN_RURA\",\"ID_1\",\"ID_2\"]\n",
    "#geo_df_test = geo_df_test[test_keeps]\n",
    "#geo_df_test.columns = ['ADM1DHS','ALT_DEM',\"DHSCLUST\",\"URBAN_RURA\",\"GEOID_1\",\"GEOID_2\"]\n",
    "#testcode = pd.read_csv(dhs_testmerge)\n",
    "#testcode = testcode[[u'REGION', u'PROV', u'MUN', u'GEOID_1', u'GEOID_2']]\n",
    "\n",
    "#geo_df_test = geo_df_test.merge(testcode, on=['GEOID_1', 'GEOID_2'], how='left')\n",
    "\n",
    "#count = 0 \n",
    "#for i in geo_df_test.index:\n",
    "#    if geo_df_test['ADM1DHS'][i] != geo_df_test['PROV'][i]:\n",
    "#        count += 1\n",
    "#print count"
   ]
  },
  {
   "cell_type": "code",
   "execution_count": 4,
   "metadata": {
    "collapsed": false
   },
   "outputs": [],
   "source": [
    "def codigo(prov):\n",
    "    prov = str(prov)\n",
    "    if len(prov) == 1:\n",
    "        return '0'+prov\n",
    "    else:\n",
    "        return prov"
   ]
  },
  {
   "cell_type": "code",
   "execution_count": 12,
   "metadata": {
    "collapsed": false
   },
   "outputs": [
    {
     "name": "stdout",
     "output_type": "stream",
     "text": [
      "[nan u'peones de la industria manufacturera'\n",
      " u'conductores de veh\\xedculos de motor'\n",
      " u'personal de enfermer\\xeda y parter\\xeda de nivel superior'\n",
      " u'profesionales de nivel medio de servicios de administraci\\xf3n'\n",
      " u'm\\xe9dicos y profesionales afines (excepto el personal de enfermer\\xeda y parter\\xeda)'\n",
      " u'vendedores y demostradores de tiendas y almacenes'\n",
      " u'maestros de nivel superior de la ense\\xf1anza primaria y preescolar'\n",
      " u'vendedores de quioscos y de puestos de mercado'\n",
      " u'personal dom\\xe9stico y afines, limpiadores, lavanderos y planchadores'\n",
      " u'profesionales en ciencias biol\\xf3gicas y otras disciplinas relativas a los seres o'\n",
      " u'otros directores de departamentos'\n",
      " u'oficiales y operarios de la construcci\\xf3n (obra gruesa) y afines'\n",
      " u'peones de la miner\\xeda y la construcci\\xf3n'\n",
      " u'agricultores y trabajadores calificados de cultivos para el mercado'\n",
      " u'secretarios y operadores de m\\xe1quinas de oficina'\n",
      " u'conserjes, lavadores de ventanas y afines'\n",
      " u'mec\\xe1nicos y ajustadores de m\\xe1quinas'\n",
      " u'mec\\xe1nicos y ajustadores de equipos el\\xe9ctricos y electr\\xf3nicos'\n",
      " u'mensajeros, porteadores, porteros y afines'\n",
      " u'otros profesionales de la ense\\xf1anza'\n",
      " u'otros trabajadores de servicios personales a particulares'\n",
      " u'oficiales y operarios del tratamiento de la madera, ebanistas y afines'\n",
      " u'peones del transporte'\n",
      " u'personal de los servicios de protecci\\xf3n y seguridad'\n",
      " u'productores y trabajadores agropecuarios calificados cuya producci\\xf3n se destina '\n",
      " u't\\xe9cnicos en programaci\\xf3n y control inform\\xe1ticos'\n",
      " u'profesionales de nivel medio en operaciones financieras y comerciales'\n",
      " u'oficiales y operarios de los textiles y de la confecci\\xf3n y afines'\n",
      " u'oficiales y operarios de la construcci\\xf3n (trabajos de acabado) y afines'\n",
      " u'cajeros, taquilleros y afines'\n",
      " u'maestros de nivel medio de la ense\\xf1anza primaria'\n",
      " u'trabajadores de los cuidados personales y afines' u\"don't know\"\n",
      " u'peones agropecuarios, forestales, pesqueros y afines'\n",
      " u'operadores de equipos \\xf3pticos y electr\\xf3nicos'\n",
      " u'vendedores ambulantes y afines' u'gerentes de empresa'\n",
      " u'personal de intendencia y de restauraci\\xf3n'\n",
      " u'empleados encargados del registro de materiales y de transportes'\n",
      " u'herreros, herramentistas y afines'\n",
      " u'miembros del poder ejecutivo y de los cuerpos legislativos'\n",
      " u'directores de departamentos de producci\\xf3n y operaciones'\n",
      " u't\\xe9cnicos en ciencias f\\xedsicas y qu\\xedmicas y en ingenier\\xeda'\n",
      " u'operadores de instalaciones de vidrier\\xeda, cer\\xe1mica y afines'\n",
      " u'fuerzas armadas' u'pescadores, cazadores y tramperos'\n",
      " u'arquitectos, ingenieros y afines'\n",
      " u'empleados de servicios de informaci\\xf3n a la clientela'\n",
      " u'pintores, limpiadores de fachadas y afines'\n",
      " u'moldeadores, soldadores, chapistas, caldereros, montadores de estructuras met\\xe1li'\n",
      " u'otros operadores de m\\xe1quinas y montadores'\n",
      " u'operadores de m\\xe1quinas para fabricar productos textiles y art\\xedculos de piel y cu'\n",
      " u'personal directivo de la administraci\\xf3n p\\xfablica'\n",
      " u'personal al servicio directo de los pasajeros'\n",
      " u'jefes de peque\\xf1as poblaciones'\n",
      " u'inspectores de obras, seguridad y salud y control de calidad'\n",
      " u'profesionales de nivel medio de actividades art\\xedsticas, espect\\xe1culos y deportes'\n",
      " u'profesores de universidades y otros establecimientos de la ense\\xf1anza superior'\n",
      " u'operadores de instalaciones de procesamiento de la madera y de la fabricaci\\xf3n de'\n",
      " u'oficiales y operarios del procesamiento de alimentos y afines'\n",
      " u'criadores y trabajadores pecuarios calificados de la cr\\xeda de animales para el me'\n",
      " u'archiveros, bibliotecarios, documentalistas y afines'\n",
      " u'otros oficinistas' u'alfareros, operarios de cristaler\\xedas y afines'\n",
      " u'profesionales del derecho'\n",
      " u'operadores de maquinaria agr\\xedcola m\\xf3vil y de otras m\\xe1quinas m\\xf3viles'\n",
      " u'sacerdotes de distintas religiones' u'recolectores de basura y afines'\n",
      " u'operadores de m\\xe1quinas para fabricar productos de caucho y de material pl\\xe1stico'\n",
      " u'limpiabotas y otros trabajadores callejeros'\n",
      " u'astr\\xf3logos, adivinadores y afines'\n",
      " u'operadores de m\\xe1quinas para fabricar productos qu\\xedmicos'\n",
      " u'operadores de m\\xe1quinas para elaborar alimentos y productos afines'\n",
      " u'especialistas en ciencias sociales y humanas'\n",
      " u'oficiales y operarios de las pieles, cuero y calzado'\n",
      " u'operadores de m\\xe1quinas de imprenta, encuadernaci\\xf3n y fabricaci\\xf3n de productos de'\n",
      " u'profesionales de nivel medio de la medicina moderna y la salud (excepto el perso'\n",
      " u'operadores de m\\xe1quinas para trabajar metales y productos minerales'\n",
      " u'otros maestros e instructores de nivel medio'\n",
      " u'profesores de la ense\\xf1anza secundaria'\n",
      " u'maestros de nivel medio de la ense\\xf1anza preescolar'\n",
      " u'empleados de bibliotecas y servicios de correos y afines'\n",
      " u'especialistas en organizaci\\xf3n y administaci\\xf3n de empresas  y afines'\n",
      " u'oficiales y operarios de las artes gr\\xe1ficas y afines'\n",
      " u'operadores de instalaciones mineras y de extracci\\xf3n y procesamiento de minerales'\n",
      " u'operadores de instalaciones de producci\\xf3n de energ\\xeda y afines'\n",
      " u'trabajadores y asistentes sociales de nivel medio'\n",
      " u'personal de enfermer\\xeda y parter\\xeda de nivel medio'\n",
      " u'f\\xedsicos, qu\\xedmicos y afines'\n",
      " u'trabajadores forestales calificados y afines' u'other'\n",
      " u'agentes de las administraciones p\\xfablicas de aduanas, impuestos y afines'\n",
      " u'escritores, artistas creativos y ejecutantes' u'montadores'\n",
      " u'directores generales y gerentes generales de empresa'\n",
      " u'agentes comerciales y corredores'\n",
      " u'mec\\xe1nicos de precisi\\xf3n en metales y materiales similares'\n",
      " u'profesionales de la inform\\xe1tica'\n",
      " u't\\xe9cnicos de nivel medio en ciencias biol\\xf3gicas, agronom\\xeda, zootecnia y afines'\n",
      " u'auxiliares laicos de los cultos' u'marineros de cubierta y afines'\n",
      " u'dirigentes y administradores de organizaciones especializadas'\n",
      " u't\\xe9cnicos en navegaci\\xf3n mar\\xedtima y aeron\\xe1utica'\n",
      " u'auxiliares contables y financieros'\n",
      " u'modelos de modas, arte y publicidad'\n",
      " u'maestros e instructores de nivel superior de la ense\\xf1anza especial']\n"
     ]
    }
   ],
   "source": [
    "## Subset down to workers employed in the private sector\n",
    "#Do I want to include the 162 some employers here? 'employer'\n",
    "#dhs_data_2013 = dhs_data_2013[dhs_data_2013['sg111'] == \"private employee\"] \n",
    "print dhs_data_2013['sg110'].unique() # detailed employment categories (espanol)\n",
    "#dhs_data_2013['sg112a'].unique() # gross salary\n",
    "\n",
    "#print dhs_data_2007['gs14'].unique() #these are the codes in 2013/occ categories\n",
    "#print dhs_data_2007['gs16'].unique()"
   ]
  },
  {
   "cell_type": "code",
   "execution_count": 1,
   "metadata": {
    "collapsed": false
   },
   "outputs": [
    {
     "ename": "NameError",
     "evalue": "name 'dhs_data_2013' is not defined",
     "output_type": "error",
     "traceback": [
      "\u001b[1;31m---------------------------------------------------------------------------\u001b[0m",
      "\u001b[1;31mNameError\u001b[0m                                 Traceback (most recent call last)",
      "\u001b[1;32m<ipython-input-1-d7acc2edf943>\u001b[0m in \u001b[0;36m<module>\u001b[1;34m()\u001b[0m\n\u001b[0;32m      1\u001b[0m \u001b[1;31m#Check average income numbers for DR and if they match up with GDP P.C.\u001b[0m\u001b[1;33m\u001b[0m\u001b[1;33m\u001b[0m\u001b[0m\n\u001b[0;32m      2\u001b[0m \u001b[1;31m# 2013 -  5,968.7, 2002 - 3,008.5\u001b[0m\u001b[1;33m\u001b[0m\u001b[1;33m\u001b[0m\u001b[0m\n\u001b[1;32m----> 3\u001b[1;33m \u001b[1;32mprint\u001b[0m \u001b[0mdhs_data_2013\u001b[0m\u001b[1;33m[\u001b[0m\u001b[1;34m'sg111'\u001b[0m\u001b[1;33m]\u001b[0m\u001b[1;33m.\u001b[0m\u001b[0munique\u001b[0m\u001b[1;33m(\u001b[0m\u001b[1;33m)\u001b[0m\u001b[1;33m\u001b[0m\u001b[0m\n\u001b[0m\u001b[0;32m      4\u001b[0m \u001b[1;32mprint\u001b[0m \u001b[0mlen\u001b[0m\u001b[1;33m(\u001b[0m\u001b[0mdhs_data_2013\u001b[0m\u001b[1;33m[\u001b[0m\u001b[0mdhs_data_2013\u001b[0m\u001b[1;33m[\u001b[0m\u001b[1;34m'singresoo'\u001b[0m\u001b[1;33m]\u001b[0m\u001b[1;33m.\u001b[0m\u001b[0mastype\u001b[0m\u001b[1;33m(\u001b[0m\u001b[0mstr\u001b[0m\u001b[1;33m)\u001b[0m \u001b[1;33m!=\u001b[0m \u001b[1;34m'nan'\u001b[0m\u001b[1;33m]\u001b[0m\u001b[1;33m)\u001b[0m\u001b[1;33m\u001b[0m\u001b[0m\n\u001b[0;32m      5\u001b[0m \u001b[1;33m\u001b[0m\u001b[0m\n",
      "\u001b[1;31mNameError\u001b[0m: name 'dhs_data_2013' is not defined"
     ]
    }
   ],
   "source": [
    "#Check average income numbers for DR and if they match up with GDP P.C.\n",
    "# 2013 -  5,968.7, 2002 - 3,008.5 \n",
    "print dhs_data_2013['sg111'].unique()\n",
    "print len(dhs_data_2013[dhs_data_2013['singresoo'].astype(str) != 'nan'])\n",
    "\n",
    "\n",
    "print dhs_data_2013['singresoo'].mean()\n",
    "print dhs_data_2013['singrthp'].mean()\n",
    "print dhs_data_2013['sg117a'].mean()\n",
    "print dhs_data_2013['singresotp'].mean()"
   ]
  },
  {
   "cell_type": "code",
   "execution_count": 28,
   "metadata": {
    "collapsed": false
   },
   "outputs": [],
   "source": [
    "# Aggregate income variables, very quickly - come back and improve this\n",
    "#print len(dhs_data_2007) - len(dhs_data_2007[dhs_data_2007['ingoo'].astype(str) != 'nan']) # Observations missing data\n",
    "#print len(dhs_data_2013) - len(dhs_data_2013[dhs_data_2013['singresoo'].astype(str) != 'nan']) # Observations missing data\n",
    "\n",
    "dhs_data_2007 = dhs_data_2007[dhs_data_2007['ingoo'].astype(str) != 'nan']\n",
    "dhs_data_2013 = dhs_data_2013[dhs_data_2013['singresoo'].astype(str) != 'nan']\n",
    "\n",
    "occinc2007 = dhs_data_2007.groupby(['PROV','MUN'], as_index=False)['ingoo'].mean()\n",
    "occinc2013 = dhs_data_2013.groupby(['PROV','MUN'], as_index=False)['singresoo'].mean()\n",
    "occinc = occinc2013\n",
    "occinc = occinc2007.merge(occinc2013, on=['PROV','MUN'], how=\"inner\")\n",
    "occinc['PROV'] = occinc['PROV'].astype(str)\n",
    "occinc['MUN'] = occinc['MUN'].apply(lambda x: codigo(x))\n",
    "occinc['CODIGO'] = occinc['PROV']+occinc['MUN']\n",
    "occinc.to_csv(base_dir + \"averageincomebymunicipality2010.csv\", index=False)\n",
    "\n",
    "#provoccinc2007 = dhs_data_2007.groupby('PROV', as_index=False)['ingoo'].mean()\n",
    "#provoccinc2013 = dhs_data_2013.groupby('PROV', as_index=False)['singresoo'].mean()\n",
    "#provoccinc = provoccinc2007.merge(provoccinc2013, on='PROV', how=\"inner\")\n",
    "#provoccinc.to_csv(base_dir + \"PROVoccinc.csv\", index=False)"
   ]
  }
 ],
 "metadata": {
  "kernelspec": {
   "display_name": "Python 2",
   "language": "python",
   "name": "python2"
  },
  "language_info": {
   "codemirror_mode": {
    "name": "ipython",
    "version": 2
   },
   "file_extension": ".py",
   "mimetype": "text/x-python",
   "name": "python",
   "nbconvert_exporter": "python",
   "pygments_lexer": "ipython2",
   "version": "2.7.11"
  }
 },
 "nbformat": 4,
 "nbformat_minor": 0
}
