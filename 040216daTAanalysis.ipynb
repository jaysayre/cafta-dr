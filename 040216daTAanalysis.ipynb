{
 "cells": [
  {
   "cell_type": "markdown",
   "metadata": {},
   "source": [
    "## daTAanalysis.R\n",
    "### Jay Sayre - sayrejay (at) gm@i|,\n",
    "\n",
    "NOTE: cleanuptextable.py MUST BE RUN AFTER RUNNING THIS SCRIPT TO UPDATE TABLES IN PAPER\n",
    "\n",
    "## INPUTS: \n",
    "\"municipality_level_DATASET.csv\" - As titled, produced by dataassembly.py\n",
    "\n",
    "\"mun_level_isic4dig_DATASET.csv\" - Same as above, except uses ISIC 4 digit and only empresas data (not IPUMS), produced by dataassembly.py\n",
    "\n",
    "\"municipality_occupation_level_DATASET.csv\" - As titled, produced by dataassembly.py\n",
    "\n",
    "'municipality_migration_DATASET.csv' - contains contains population estimates for 2002 and 2010 and tariff levels for 2002 and 2010 at the municipality level\n",
    "\n",
    "## OUTPUTS:\n",
    "\n",
    "\"../Plots/munregs.tex\" - Municipality level results\n",
    "\n",
    "\"../Plots/mun4digregs.tex\" - Municipality level results (ISIC 4 digit/no IPUMS occupation)\n",
    "\n",
    "\"../Plots/munoccregs.tex\" - Occupation level results\n",
    "\n",
    "\"../Plots/migregs.tex\" - Municipality level results for migration info"
   ]
  },
  {
   "cell_type": "code",
   "execution_count": 1,
   "metadata": {
    "collapsed": false
   },
   "outputs": [
    {
     "name": "stderr",
     "output_type": "stream",
     "text": [
      "Version:  1.36\n",
      "Date:     2015-12-08\n",
      "Author:   Philip Leifeld (Eawag & University of Bern)\n",
      "\n",
      "Please cite the JSS article in your publications -- see citation(\"texreg\").\n"
     ]
    }
   ],
   "source": [
    "library(ggplot2)\n",
    "library(texreg)\n",
    "library(tikzDevice)\n",
    "\n",
    "## Directory information\n",
    "setwd(\"~/Dropbox/College/DR_Paper/cafta-dr/Output/\")\n",
    "#setwd(\"D:/Dropbox/Dropbox (Personal)/College/DR_Paper/\")\n",
    "plotdir <- \"../Plots/\"\n",
    "\n",
    "## INPUTS\n",
    "mundf <- read.csv(\"municipality_level_DATASET.csv\")\n",
    "munisic4df <- read.csv(\"mun_level_isic4dig_DATASET.csv\")\n",
    "munoccdf <- read.csv(\"municipality_occupation_level_DATASET.csv\")\n",
    "munmigdf <- read.csv(\"municipality_migration_DATASET.csv\")\n",
    "\n",
    "## OUTPUTS \n",
    "munlevelresults <- paste(plotdir,\"munregs.tex\",sep=\"\")\n",
    "mun4diglevelresults <- paste(plotdir,\"mun4digregs.tex\",sep=\"\")\n",
    "occupationlevelresults <- paste(plotdir,\"munoccregs.tex\",sep=\"\")\n",
    "migresults <- paste(plotdir,\"migregs.tex\",sep=\"\")"
   ]
  },
  {
   "cell_type": "code",
   "execution_count": 2,
   "metadata": {
    "collapsed": false
   },
   "outputs": [
    {
     "name": "stderr",
     "output_type": "stream",
     "text": [
      "Loading required package: sandwich\n"
     ]
    },
    {
     "ename": "ERROR",
     "evalue": "Error in unique(cluster): object 'dat' not found\n",
     "output_type": "error",
     "traceback": [
      "Error in unique(cluster): object 'dat' not found\n"
     ]
    }
   ],
   "source": [
    "### For clustered standard errors\n",
    "### http://www.r-bloggers.com/texreg-a-package-for-beautiful-and-easily-customizable-latex-regression-tables-from-r/\n",
    "                    \n",
    "robust.se <- function(model, cluster){\n",
    "  require(sandwich)\n",
    "  M <- length(unique(cluster))\n",
    "  \n",
    "  N <- length(cluster)\n",
    "  K <- model$rank\n",
    "  dfc <- (M/(M - 1)) * ((N - 1)/(N - K))\n",
    "  ## Want to include code here to deal with NA terms\n",
    "  uj <- apply(estfun(model), 2, function(x) tapply(x, cluster, sum));\n",
    "  rcse.cov <- dfc * sandwich(model, meat = crossprod(uj)/N)\n",
    "  rcse.se <- coeftest(model, rcse.cov)\n",
    "  return(list(rcse.cov, rcse.se))\n",
    "}\n",
    " \n",
    "m3 <- robust.se(m2,dat$g)[[2]]\n",
    "                        \n",
    "coeftest <- function(x, vcov. = NULL, df = NULL, ...)\n",
    "{\n",
    "  UseMethod(\"coeftest\")\n",
    "}\n",
    "\n",
    "coeftest.default <- function(x, vcov. = NULL, df = NULL, ...)\n",
    "{\n",
    "  ## use S4 methods if loaded\n",
    "  coef0 <- if(\"stats4\" %in% loadedNamespaces()) stats4::coef else coef\n",
    "  vcov0 <- if(\"stats4\" %in% loadedNamespaces()) stats4::vcov else vcov\n",
    "\n",
    "  ## extract coefficients and standard errors\n",
    "  est <- coef0(x)\n",
    "  if(is.null(vcov.)) se <- vcov0(x) else {\n",
    "      if(is.function(vcov.)) se <- vcov.(x)\n",
    "        else se <- vcov.\n",
    "  }\n",
    "  se <- sqrt(diag(se))\n",
    "\n",
    "  ## match using names and compute t/z statistics\n",
    "  if(!is.null(names(est)) && !is.null(names(se))) {\n",
    "    if(length(unique(names(est))) == length(names(est)) && length(unique(names(se))) == length(names(se))) {\n",
    "      anames <- names(est)[names(est) %in% names(se)]\n",
    "      est <- est[anames]\n",
    "      se <- se[anames]\n",
    "    }\n",
    "  }  \n",
    "  tval <- as.vector(est)/se\n",
    "\n",
    "  ## apply central limit theorem\n",
    "  if(is.null(df)) {\n",
    "    df <- try(df.residual(x), silent = TRUE)\n",
    "    if(inherits(df, \"try-error\")) df <- NULL\n",
    "  }\n",
    "  if(is.null(df)) df <- 0\n",
    "\n",
    "  if(is.finite(df) && df > 0) {\n",
    "    pval <- 2 * pt(abs(tval), df = df, lower.tail = FALSE)\n",
    "    cnames <- c(\"Estimate\", \"Std. Error\", \"t value\", \"Pr(>|t|)\")\n",
    "    mthd <- \"t\"\n",
    "  } else {\n",
    "    pval <- 2 * pnorm(abs(tval), lower.tail = FALSE)\n",
    "    cnames <- c(\"Estimate\", \"Std. Error\", \"z value\", \"Pr(>|z|)\")\n",
    "    mthd <- \"z\"\n",
    "  }\n",
    "  rval <- cbind(est, se, tval, pval)\n",
    "  colnames(rval) <- cnames\n",
    "  class(rval) <- \"coeftest\"\n",
    "  attr(rval, \"method\") <- paste(mthd, \"test of coefficients\")\n",
    "  ##  dQuote(class(x)[1]), \"object\", sQuote(deparse(substitute(x))))\n",
    "  return(rval)\n",
    "} \n",
    "\n",
    "coeftest.glm <- function(x, vcov. = NULL, df = Inf, ...)\n",
    "  coeftest.default(x, vcov. = vcov., df = df, ...)  \n",
    "\n",
    "coeftest.mlm <- function(x, vcov. = NULL, df = NULL, ...)\n",
    "{\n",
    "  ## obtain vcov\n",
    "  v <- if(is.null(vcov.)) vcov(x) else if(is.function(vcov.)) vcov.(x) else vcov.\n",
    "\n",
    "  ## nasty hack: replace coefficients so that their names match the vcov() method\n",
    "  x$coefficients <- structure(as.vector(x$coefficients), .Names = colnames(vcov(x)))\n",
    "\n",
    "  ## call default method\n",
    "  coeftest.default(x, vcov. = v, df = df, ...)\n",
    "}\n",
    "\n",
    "coeftest.survreg <- function(x, vcov. = NULL, df = Inf, ...)\n",
    "{\n",
    "  if(is.null(vcov.)) v <- vcov(x) else {\n",
    "      if(is.function(vcov.)) v <- vcov.(x)\n",
    "  \telse v <- vcov.\n",
    "  }\n",
    "  if(length(x$coefficients) < NROW(x$var)) {\n",
    "    x$coefficients <- c(x$coefficients, \"Log(scale)\" = log(x$scale))\n",
    "  }\n",
    "  coeftest.default(x, vcov. = v, df = df, ...)  \n",
    "} \n",
    "\n",
    "coeftest.breakpointsfull <- function(x, vcov. = NULL, df = NULL, ...)\n",
    "{\n",
    "  est <- coef(x, ...)\n",
    "  if(is.null(df)) {\n",
    "    df <- df.residual(x, ...)\n",
    "    df <- as.vector(rep(df, rep(NCOL(est), length(df))))\n",
    "  }  \n",
    "\n",
    "  rnames <- as.vector(t(outer(rownames(est), colnames(est), paste)))\n",
    "  est <- as.vector(t(est))\n",
    "  \n",
    "  se <- vcov(x, vcov. = vcov., ...)\n",
    "\n",
    "  se <- as.vector(sapply(seq(along = se), function(x) sqrt(diag(se[[x]]))))\n",
    "  tval <- est/se\n",
    "\n",
    "  if(any(is.finite(df) && df > 0)) {\n",
    "    pval <- 2 * pt(abs(tval), df = df, lower.tail = FALSE)\n",
    "    cnames <- c(\"Estimate\", \"Std. Error\", \"t value\", \"Pr(>|t|)\")\n",
    "    mthd <- \"t\"\n",
    "  } else {\n",
    "    pval <- 2 * pnorm(abs(tval), lower.tail = FALSE)\n",
    "    cnames <- c(\"Estimate\", \"Std. Error\", \"z value\", \"Pr(>|z|)\")\n",
    "    mthd <- \"z\"\n",
    "  }\n",
    "  rval <- cbind(est, se, tval, pval)\n",
    "  colnames(rval) <- cnames\n",
    "  rownames(rval) <- rnames\n",
    "  class(rval) <- \"coeftest\"\n",
    "  attr(rval, \"method\") <- paste(mthd, \"test of coefficients\")\n",
    "  ##  dQuote(class(x)[1]), \"object\", sQuote(deparse(substitute(x))))\n",
    "  return(rval)\n",
    "} \n",
    "\n",
    "print.coeftest <- function(x, ...)\n",
    "{\n",
    "  mthd <- attr(x, \"method\")\n",
    "  if(is.null(mthd)) mthd <- \"Test of coefficients\"\n",
    "  cat(paste(\"\\n\", mthd,\":\\n\\n\", sep = \"\"))\n",
    "  printCoefmat(x, ...)\n",
    "  cat(\"\\n\")\n",
    "  invisible(x)\n",
    "}"
   ]
  },
  {
   "cell_type": "code",
   "execution_count": 3,
   "metadata": {
    "collapsed": false
   },
   "outputs": [],
   "source": [
    "### Prepare variables in municipality level dataset\n",
    "mundf$chnginc1 <- mundf$grossalary13-mundf$inc02\n",
    "mundf$chnginc2 <- mundf$frstsourcinc13-mundf$inc02\n",
    "mundf$chnginc3 <- mundf$occinc13-mundf$inc02\n",
    "\n",
    "mundf$prov <- factor(mundf$prov)\n",
    "mundf$chngtrf <- mundf$duty02-mundf$duty13\n",
    "\n",
    "### Prepare variables in municipality level (ISIC 4) dataset\n",
    "munisic4df$chnginc1 <- munisic4df$occinc13-munisic4df$inc02\n",
    "munisic4df$chnginc2 <- log(1+munisic4df$grossalary13)-log(1+munisic4df$inc02)\n",
    "munisic4df$chnginc3 <- munisic4df$frstsourcinc13-munisic4df$inc02\n",
    "munisic4df$prov <- factor(munisic4df$prov)\n",
    "munisic4df$chngtrf <- munisic4df$duty13-munisic4df$duty02\n",
    "\n",
    "### Prepare variables in municipality/occupation level dataset\n",
    "munoccdf$chnginc1 <- munoccdf$frstsourcinc13-munoccdf$inc02\n",
    "munoccdf$chnginc2 <- munoccdf$grossalary13-munoccdf$inc02\n",
    "munoccdf$chnginc3 <- munoccdf$occinc13-munoccdf$inc02\n",
    "munoccdf$chngtrf <- munoccdf$duty02-munoccdf$duty13\n",
    "munoccdf$lgchng <- log(munoccdf$chngtrf+1)\n",
    "munoccdf$lgdty02 <-log(munoccdf$duty02+1)\n",
    "munoccdf$chngwrk <- munoccdf$numworkers10-munoccdf$numworkers02\n",
    "munoccdf$occ <- factor(munoccdf$occ)\n",
    "munoccdf$munocc <- factor(munoccdf$munocc)\n",
    "\n",
    "### Prepare variables in migration dataset\n",
    "munmigdf$chngtrf <- munmigdf$duty02-munmigdf$duty10\n",
    "munmigdf$chngpop <- munmigdf$pop10-munmigdf$pop02\n",
    "munmigdf$chngempop <- munmigdf$empop02-munmigdf$empop10\n",
    "munmigdf$mun <- factor(munmigdf$mun)\n",
    "munmigdf$prov <- factor(munmigdf$prov)"
   ]
  },
  {
   "cell_type": "code",
   "execution_count": 4,
   "metadata": {
    "collapsed": false
   },
   "outputs": [
    {
     "name": "stderr",
     "output_type": "stream",
     "text": [
      "The table was written to the file '../Plots/munregs.tex'.\n",
      "\n"
     ]
    }
   ],
   "source": [
    "### Municipality level regressions\n",
    "#colnames(mundf)\n",
    "munreg1 <- lm(chnginc1~chngtrf, data = mundf)\n",
    "munreg2 <- lm(chnginc1~chngtrf+prov, data = mundf)\n",
    "robmunreg1 <- robust.se(munreg1, mundf$prov)[[2]]\n",
    "robmunreg2 <- robust.se(munreg2, mundf$prov)[[2]]\n",
    "\n",
    "#summary(munreg1)\n",
    "#plot(mundf$chnginc3,mundf$chngtrf)\n",
    "\n",
    "texreg(list(munreg1,munreg2),#,munreg3),\n",
    "        file=munlevelresults,\n",
    "        stars = c(0.01, 0.05,0.10),\n",
    "        caption=\"Municipality level regressions\",\n",
    "        caption.above = TRUE, \n",
    "        override.se=list(robmunreg1[,2],robmunreg2[,2]),\n",
    "        override.pval=list(robmunreg1[,4],robmunreg2[,4]),\n",
    "        omit.coef=\"prov\",\n",
    "        custom.model.names=c(\"(1)\",\"(2)\"))#,\"(3)\"))\n"
   ]
  },
  {
   "cell_type": "code",
   "execution_count": 5,
   "metadata": {
    "collapsed": false
   },
   "outputs": [
    {
     "name": "stderr",
     "output_type": "stream",
     "text": [
      "The table was written to the file '../Plots/mun4digregs.tex'.\n",
      "\n"
     ]
    }
   ],
   "source": [
    "### Municipality level (ISIC 4 digit) regressions\n",
    "#colnames(mundf)\n",
    "mun4reg1 <- lm(chnginc2~chngtrf, data = munisic4df)\n",
    "mun4reg2 <- lm(chnginc2~chngtrf+prov, data = munisic4df)\n",
    "mun4reg3 <- lm(chnginc3~chngtrf+prov, data = munisic4df)\n",
    "robmun4reg1 <- robust.se(mun4reg1, munisic4df$prov)[[2]]\n",
    "robmun4reg2 <- robust.se(mun4reg2, munisic4df$prov)[[2]]\n",
    "robmun4reg3 <- robust.se(mun4reg3, munisic4df$prov)[[2]]\n",
    "\n",
    "#summary(mun4reg1)\n",
    "\n",
    "texreg(list(mun4reg1,mun4reg2,mun4reg3),\n",
    "        file=mun4diglevelresults,\n",
    "        stars = c(0.01, 0.05,0.10),\n",
    "        caption=\"Municipality level regressions\",\n",
    "        caption.above = TRUE, \n",
    "        override.se=list(robmun4reg1[,2],robmun4reg2[,2],robmun4reg3[,2]),\n",
    "        override.pval=list(robmun4reg1[,4],robmun4reg2[,4],robmun4reg3[,4]),\n",
    "        omit.coef=\"prov\",\n",
    "        custom.model.names=c(\"(1)\",\"(2)\",\"(3)\"))"
   ]
  },
  {
   "cell_type": "code",
   "execution_count": 6,
   "metadata": {
    "collapsed": false
   },
   "outputs": [
    {
     "data": {
      "text/html": [
       "<ol class=list-inline>\n",
       "\t<li>'inc02'</li>\n",
       "\t<li>'edu02'</li>\n",
       "\t<li>'edu10'</li>\n",
       "\t<li>'munocc'</li>\n",
       "\t<li>'grossalary13'</li>\n",
       "\t<li>'occinc13'</li>\n",
       "\t<li>'frstsourcinc13'</li>\n",
       "\t<li>'edu13'</li>\n",
       "\t<li>'numworkers02'</li>\n",
       "\t<li>'numworkers10'</li>\n",
       "\t<li>'firmconc02'</li>\n",
       "\t<li>'firmconc10'</li>\n",
       "\t<li>'occ'</li>\n",
       "\t<li>'duty02'</li>\n",
       "\t<li>'duty10'</li>\n",
       "\t<li>'duty13'</li>\n",
       "\t<li>'nontraded'</li>\n",
       "\t<li>'chnginc1'</li>\n",
       "\t<li>'chnginc2'</li>\n",
       "\t<li>'chnginc3'</li>\n",
       "\t<li>'chngtrf'</li>\n",
       "\t<li>'lgchng'</li>\n",
       "\t<li>'lgdty02'</li>\n",
       "\t<li>'chngwrk'</li>\n",
       "</ol>\n"
      ],
      "text/latex": [
       "\\begin{enumerate*}\n",
       "\\item 'inc02'\n",
       "\\item 'edu02'\n",
       "\\item 'edu10'\n",
       "\\item 'munocc'\n",
       "\\item 'grossalary13'\n",
       "\\item 'occinc13'\n",
       "\\item 'frstsourcinc13'\n",
       "\\item 'edu13'\n",
       "\\item 'numworkers02'\n",
       "\\item 'numworkers10'\n",
       "\\item 'firmconc02'\n",
       "\\item 'firmconc10'\n",
       "\\item 'occ'\n",
       "\\item 'duty02'\n",
       "\\item 'duty10'\n",
       "\\item 'duty13'\n",
       "\\item 'nontraded'\n",
       "\\item 'chnginc1'\n",
       "\\item 'chnginc2'\n",
       "\\item 'chnginc3'\n",
       "\\item 'chngtrf'\n",
       "\\item 'lgchng'\n",
       "\\item 'lgdty02'\n",
       "\\item 'chngwrk'\n",
       "\\end{enumerate*}\n"
      ],
      "text/markdown": [
       "1. 'inc02'\n",
       "2. 'edu02'\n",
       "3. 'edu10'\n",
       "4. 'munocc'\n",
       "5. 'grossalary13'\n",
       "6. 'occinc13'\n",
       "7. 'frstsourcinc13'\n",
       "8. 'edu13'\n",
       "9. 'numworkers02'\n",
       "10. 'numworkers10'\n",
       "11. 'firmconc02'\n",
       "12. 'firmconc10'\n",
       "13. 'occ'\n",
       "14. 'duty02'\n",
       "15. 'duty10'\n",
       "16. 'duty13'\n",
       "17. 'nontraded'\n",
       "18. 'chnginc1'\n",
       "19. 'chnginc2'\n",
       "20. 'chnginc3'\n",
       "21. 'chngtrf'\n",
       "22. 'lgchng'\n",
       "23. 'lgdty02'\n",
       "24. 'chngwrk'\n",
       "\n",
       "\n"
      ],
      "text/plain": [
       " [1] \"inc02\"          \"edu02\"          \"edu10\"          \"munocc\"        \n",
       " [5] \"grossalary13\"   \"occinc13\"       \"frstsourcinc13\" \"edu13\"         \n",
       " [9] \"numworkers02\"   \"numworkers10\"   \"firmconc02\"     \"firmconc10\"    \n",
       "[13] \"occ\"            \"duty02\"         \"duty10\"         \"duty13\"        \n",
       "[17] \"nontraded\"      \"chnginc1\"       \"chnginc2\"       \"chnginc3\"      \n",
       "[21] \"chngtrf\"        \"lgchng\"         \"lgdty02\"        \"chngwrk\"       "
      ]
     },
     "execution_count": 6,
     "metadata": {},
     "output_type": "execute_result"
    }
   ],
   "source": [
    "colnames(munoccdf)"
   ]
  },
  {
   "cell_type": "code",
   "execution_count": 10,
   "metadata": {
    "collapsed": false
   },
   "outputs": [
    {
     "name": "stderr",
     "output_type": "stream",
     "text": [
      "Warning message:\n",
      "In log(chnginc2 + 1): NaNs producedWarning message:\n",
      "In log(chnginc2 + 1): NaNs produced"
     ]
    },
    {
     "ename": "ERROR",
     "evalue": "Error in tapply(x, cluster, sum): arguments must have same length\n",
     "output_type": "error",
     "traceback": [
      "Error in tapply(x, cluster, sum): arguments must have same length\n"
     ]
    },
    {
     "ename": "ERROR",
     "evalue": "Error in tapply(x, cluster, sum): arguments must have same length\n",
     "output_type": "error",
     "traceback": [
      "Error in tapply(x, cluster, sum): arguments must have same length\n"
     ]
    },
    {
     "name": "stderr",
     "output_type": "stream",
     "text": [
      "Warning message:\n",
      "In override(models, override.coef, override.se, override.pvalues, : Number of SEs provided does not match number of coefficients in model 1. Using default SEs.Warning message:\n",
      "In override(models, override.coef, override.se, override.pvalues, : Number of p values provided does not match number of coefficients in model 1. Using default p values.Warning message:\n",
      "In override(models, override.coef, override.se, override.pvalues, : Number of SEs provided does not match number of coefficients in model 2. Using default SEs.Warning message:\n",
      "In override(models, override.coef, override.se, override.pvalues, : Number of p values provided does not match number of coefficients in model 2. Using default p values.The table was written to the file '../Plots/munoccregs.tex'.\n",
      "\n"
     ]
    }
   ],
   "source": [
    "### Municipality/occupation level regressions\n",
    "#colnames(munoccdf)\n",
    "\n",
    "## Subset down to observations without missing variables\n",
    "munoccdf2 <- munoccdf[!is.na(munoccdf$chnginc2), ]\n",
    "munoccdf2 <- munoccdf2[!is.na(munoccdf2$chngtrf), ]\n",
    "munoccdf2 <- munoccdf2[!is.na(munoccdf2$munocc), ]\n",
    "\n",
    "\n",
    "## Make a different dataset with only occupations producing tradables\n",
    "tradedsectordf <- subset(munoccdf2, nontraded == 0) \n",
    "\n",
    "\n",
    "reg1 <- lm(log(chnginc2)~log(chngtrf+1)+munocc,data = tradedsectordf)\n",
    "reg2 <- lm(log(chnginc2+1)~log(chngtrf+1)+munocc,data = munoccdf2)\n",
    "reg3 <- lm(chnginc2~chngtrf+edu02+munocc,data = tradedsectordf)\n",
    "reg4 <- lm(chnginc2~chngtrf+edu02+munocc,data = munoccdf2)\n",
    "robreg1 <- robust.se(reg1, tradedsectordf$munocc)[[2]]\n",
    "robreg2 <- robust.se(reg2, munoccdf2$munocc)[[2]]\n",
    "robreg3 <- robust.se(reg3, tradedsectordf$munocc)[[2]]\n",
    "robreg4 <- robust.se(reg4, munoccdf2$munocc)[[2]]\n",
    "\n",
    "#summary(reg1)\n",
    "#plot(munoccdf$chnginc2,munoccdf$chngtrf)\n",
    "\n",
    "texreg(list(reg1,reg2,reg3,reg4),\n",
    "        file=occupationlevelresults,\n",
    "        stars = c(0.01, 0.05,0.10),\n",
    "        caption=\"Municipality/occupation level regressions\",\n",
    "        caption.above = TRUE,\n",
    "        override.se=list(robreg1[,2],robreg2[,2],robreg3[,2],\n",
    "                        robreg4[,2]),\n",
    "        override.pval=list(robreg1[,4],robreg2[,4],robreg3[,4],\n",
    "                        robreg4[,4]),\n",
    "        omit.coef=\"munocc|z\",\n",
    "        custom.model.names=c(\"(1)\",\"(2)\",\"(3)\",\"(4)\"))"
   ]
  },
  {
   "cell_type": "code",
   "execution_count": 8,
   "metadata": {
    "collapsed": false
   },
   "outputs": [],
   "source": [
    "#colnames(munoccdf)\n",
    "reg1 <- lm(chnginc1~chngtrf+firmconc10+munocc,data = tradedsectordf)\n",
    "\n",
    "#summary(reg1)"
   ]
  },
  {
   "cell_type": "code",
   "execution_count": 9,
   "metadata": {
    "collapsed": false
   },
   "outputs": [
    {
     "name": "stderr",
     "output_type": "stream",
     "text": [
      "The table was written to the file '../Plots/migregs.tex'.\n",
      "\n"
     ]
    }
   ],
   "source": [
    "### Municipality migration regressions\n",
    "#colnames(munmigdf)\n",
    "\n",
    "reg1 <- lm(chngpop~chngtrf,data = munmigdf)\n",
    "reg2 <- lm(chngpop~chngtrf+prov,data = munmigdf)\n",
    "reg3 <- lm(chngempop~chngtrf,data = munmigdf)\n",
    "reg4 <- lm(chngempop~chngtrf+prov,data = munmigdf)\n",
    "robreg1 <- robust.se(reg1, munmigdf$prov)[[2]]\n",
    "robreg2 <- robust.se(reg2, munmigdf$prov)[[2]]\n",
    "robreg3 <- robust.se(reg3, munmigdf$prov)[[2]]\n",
    "robreg4 <- robust.se(reg4, munmigdf$prov)[[2]]\n",
    "\n",
    "texreg(list(reg1,reg2,reg3,reg4),\n",
    "        file=migresults,\n",
    "        stars = c(0.01, 0.05,0.10),\n",
    "        caption=\"Municipality level migration/workforce regressions\",\n",
    "        caption.above = TRUE,\n",
    "        override.se=list(robreg1[,2],robreg2[,2],robreg3[,2],\n",
    "                        robreg4[,2]),\n",
    "        override.pval=list(robreg1[,4],robreg2[,4],robreg3[,4],\n",
    "                        robreg4[,4]),\n",
    "        omit.coef=\"prov|z\",\n",
    "        custom.model.names=c(\"(1)\",\"(2)\",\"(3)\",\"(4)\"))"
   ]
  }
 ],
 "metadata": {
  "kernelspec": {
   "display_name": "R",
   "language": "R",
   "name": "ir"
  },
  "language_info": {
   "codemirror_mode": "r",
   "file_extension": ".r",
   "mimetype": "text/x-r-source",
   "name": "R",
   "pygments_lexer": "r",
   "version": "3.2.2"
  }
 },
 "nbformat": 4,
 "nbformat_minor": 0
}
