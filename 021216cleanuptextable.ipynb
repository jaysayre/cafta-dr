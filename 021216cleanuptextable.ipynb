{
 "cells": [
  {
   "cell_type": "markdown",
   "metadata": {},
   "source": [
    "cleanuptextable.py\n",
    "Jay Sayre - sayrejay (at) gmai|\n",
    "\n",
    "Written to clean up tex (and tikz) output tables produced by R (namely, by the scripts datavisualization.R and exploratoryanalysis.R) so I can rerun regressions and quickly have my tables in the right format for putting them directly in my paper"
   ]
  },
  {
   "cell_type": "code",
   "execution_count": 1,
   "metadata": {
    "collapsed": false
   },
   "outputs": [],
   "source": [
    "import os\n",
    "\n",
    "if os.name == 'nt':\n",
    "    tdir = \"D:/Dropbox/Dropbox (Personal)/College/DR_Paper/cafta-dr/Plots/\"\n",
    "else:\n",
    "    tdir =\"/home/j/Dropbox/College/DR_Paper/cafta-dr/Plots/\"\n",
    "\n",
    "def repwords(codeline):\n",
    "    repldict = {'Num. obs.':'N        ','R$^2$':'$R^2$',\n",
    "               'chngtrf':'Change in tariff','chngwrk':'Change in employment',\n",
    "               '\\begin{table}\\n':'','(Intercept)':'Intercept'}\n",
    "    for txt in repldict.keys():\n",
    "        codeline = codeline.replace(txt, repldict[txt])\n",
    "    return codeline\n",
    "\n",
    "for fl in os.listdir(tdir):\n",
    "    if fl.endswith(\".tex\") and \"cleaned\" not in fl:\n",
    "        f1 = open(tdir+fl, 'r')\n",
    "        f2 = open(tdir+'cleaned'+fl, 'w')\n",
    "        if 'TIKZ' in fl:\n",
    "            count = 0\n",
    "            for line in f1:\n",
    "                count += 1\n",
    "                if count <= 12:\n",
    "                    pass\n",
    "                elif \"\\end{document}\" in line:\n",
    "                    pass\n",
    "                else:\n",
    "                    f2.write(line)\n",
    "        else:\n",
    "            count, numcols, fe = 0, 0, 0\n",
    "            for line in f1:\n",
    "                count += 1\n",
    "                if count == 7:\n",
    "                    numcols = len(line.split('&'))-1\n",
    "                    f2.write(repwords(line))\n",
    "                elif \"Adj. R\" in line:\n",
    "                    pass\n",
    "                elif \"RMSE\" in line:\n",
    "                    pass\n",
    "                elif \"center\" in line:\n",
    "                    pass\n",
    "                elif \"hline\" in line and count >= 9 and fe == 0:\n",
    "                    f2.write(line.replace(\"\\hline\",\"\\hline\\nFE          \"+\n",
    "                        numcols*\"&                \"+\"\\\\\\ \\n\\hline\"))\n",
    "                    fe = 1\n",
    "                elif \"label{table:\" in line:\n",
    "                    pass\n",
    "                elif \"table\" in line:\n",
    "                    pass\n",
    "                elif \"caption\" in line:\n",
    "                    pass\n",
    "                elif \"\\multicolumn\" in line:\n",
    "                    f2.write(line.replace(\"}}\",\", Standard errors in parentheses}}\"))\n",
    "                else:\n",
    "                    f2.write(repwords(line))\n",
    "\n",
    "        f1.close()\n",
    "        os.remove(tdir+fl)\n",
    "        f2.close()\n"
   ]
  }
 ],
 "metadata": {
  "kernelspec": {
   "display_name": "Python 2",
   "language": "python",
   "name": "python2"
  },
  "language_info": {
   "codemirror_mode": {
    "name": "ipython",
    "version": 2
   },
   "file_extension": ".py",
   "mimetype": "text/x-python",
   "name": "python",
   "nbconvert_exporter": "python",
   "pygments_lexer": "ipython2",
   "version": "2.7.11"
  }
 },
 "nbformat": 4,
 "nbformat_minor": 0
}
