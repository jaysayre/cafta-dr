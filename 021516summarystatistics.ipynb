{
 "cells": [
  {
   "cell_type": "markdown",
   "metadata": {},
   "source": [
    "summarystatistics.py \n",
    "\n",
    "Jay Sayre - sayrejay (at) gmai|\n",
    "\n",
    "Computes basic summary statistics in python for use in my paper\n",
    "\n",
    "Inputs:\n",
    "\n",
    "'mun_level_isic4dig_DATASET.csv' - contains income and tariff levels at\n",
    "for 2002 and 2013 at the municipality level (using ISIC four digit, just empresas), to be analyzed later in R\n",
    "or STATA\n",
    "\n",
    "'municipality_level_DATASET.csv' - contains income and tariff levels at\n",
    "for 2002 and 2013 at the municipality level (using ISIC two digit, IPUMS+empresas), to be analyzed later in R\n",
    "or STATA\n",
    "\n",
    "'municipality_occupation_level_DATASET.csv' - contains income and tariff levels for 2002 and 2013 at the municipality and occupational level, to be analyzed later in R or STATA\n",
    "\n",
    "Outputs:\n",
    "\n",
    "'cafta-dr/Plots/summarytable.tex' - Description pending"
   ]
  },
  {
   "cell_type": "code",
   "execution_count": 6,
   "metadata": {
    "collapsed": true
   },
   "outputs": [],
   "source": [
    "import pandas as pd\n",
    "import os\n",
    "\n",
    "if os.name == 'nt':\n",
    "    basedir =\"D:/Dropbox/Dropbox (Personal)/College/DR_Paper/\"\n",
    "else:\n",
    "    basedir =\"/home/j/Dropbox/College/DR_Paper/\"\n",
    "\n",
    "## INPUTS\n",
    "munisic4output = basedir+'cafta-dr/Output/mun_level_isic4dig_DATASET.csv'\n",
    "munoutput = basedir+'cafta-dr/Output/municipality_level_DATASET.csv'\n",
    "munoccoutput = basedir+'cafta-dr/Output/municipality_occupation_level_DATASET.csv'\n",
    "\n",
    "## OUTPUT \n",
    "summarytable = basedir+'cafta-dr/Plots/summarytable.tex'"
   ]
  },
  {
   "cell_type": "code",
   "execution_count": 7,
   "metadata": {
    "collapsed": false
   },
   "outputs": [],
   "source": [
    "## Summary table at the municipality level\n",
    "\n",
    "mundf = pd.read_csv(munoutput)\n",
    "mundf.drop(['prov','occinc13','frstsourcinc13'],1,inplace=True)\n",
    "mundf['group'] = 1 \n",
    "\n",
    "mundf.columns = ['mun','duty2002','duty2013','income2002','income2013','group']\n",
    "mundf = mundf.groupby('group',as_index=False)[mundf.columns].mean()\n",
    "mundf = pd.wide_to_long(mundf,['duty','income'],i='group',j='year').reset_index()\n",
    "mundf.drop(['group','mun'],1,inplace=True)\n",
    "mundf.to_latex(summarytable, escape=False, index=False)"
   ]
  },
  {
   "cell_type": "code",
   "execution_count": 8,
   "metadata": {
    "collapsed": false
   },
   "outputs": [
    {
     "data": {
      "text/html": [
       "<div>\n",
       "<table border=\"1\" class=\"dataframe\">\n",
       "  <thead>\n",
       "    <tr style=\"text-align: right;\">\n",
       "      <th></th>\n",
       "      <th>year</th>\n",
       "      <th>duty</th>\n",
       "      <th>income</th>\n",
       "      <th>numberworkers</th>\n",
       "    </tr>\n",
       "  </thead>\n",
       "  <tbody>\n",
       "    <tr>\n",
       "      <th>0</th>\n",
       "      <td>2002</td>\n",
       "      <td>5.496059</td>\n",
       "      <td>2484.841149</td>\n",
       "      <td>147.237795</td>\n",
       "    </tr>\n",
       "    <tr>\n",
       "      <th>1</th>\n",
       "      <td>2013</td>\n",
       "      <td>0.721620</td>\n",
       "      <td>2879.598058</td>\n",
       "      <td>NaN</td>\n",
       "    </tr>\n",
       "    <tr>\n",
       "      <th>2</th>\n",
       "      <td>2010</td>\n",
       "      <td>NaN</td>\n",
       "      <td>NaN</td>\n",
       "      <td>190.752946</td>\n",
       "    </tr>\n",
       "  </tbody>\n",
       "</table>\n",
       "</div>"
      ],
      "text/plain": [
       "   year      duty       income  numberworkers\n",
       "0  2002  5.496059  2484.841149     147.237795\n",
       "1  2013  0.721620  2879.598058            NaN\n",
       "2  2010       NaN          NaN     190.752946"
      ]
     },
     "execution_count": 8,
     "metadata": {},
     "output_type": "execute_result"
    }
   ],
   "source": [
    "## Summary table at the municipality level\n",
    "\n",
    "munoccdf = pd.read_csv(munoccoutput)\n",
    "munoccdf.drop(['munocc','occ','occinc13','frstsourcinc13','nontraded'],1,inplace=True)\n",
    "munoccdf['group'] = 1 \n",
    "\n",
    "munoccdf.columns = ['income2002','income2013','numberworkers2002','numberworkers2010','duty2002','duty2013','group']\n",
    "munoccdf = munoccdf.groupby('group',as_index=False)[munoccdf.columns].mean()\n",
    "munoccdf = pd.wide_to_long(munoccdf,['duty','income','numberworkers'],i='group',j='year').reset_index()\n",
    "munoccdf.drop('group',1,inplace=True)\n",
    "munoccdf\n",
    "#munoccdf.to_latex(summarytable, escape=False, index=False)"
   ]
  }
 ],
 "metadata": {
  "kernelspec": {
   "display_name": "Python 2",
   "language": "python",
   "name": "python2"
  },
  "language_info": {
   "codemirror_mode": {
    "name": "ipython",
    "version": 2
   },
   "file_extension": ".py",
   "mimetype": "text/x-python",
   "name": "python",
   "nbconvert_exporter": "python",
   "pygments_lexer": "ipython2",
   "version": "2.7.11"
  }
 },
 "nbformat": 4,
 "nbformat_minor": 0
}
