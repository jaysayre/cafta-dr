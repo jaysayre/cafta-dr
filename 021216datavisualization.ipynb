{
 "cells": [
  {
   "cell_type": "markdown",
   "metadata": {},
   "source": [
    "datavisualization.R\n",
    "Jay Sayre - sayrejay (at) Gmail,\n",
    "\n",
    "Used for data visualization for CAFTA-DR paper\n",
    "\n",
    "NOTE: cleanuptextable.py MUST BE RUN AFTER RUNNING THIS SCRIPT TO UPDATE GRAPHS IN PAPER\n",
    "\n",
    "Inputs - \n",
    "\n",
    "\"municipality_occupation_level_DATASET.csv\" -Municipality and occupation level dataset produced by dataassembly.py\n",
    "\n",
    "\"../Plots/tariffisic2.csv\" - Average tariffs at the ISIC 2 digit level\n",
    "\n",
    "\"../Plots/tariffisic4.csv\" - Average tariffs at the ISIC 4 digit level\n",
    "\n",
    "\"wtoandcaftahstariff.csv\" - Merged wto and cafta HS6 tariff data\n",
    "\n",
    "\"tariffhs2.csv\" - HS2 level tariff data \n",
    "\n",
    "Outputs - \n",
    "\n",
    "\"hstwodigittrfsTIKZ.tex\" - Plots HS2 level tariffs from 1996-2006 as a line graph\n",
    "\n",
    "\"tariffisic2digTIKZ.tex\" - Plots the average tariff at the ISIC two digit level in 2002 against the change in the average ISIC tariff from 2002-2013\n",
    "\n",
    "\"tariffisic4digTIKZ.tex\" - Plots the average tariff at the ISIC four digit level in 2002 against the change in the average ISIC tariff from 2002-2013\n",
    "\n",
    "\"tariffhs6decreaseTIKZ.tex\"  - Plots the average tariff at the HS6 level in 2002 against the change in the average HS6 tariff from 2002-2013"
   ]
  },
  {
   "cell_type": "code",
   "execution_count": 1,
   "metadata": {
    "collapsed": false
   },
   "outputs": [
    {
     "name": "stderr",
     "output_type": "stream",
     "text": [
      "Version:  1.36\n",
      "Date:     2015-12-08\n",
      "Author:   Philip Leifeld (Eawag & University of Bern)\n",
      "\n",
      "Please cite the JSS article in your publications -- see citation(\"texreg\").\n"
     ]
    }
   ],
   "source": [
    "library(ggplot2)\n",
    "library(texreg)\n",
    "library(tikzDevice)\n",
    "\n",
    "setwd(\"~/Dropbox/College/DR_Paper/cafta-dr/Output/\")\n",
    "#setwd(\"D:/Dropbox/Dropbox (Personal)/College/DR_Paper/\")\n",
    "plotdir <- \"../Plots/\"\n",
    "\n",
    "## INPUTS\n",
    "munoccdf <- read.csv(\"municipality_occupation_level_DATASET.csv\")\n",
    "isic2tariff <- read.csv(paste(plotdir,\"tariffisic2.csv\",sep=\"\"))\n",
    "isic4tariff <- read.csv(paste(plotdir,\"tariffisic4.csv\",sep=\"\"))\n",
    "hs6tariff <- read.csv(\"wtoandcaftahstariff.csv\")\n",
    "hs2tariff <- read.csv(\"tariffhs2.csv\")\n",
    "\n",
    "## OUTPUTS \n",
    "hs2timetikz <- paste(plotdir,\"hstwodigittrfsTIKZ.tex\",sep=\"\")\n",
    "isic2tariffchangetikz <- paste(plotdir,\"tariffisic2digTIKZ.tex\",sep=\"\")\n",
    "isic4tariffchangetikz <- paste(plotdir,\"tariffisic4digTIKZ.tex\",sep=\"\")\n",
    "hs6tariffchangetikz <- paste(plotdir, \"tariffhs6decreaseTIKZ.tex\",sep=\"\")\n",
    "hs2tariffchangetikz <- paste(plotdir, \"tariffhs2decreaseTIKZ.tex\",sep=\"\")"
   ]
  },
  {
   "cell_type": "code",
   "execution_count": 2,
   "metadata": {
    "collapsed": true
   },
   "outputs": [],
   "source": [
    "### Clean up input data\n",
    "\n",
    "## CLean up HS6 level tariff data set\n",
    "hs6tariff$chngtrf <- hs6tariff$duty2013-hs6tariff$X2002AvgRate\n",
    "hs6tariff$HS6 <- factor(hs6tariff$HS6)\n",
    "\n",
    "## Cleanup variables in municipality/occupation level dataset\n",
    "munoccdf$chnginc2 <- munoccdf$firstsourceofincome13-munoccdf$inc2002\n",
    "munoccdf$chngtrf <- munoccdf$duty13-munoccdf$duty02\n",
    "munoccdf$chngwrk <- munoccdf$numworkers10-munoccdf$numworkers02\n",
    "munoccdf$occ <- factor(munoccdf$occ)\n",
    "\n",
    "## Cleanup variables in ISIC 4 digit tariff data set\n",
    "isic4tariff$ISIC <- factor(isic4tariff$ISIC)\n",
    "isic4tariff$chngtrf <- isic4tariff$duty2013-isic4tariff$X2002AvgRate\n",
    "\n",
    "## Cleanup variables in ISIC 2 digit tariff data set\n",
    "isic2tariff$isic <- factor(isic2tariff$isic)\n",
    "isic2tariff$chngtrf <- isic2tariff$duty2013-isic2tariff$X2002AvgRate"
   ]
  },
  {
   "cell_type": "code",
   "execution_count": 3,
   "metadata": {
    "collapsed": false
   },
   "outputs": [
    {
     "data": {
      "text/html": [
       "<strong>pdf:</strong> 2"
      ],
      "text/latex": [
       "\\textbf{pdf:} 2"
      ],
      "text/markdown": [
       "**pdf:** 2"
      ],
      "text/plain": [
       "pdf \n",
       "  2 "
      ]
     },
     "execution_count": 3,
     "metadata": {},
     "output_type": "execute_result"
    },
    {
     "data": {
      "text/html": [
       "<strong>pdf:</strong> 2"
      ],
      "text/latex": [
       "\\textbf{pdf:} 2"
      ],
      "text/markdown": [
       "**pdf:** 2"
      ],
      "text/plain": [
       "pdf \n",
       "  2 "
      ]
     },
     "execution_count": 3,
     "metadata": {},
     "output_type": "execute_result"
    }
   ],
   "source": [
    "## Plot ISIC 4 digit tariff level in 2002 compared to tariff change\n",
    "bf <- lm(isic4tariff$chngtrf~isic4tariff$X2002AvgRate)\n",
    "rsq <- summary(bf)$r.squared\n",
    "rsq <- signif(rsq,4)\n",
    "beta1 <- coef(summary(bf))[2,\"Estimate\"]\n",
    "beta1 <- signif(beta1,4)\n",
    "se1 <- coef(summary(bf))[2,\"Std. Error\"]\n",
    "se1 <- signif(se1,4)\n",
    "numobs <- summary(bf)$df[2]\n",
    "line <- paste(\"Coefficient Estimate: \", beta1,\n",
    "              \", se: \",se1, \n",
    "              \", R^2: \",rsq,\", N: \",numobs,sep=\"\")\n",
    "\n",
    "p1 <- ggplot(isic4tariff, aes(x=X2002AvgRate, y=chngtrf)) +\n",
    "  coord_equal() + geom_jitter(aes(colour=ISIC),size=.75) + #geom_point(shape=1) +\n",
    "  #geom_text(aes(label=occ)) + # Could do this perhaps\n",
    "  ggtitle(\"Tariff Changes 2002-2013 based on Pre-CAFTA Tariff Levels\n",
    "  \\n(ISIC 4 digit Import Competing Occupation)\") + geom_smooth(method=lm)+ \n",
    "  xlab(\"2002 pre-CAFTA duty\") + ylab(\"Decrease in duty rate\") +\n",
    "  theme_classic() + theme(legend.position = \"none\")\n",
    "tikz(file=isic4tariffchangetikz,standAlone=TRUE,sanitize=TRUE)\n",
    "plot.new()\n",
    "print(p1)\n",
    "mtext(line,line=-38)\n",
    "dev.off()\n",
    "\n",
    "## Plot ISIC 2 digit tariff level in 2002 compared to tariff change\n",
    "bf <- lm(isic2tariff$chngtrf~isic2tariff$X2002AvgRate)\n",
    "rsq <- summary(bf)$r.squared\n",
    "rsq <- signif(rsq,4)\n",
    "beta1 <- coef(summary(bf))[2,\"Estimate\"]\n",
    "beta1 <- signif(beta1,4)\n",
    "se1 <- coef(summary(bf))[2,\"Std. Error\"]\n",
    "se1 <- signif(se1,4)\n",
    "numobs <- summary(bf)$df[2]\n",
    "line <- paste(\"Coefficient Estimate: \", beta1,\n",
    "              \", se: \",se1, \n",
    "              \", R^2: \",rsq,\", N: \",numobs,sep=\"\")\n",
    "\n",
    "p6 <- ggplot(isic2tariff, aes(x=X2002AvgRate, y=chngtrf)) +\n",
    "  coord_equal() + geom_jitter(aes(colour=isic),size=.75) + #geom_point(shape=1) +\n",
    "  #geom_text(aes(label=occ)) + # Could do this perhaps\n",
    "  ggtitle(\"Tariff Changes 2002-2013 based on Pre-CAFTA Tariff Levels\n",
    "  \\n(ISIC 2 digit Import Competing Occupation)\") + geom_smooth(method=lm)+ \n",
    "  xlab(\"2002 pre-CAFTA duty\") + ylab(\"Decrease in duty rate\") +\n",
    "  theme_classic()\n",
    "tikz(file=isic2tariffchangetikz,standAlone=TRUE,sanitize=TRUE)\n",
    "plot.new()\n",
    "print(p6)\n",
    "mtext(line,line=-37)\n",
    "dev.off()"
   ]
  },
  {
   "cell_type": "code",
   "execution_count": 4,
   "metadata": {
    "collapsed": false
   },
   "outputs": [
    {
     "name": "stderr",
     "output_type": "stream",
     "text": [
      "Warning message:\n",
      ": Removed 30 rows containing non-finite values (stat_smooth).Warning message:\n",
      ": Removed 30 rows containing missing values (geom_point)."
     ]
    },
    {
     "data": {
      "text/html": [
       "<strong>pdf:</strong> 2"
      ],
      "text/latex": [
       "\\textbf{pdf:} 2"
      ],
      "text/markdown": [
       "**pdf:** 2"
      ],
      "text/plain": [
       "pdf \n",
       "  2 "
      ]
     },
     "execution_count": 4,
     "metadata": {},
     "output_type": "execute_result"
    }
   ],
   "source": [
    "## Do same as above but at HS6 level\n",
    "bf <- lm(hs6tariff$chngtrf~hs6tariff$X2002AvgRate)\n",
    "rsq <- summary(bf)$r.squared\n",
    "rsq <- signif(rsq,4)\n",
    "beta1 <- coef(summary(bf))[2,\"Estimate\"]\n",
    "beta1 <- signif(beta1,4)\n",
    "se1 <- coef(summary(bf))[2,\"Std. Error\"]\n",
    "se1 <- signif(se1,4)\n",
    "numobs <- summary(bf)$df[2]\n",
    "line <- paste(\"Coefficient Estimate: \", beta1,\n",
    "              \", se: \",se1,\", R^2: \",rsq,\", N=\",numobs,sep=\"\")\n",
    "\n",
    "p2 <- ggplot(hs6tariff, aes(x=X2002AvgRate, y=chngtrf))+\n",
    "  coord_equal() + geom_jitter(aes(colour=HS6),size=.75) + #geom_point(shape=1) +\n",
    "  ggtitle(\"Tariff Changes 2002-2013 based on Pre-CAFTA Tariff Levels\\n(HS6 Code)\") +\n",
    "  geom_smooth(method=lm)+\n",
    "  xlab(\"2002 pre-CAFTA duty\") + ylab(\"Decrease in duty rate\") +\n",
    "  theme_classic()+ theme(legend.position = \"none\")\n",
    "tikz(file=hs6tariffchangetikz,standAlone=TRUE,sanitize=TRUE) \n",
    "plot.new()\n",
    "print(p2)\n",
    "mtext(line,line=-36)\n",
    "dev.off()"
   ]
  },
  {
   "cell_type": "raw",
   "metadata": {},
   "source": [
    "## Do same as above but at HS2 level\n",
    "hs2tariff$HS2 <- factor(hs2tariff$HS2)\n",
    "bf <- lm(hs2tariff$chngtrf~hs2tariff$X2002AvgRate)\n",
    "rsq <- summary(bf)$r.squared\n",
    "rsq <- signif(rsq,4)\n",
    "beta1 <- coef(summary(bf))[2,\"Estimate\"]\n",
    "beta1 <- signif(beta1,4)\n",
    "se1 <- coef(summary(bf))[2,\"Std. Error\"]\n",
    "se1 <- signif(se1,4)\n",
    "numobs <- summary(bf)$df[2]\n",
    "line <- paste(\"Coefficient Estimate: \", beta1,\n",
    "              \", se: \",se1,\", R^2: \",rsq,\", N=\",numobs,sep=\"\")\n",
    "\n",
    "p3 <- ggplot(hs2tariff, aes(x=X2002AvgRate, y=chngtrf))+\n",
    "  coord_equal() + geom_point(shape=1) +\n",
    "  ggtitle(\"Tariff Changes 2002-2013 based on Pre-CAFTA Tariff Levels\\n(HS2 Code)\") +\n",
    "  geom_smooth(method=lm)+\n",
    "  xlab(\"2002 pre-CAFTA duty\") + ylab(\"Decrease in duty rate\") +\n",
    "  theme_classic()\n",
    "tikz(file=hs2tariffchangetikz,standAlone=TRUE,sanitize=TRUE) \n",
    "plot.new()\n",
    "print(p3)\n",
    "mtext(line,line=-36)\n",
    "dev.off()"
   ]
  },
  {
   "cell_type": "code",
   "execution_count": 5,
   "metadata": {
    "collapsed": false
   },
   "outputs": [
    {
     "name": "stderr",
     "output_type": "stream",
     "text": [
      "Warning message:\n",
      ": Removed 18 rows containing missing values (geom_path).Warning message:\n",
      ": Removed 18 rows containing missing values (geom_point)."
     ]
    },
    {
     "data": {
      "text/html": [
       "<strong>pdf:</strong> 2"
      ],
      "text/latex": [
       "\\textbf{pdf:} 2"
      ],
      "text/markdown": [
       "**pdf:** 2"
      ],
      "text/plain": [
       "pdf \n",
       "  2 "
      ]
     },
     "execution_count": 5,
     "metadata": {},
     "output_type": "execute_result"
    }
   ],
   "source": [
    "## Plot HS2 average tariffs from 1996-2006\n",
    "hs2tariff$HS2 <- factor(hs2tariff$HS2)\n",
    "\n",
    "p4 <- ggplot(data=hs2tariff, aes(x=year, y=duty, group=HS2)) +\n",
    "    geom_line(aes(colour=HS2)) +\n",
    "    geom_point(aes(colour=HS2)) +\n",
    "    xlab(\"Year\") + ylab(\"Tariff Rate\") +\n",
    "    theme_classic() + ylim(0,20) +\n",
    "    theme(legend.position = \"none\") +\n",
    "    ggtitle(\"Tariff Changes pre-CAFTA (HS 2 digit level)\")\n",
    "tikz(file=hs2timetikz,standAlone=TRUE,sanitize=TRUE) \n",
    "print(p4)\n",
    "dev.off()"
   ]
  }
 ],
 "metadata": {
  "kernelspec": {
   "display_name": "R",
   "language": "R",
   "name": "ir"
  },
  "language_info": {
   "codemirror_mode": "r",
   "file_extension": ".r",
   "mimetype": "text/x-r-source",
   "name": "R",
   "pygments_lexer": "r",
   "version": "3.2.2"
  }
 },
 "nbformat": 4,
 "nbformat_minor": 0
}
