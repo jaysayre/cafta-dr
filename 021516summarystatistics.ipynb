{
 "cells": [
  {
   "cell_type": "markdown",
   "metadata": {},
   "source": [
    "summarystatistics.py \n",
    "\n",
    "Jay Sayre - sayrejay (at) gmai|\n",
    "\n",
    "Description Pending\n",
    "\n",
    "Inputs:\n",
    "\n",
    "'mun_level_isic4dig_DATASET.csv' - contains income and tariff levels at\n",
    "for 2002 and 2013 at the municipality level (using ISIC four digit, just empresas), to be analyzed later in R\n",
    "or STATA\n",
    "\n",
    "'municipality_level_DATASET.csv' - contains income and tariff levels at\n",
    "for 2002 and 2013 at the municipality level (using ISIC two digit, IPUMS+empresas), to be analyzed later in R\n",
    "or STATA\n",
    "\n",
    "'municipality_occupation_level_DATASET.csv' - contains income and tariff levels for 2002 and 2013 at the municipality and occupational level, to be analyzed later in R or STATA\n",
    "\n",
    "Outputs:\n",
    "\n",
    "TBA"
   ]
  },
  {
   "cell_type": "code",
   "execution_count": 46,
   "metadata": {
    "collapsed": true
   },
   "outputs": [],
   "source": [
    "import pandas as pd\n",
    "import os\n",
    "\n",
    "if os.name == 'nt':\n",
    "    basedir =\"D:/Dropbox/Dropbox (Personal)/College/DR_Paper/\"\n",
    "else:\n",
    "    basedir =\"/home/j/Dropbox/College/DR_Paper/\"\n",
    "\n",
    "usd2013todr02pesos = 18.609825*(0.975)\n",
    "usd2013todr13pesos = 41.8081439153*(0.985)\n",
    "\n",
    "\n",
    "## INPUTS\n",
    "munisic4output = basedir+'cafta-dr/Output/mun_level_isic4dig_DATASET.csv'\n",
    "munoutput = basedir+'cafta-dr/Output/municipality_level_DATASET.csv'\n",
    "munoccoutput = basedir+'cafta-dr/Output/municipality_occupation_level_DATASET.csv'\n",
    "\n",
    "## OUTPUT \n",
    "summarytable = basedir+'cafta-dr/Plots/summarytable.tex'"
   ]
  },
  {
   "cell_type": "code",
   "execution_count": 67,
   "metadata": {
    "collapsed": false
   },
   "outputs": [],
   "source": [
    "## Summary table at the municipality level\n",
    "\n",
    "mundf = pd.read_csv(munoutput)\n",
    "mundf.drop(['prov','firstsourceofincome13','incforocc13','totalhhincpercapita13'],1,inplace=True)\n",
    "mundf['group'] = 1 \n",
    "\n",
    "mundf['inc02'] = (mundf['inc02']/usd2013todr02pesos)*12\n",
    "mundf['incpercapita13'] = (mundf['incpercapita13']/usd2013todr13pesos)*12\n",
    "\n",
    "mundf.columns = ['mun','duty2002','duty2013','income2002','income2013','group']\n",
    "mundf = mundf.groupby('group',as_index=False)[mundf.columns].mean()\n",
    "mundf = pd.wide_to_long(mundf,['duty','income'],i='group',j='year').reset_index()\n",
    "mundf.drop(['group','mun'],1,inplace=True)\n",
    "mundf.to_latex(summarytable, escape=False, index=False)"
   ]
  },
  {
   "cell_type": "code",
   "execution_count": 65,
   "metadata": {
    "collapsed": false
   },
   "outputs": [
    {
     "data": {
      "text/html": [
       "<div>\n",
       "<table border=\"1\" class=\"dataframe\">\n",
       "  <thead>\n",
       "    <tr style=\"text-align: right;\">\n",
       "      <th></th>\n",
       "      <th>year</th>\n",
       "      <th>duty</th>\n",
       "      <th>income</th>\n",
       "      <th>numberworkers</th>\n",
       "    </tr>\n",
       "  </thead>\n",
       "  <tbody>\n",
       "    <tr>\n",
       "      <th>0</th>\n",
       "      <td>2002</td>\n",
       "      <td>6.649909</td>\n",
       "      <td>4190.382346</td>\n",
       "      <td>105.489616</td>\n",
       "    </tr>\n",
       "    <tr>\n",
       "      <th>1</th>\n",
       "      <td>2013</td>\n",
       "      <td>0.875555</td>\n",
       "      <td>2322.214885</td>\n",
       "      <td>NaN</td>\n",
       "    </tr>\n",
       "    <tr>\n",
       "      <th>2</th>\n",
       "      <td>2010</td>\n",
       "      <td>NaN</td>\n",
       "      <td>NaN</td>\n",
       "      <td>117.293354</td>\n",
       "    </tr>\n",
       "  </tbody>\n",
       "</table>\n",
       "</div>"
      ],
      "text/plain": [
       "   year      duty       income  numberworkers\n",
       "0  2002  6.649909  4190.382346     105.489616\n",
       "1  2013  0.875555  2322.214885            NaN\n",
       "2  2010       NaN          NaN     117.293354"
      ]
     },
     "execution_count": 65,
     "metadata": {},
     "output_type": "execute_result"
    }
   ],
   "source": [
    "## Summary table at the municipality level\n",
    "\n",
    "munoccdf = pd.read_csv(munoccoutput)\n",
    "munoccdf.drop(['munocc','occ','incpercapita13','totalhhincpercapita13','incforocc13'],1,inplace=True)\n",
    "munoccdf['group'] = 1 \n",
    "\n",
    "munoccdf['inc2002'] = (munoccdf['inc2002']/usd2013todr02pesos)*12\n",
    "munoccdf['firstsourceofincome13'] = (munoccdf['firstsourceofincome13']/usd2013todr13pesos)*12\n",
    "munoccdf.columns = ['income2002','income2013','numberworkers2002','numberworkers2010','duty2002','duty2013','group']\n",
    "munoccdf = munoccdf.groupby('group',as_index=False)[munoccdf.columns].mean()\n",
    "munoccdf = pd.wide_to_long(munoccdf,['duty','income','numberworkers'],i='group',j='year').reset_index()\n",
    "munoccdf.drop('group',1,inplace=True)\n",
    "munoccdf\n",
    "#munoccdf.to_latex(summarytable, escape=False, index=False)"
   ]
  }
 ],
 "metadata": {
  "kernelspec": {
   "display_name": "Python 2",
   "language": "python",
   "name": "python2"
  },
  "language_info": {
   "codemirror_mode": {
    "name": "ipython",
    "version": 2
   },
   "file_extension": ".py",
   "mimetype": "text/x-python",
   "name": "python",
   "nbconvert_exporter": "python",
   "pygments_lexer": "ipython2",
   "version": "2.7.11"
  }
 },
 "nbformat": 4,
 "nbformat_minor": 0
}
