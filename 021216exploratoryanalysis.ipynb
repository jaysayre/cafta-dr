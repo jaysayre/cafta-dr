{
 "cells": [
  {
   "cell_type": "markdown",
   "metadata": {},
   "source": [
    "exploratoryanalysis.R\n",
    "Jay Sayre - sayrejay (at) gmail,\n",
    "\n",
    "NOTE: cleanuptextable.py MUST BE RUN AFTER RUNNING THIS SCRIPT TO UPDATE TABLES IN PAPER\n",
    "\n",
    "INPUTS: \n",
    "\"municipality_level_DATASET.csv\" - As titled, produced by dataassembly.py\n",
    "\n",
    "\"municipality_occupation_level_DATASET.csv\" - As titled, produced by dataassembly.py\n",
    "\n",
    "OUTPUTS:\n",
    "\"../Plots/munregs.tex\" - Municipality level results\n",
    "\n",
    "\"../Plots/munoccregs.tex\" - Occupation level results"
   ]
  },
  {
   "cell_type": "code",
   "execution_count": 5,
   "metadata": {
    "collapsed": false
   },
   "outputs": [
    {
     "name": "stderr",
     "output_type": "stream",
     "text": [
      "Version:  1.36\n",
      "Date:     2015-12-08\n",
      "Author:   Philip Leifeld (Eawag & University of Bern)\n",
      "\n",
      "Please cite the JSS article in your publications -- see citation(\"texreg\").\n"
     ]
    }
   ],
   "source": [
    "library(ggplot2)\n",
    "library(texreg)\n",
    "#install.packages(\"texreg\", repos='http://cran.us.r-project.org')\n",
    "library(tikzDevice)\n",
    "#install.packages(\"tikzDevice\", repos='http://cran.us.r-project.org')\n",
    "\n",
    "## Directory information\n",
    "setwd(\"~/Dropbox/College/DR_Paper/cafta-dr/Output/\")\n",
    "#setwd(\"D:/Dropbox/Dropbox (Personal)/College/DR_Paper/\")\n",
    "plotdir <- \"../Plots/\"\n",
    "\n",
    "## INPUTS \n",
    "mundf <- read.csv(\"municipality_level_DATASET.csv\")\n",
    "munoccdf <- read.csv(\"municipality_occupation_level_DATASET.csv\")\n",
    "\n",
    "## OUTPUTS \n",
    "munlevelresults <- paste(plotdir,\"munregs.tex\",sep=\"\")\n",
    "occupationlevelresults <- paste(plotdir,\"munoccregs.tex\",sep=\"\")"
   ]
  },
  {
   "cell_type": "code",
   "execution_count": 6,
   "metadata": {
    "collapsed": true
   },
   "outputs": [],
   "source": [
    "### Cleanup variables in municipality level dataset\n",
    "mundf$chnginc1 <- log(1+mundf$incforocc13)-log(1+mundf$inc02)\n",
    "mundf$chnginc2 <- log(1+mundf$totalhhincpercapita13)-log(1+mundf$inc02)\n",
    "mundf$chnginc3 <- log(1+mundf$firstsourceofincome13)-log(1+mundf$inc02)\n",
    "mundf$chnginc4 <- log(1+mundf$incpercapita13)-log(1+mundf$inc02)\n",
    "mundf$prov <- factor(mundf$prov)\n",
    "mundf$chngtrf <- log(1+mundf$duty13)-log(1+mundf$duty02)"
   ]
  },
  {
   "cell_type": "code",
   "execution_count": 10,
   "metadata": {
    "collapsed": false
   },
   "outputs": [],
   "source": [
    "### Cleanup variables in municipality/occupation level dataset\n",
    "#munoccdf$mean=rowMeans(munoccdf[,c(\"incforocc13\", \"firstsourceofincome13\",\n",
    "#                                  \"totalhhincpercapita13\",\"incpercapita13\")],\n",
    "#                       na.rm=TRUE)\n",
    "#munoccdf$chnginc5 <- munoccdf$mean-munoccdf$inc2002\n",
    "\n",
    "munoccdf$chnginc1 <- munoccdf$incforocc13-munoccdf$inc2002\n",
    "munoccdf$chnginc2 <- munoccdf$firstsourceofincome13-munoccdf$inc2002\n",
    "munoccdf$chnginc3 <- munoccdf$totalhhincpercapita13-munoccdf$inc2002\n",
    "munoccdf$chnginc4 <- munoccdf$incpercapita13-munoccdf$inc2002\n",
    "munoccdf$chngtrf <- munoccdf$duty13-munoccdf$duty02\n",
    "munoccdf$lgchng <- log(-munoccdf$chngtrf+1)\n",
    "munoccdf$lgdty02 <-log(munoccdf$duty02+1)\n",
    "munoccdf$chngwrk <- munoccdf$numworkers10-munoccdf$numworkers02\n",
    "munoccdf$occ <- factor(munoccdf$occ)\n",
    "munoccdf$munocc <- factor(munoccdf$munocc)"
   ]
  },
  {
   "cell_type": "code",
   "execution_count": 15,
   "metadata": {
    "collapsed": false
   },
   "outputs": [
    {
     "name": "stderr",
     "output_type": "stream",
     "text": [
      "The table was written to the file '../Plots/munregs.tex'.\n",
      "\n"
     ]
    }
   ],
   "source": [
    "### Municipality level regressions\n",
    "#colnames(mundf)\n",
    "munreg1 <- lm(chnginc1~chngtrf+prov, data = mundf)\n",
    "munreg2 <- lm(chnginc3~chngtrf, data = mundf)\n",
    "munreg3 <- lm(chnginc3~chngtrf+prov, data = mundf)\n",
    "\n",
    "#summary(munreg1)\n",
    "#summary(munreg2)\n",
    "#summary(munreg3)\n",
    "\n",
    "#plot(mundf$chnginc3,mundf$chngtrf)\n",
    "\n",
    "texreg(list(munreg1,munreg2,munreg3),\n",
    "        file=munlevelresults,\n",
    "        stars = c(0.01, 0.05,0.10),\n",
    "        caption=\"Municipality level regressions\",\n",
    "        caption.above = TRUE, \n",
    "        omit.coef=\"prov\",\n",
    "        custom.model.names=c(\"(1)\",\"(2)\",\"(3)\"))"
   ]
  },
  {
   "cell_type": "code",
   "execution_count": 16,
   "metadata": {
    "collapsed": false
   },
   "outputs": [
    {
     "name": "stderr",
     "output_type": "stream",
     "text": [
      "The table was written to the file '../Plots/munoccregs.tex'.\n",
      "\n"
     ]
    }
   ],
   "source": [
    "### Municipality/occupation level regressions\n",
    "#colnames(munoccdf)\n",
    "reg1 <- lm(chnginc2~chngtrf,data = munoccdf)\n",
    "reg2 <- lm(chnginc2~chngtrf+munocc,data = munoccdf)\n",
    "reg3 <- lm(chnginc2~chngtrf+chngwrk,data = munoccdf)\n",
    "reg4 <- lm(chnginc2~chngtrf+chngwrk+munocc,data = munoccdf)\n",
    "\n",
    "#summary(reg1)\n",
    "#summary(reg2)\n",
    "#summary(reg3)\n",
    "#summary(reg4)\n",
    "#plot(munoccdf$chnginc2,munoccdf$chngtrf)\n",
    "\n",
    "texreg(list(reg1,reg2,reg3,reg4),\n",
    "        file=occupationlevelresults,\n",
    "        stars = c(0.01, 0.05,0.10),\n",
    "        caption=\"Municipality/occupation level regressions\",\n",
    "        caption.above = TRUE, \n",
    "        omit.coef=\"munocc|z\",\n",
    "        custom.model.names=c(\"(1)\",\"(2)\",\"(3)\",\"(4)\"))"
   ]
  }
 ],
 "metadata": {
  "kernelspec": {
   "display_name": "R",
   "language": "R",
   "name": "ir"
  },
  "language_info": {
   "codemirror_mode": "r",
   "file_extension": ".r",
   "mimetype": "text/x-r-source",
   "name": "R",
   "pygments_lexer": "r",
   "version": "3.2.2"
  }
 },
 "nbformat": 4,
 "nbformat_minor": 0
}
