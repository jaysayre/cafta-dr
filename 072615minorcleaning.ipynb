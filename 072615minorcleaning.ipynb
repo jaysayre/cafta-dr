{
 "cells": [
  {
   "cell_type": "code",
   "execution_count": 1,
   "metadata": {
    "collapsed": false
   },
   "outputs": [],
   "source": [
    "## Final cleaning tweaks for analysis\n",
    "## Converting long into wide format, etc.\n",
    "## Cleaning tariff data\n",
    "\n",
    "import pandas as pd\n",
    "\n",
    "basedir = \"/home/j/Dropbox/College/DR_Paper/\"\n",
    "\n",
    "df = pd.read_csv(basedir+\"tariffsacrossyears.csv\")\n",
    "drops1 = [a for a in list(df.columns) if 'im' in a]\n",
    "drops1.extend(['DESC','Base'])\n",
    "df = df.drop(drops1, 1)\n",
    "df.columns = ['S3', 'duty1996','duty1997','duty1998','duty1999', \n",
    "              'duty2000','duty2001','duty2002','duty2003','duty2004', \n",
    "              'duty2005','duty2006','duty2007','duty2008','duty2009', \n",
    "              'duty2010','duty2011','duty2012','duty2013','duty2014', \n",
    "              'duty2015','ex1996','ex1997','ex1998','ex1999','ex2000',\n",
    "              'ex2001','ex2002','ex2003','ex2004','ex2005','ex2006',\n",
    "              'ex2007','ex2008','ex2009','ex2010','ex2011','ex2012',\n",
    "              'ex2013','ex2014','ex2015']\n",
    "\n",
    "#df.to_csv(basedir+'tariffWIDE.csv',index=False)\n",
    "df.set_index('S3')\n",
    "\n",
    "df = pd.wide_to_long(df, ['duty','ex'], i='S3', j='year').fillna(0)\n",
    "df.reset_index(level=[0,1], inplace=True)\n",
    "df['stdyear']=df['year']-1996\n",
    "df.to_csv(basedir+'tariffFINAL.csv',index=False)"
   ]
  },
  {
   "cell_type": "code",
   "execution_count": 3,
   "metadata": {
    "collapsed": false
   },
   "outputs": [],
   "source": [
    "# Clean weighted municipality tariff data\n",
    "import pandas as pd\n",
    "basedir = \"/home/j/Dropbox/College/DR_Paper/\"\n",
    "\n",
    "\n",
    "newdf = pd.read_csv(basedir+'municitarcomp.csv')\n",
    "newdf = newdf.drop(['wmtrBase','employ','workagepop'],1)\n",
    "newdf.columns = [u'municipio','duty1996','duty1997','duty1998','duty1999', \n",
    "                 'duty2000','duty2001','duty2002','duty2003','duty2004', \n",
    "                 'duty2005','duty2006','duty2007','duty2008','duty2009', \n",
    "                 'duty2010','duty2011','duty2012','duty2013','duty2014', \n",
    "                 'duty2015', u'prov', 'pet2002','pet2010','working2002','working2010']\n",
    "newdf.to_csv(basedir+'municiWIDE.csv',index=False)\n",
    "\n",
    "newdf.set_index('municipio')\n",
    "\n",
    "newdf = pd.wide_to_long(newdf, ['duty'], i='municipio', j='year').fillna(0)\n",
    "newdf.reset_index(level=[0,1], inplace=True)\n",
    "newdf['stdyear']=newdf['year']-1996\n",
    "newdf.to_csv(basedir+'municiLONG.csv',index=False)"
   ]
  }
 ],
 "metadata": {
  "kernelspec": {
   "display_name": "Python 2",
   "language": "python",
   "name": "python2"
  },
  "language_info": {
   "codemirror_mode": {
    "name": "ipython",
    "version": 2
   },
   "file_extension": ".py",
   "mimetype": "text/x-python",
   "name": "python",
   "nbconvert_exporter": "python",
   "pygments_lexer": "ipython2",
   "version": "2.7.10"
  }
 },
 "nbformat": 4,
 "nbformat_minor": 0
}
