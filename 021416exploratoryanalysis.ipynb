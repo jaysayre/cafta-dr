{
 "cells": [
  {
   "cell_type": "markdown",
   "metadata": {},
   "source": [
    "exploratoryanalysis.R\n",
    "Jay Sayre - sayrejay (at) gmail,\n",
    "\n",
    "NOTE: cleanuptextable.py MUST BE RUN AFTER RUNNING THIS SCRIPT TO UPDATE TABLES IN PAPER\n",
    "\n",
    "INPUTS: \n",
    "\"municipality_level_DATASET.csv\" - As titled, produced by dataassembly.py\n",
    "\n",
    "\"mun_level_isic4dig_DATASET.csv\" - Same as above, except uses ISIC 4 digit and only empresas data (not IPUMS), produced by dataassembly.py\n",
    "\n",
    "\"municipality_occupation_level_DATASET.csv\" - As titled, produced by dataassembly.py\n",
    "\n",
    "OUTPUTS:\n",
    "\n",
    "\"../Plots/munregs.tex\" - Municipality level results\n",
    "\n",
    "\"../Plots/mun4digregs.tex\" - Municipality level results (ISIC 4 digit/no IPUMS occupation)\n",
    "\n",
    "\"../Plots/munoccregs.tex\" - Occupation level results"
   ]
  },
  {
   "cell_type": "code",
   "execution_count": 62,
   "metadata": {
    "collapsed": false
   },
   "outputs": [],
   "source": [
    "library(ggplot2)\n",
    "library(texreg)\n",
    "library(tikzDevice)\n",
    "\n",
    "## Directory information\n",
    "setwd(\"~/Dropbox/College/DR_Paper/cafta-dr/Output/\")\n",
    "#setwd(\"D:/Dropbox/Dropbox (Personal)/College/DR_Paper/\")\n",
    "plotdir <- \"../Plots/\"\n",
    "\n",
    "## INPUTS \n",
    "mundf <- read.csv(\"municipality_level_DATASET.csv\")\n",
    "munisic4df <- read.csv(\"mun_level_isic4dig_DATASET.csv\")\n",
    "munoccdf <- read.csv(\"municipality_occupation_level_DATASET.csv\")\n",
    "\n",
    "## OUTPUTS \n",
    "munlevelresults <- paste(plotdir,\"munregs.tex\",sep=\"\")\n",
    "mun4diglevelresults <- paste(plotdir,\"mun4digregs.tex\",sep=\"\")\n",
    "occupationlevelresults <- paste(plotdir,\"munoccregs.tex\",sep=\"\")"
   ]
  },
  {
   "cell_type": "code",
   "execution_count": 63,
   "metadata": {
    "collapsed": false
   },
   "outputs": [
    {
     "ename": "ERROR",
     "evalue": "Error in unique(cluster): object 'dat' not found\n",
     "output_type": "error",
     "traceback": [
      "Error in unique(cluster): object 'dat' not found\n"
     ]
    }
   ],
   "source": [
    "### For clustered standard errors\n",
    "### http://www.r-bloggers.com/texreg-a-package-for-beautiful-and-easily-customizable-latex-regression-tables-from-r/\n",
    "                    \n",
    "robust.se <- function(model, cluster){\n",
    "  require(sandwich)\n",
    "  M <- length(unique(cluster))\n",
    "  N <- length(cluster)\n",
    "  K <- model$rank\n",
    "  dfc <- (M/(M - 1)) * ((N - 1)/(N - K))\n",
    "  uj <- apply(estfun(model), 2, function(x) tapply(x, cluster, sum));\n",
    "  rcse.cov <- dfc * sandwich(model, meat = crossprod(uj)/N)\n",
    "  rcse.se <- coeftest(model, rcse.cov)\n",
    "  return(list(rcse.cov, rcse.se))\n",
    "}\n",
    " \n",
    "m3 <- robust.se(m2,dat$g)[[2]]\n",
    "                        \n",
    "coeftest <- function(x, vcov. = NULL, df = NULL, ...)\n",
    "{\n",
    "  UseMethod(\"coeftest\")\n",
    "}\n",
    "\n",
    "coeftest.default <- function(x, vcov. = NULL, df = NULL, ...)\n",
    "{\n",
    "  ## use S4 methods if loaded\n",
    "  coef0 <- if(\"stats4\" %in% loadedNamespaces()) stats4::coef else coef\n",
    "  vcov0 <- if(\"stats4\" %in% loadedNamespaces()) stats4::vcov else vcov\n",
    "\n",
    "  ## extract coefficients and standard errors\n",
    "  est <- coef0(x)\n",
    "  if(is.null(vcov.)) se <- vcov0(x) else {\n",
    "      if(is.function(vcov.)) se <- vcov.(x)\n",
    "        else se <- vcov.\n",
    "  }\n",
    "  se <- sqrt(diag(se))\n",
    "\n",
    "  ## match using names and compute t/z statistics\n",
    "  if(!is.null(names(est)) && !is.null(names(se))) {\n",
    "    if(length(unique(names(est))) == length(names(est)) && length(unique(names(se))) == length(names(se))) {\n",
    "      anames <- names(est)[names(est) %in% names(se)]\n",
    "      est <- est[anames]\n",
    "      se <- se[anames]\n",
    "    }\n",
    "  }  \n",
    "  tval <- as.vector(est)/se\n",
    "\n",
    "  ## apply central limit theorem\n",
    "  if(is.null(df)) {\n",
    "    df <- try(df.residual(x), silent = TRUE)\n",
    "    if(inherits(df, \"try-error\")) df <- NULL\n",
    "  }\n",
    "  if(is.null(df)) df <- 0\n",
    "\n",
    "  if(is.finite(df) && df > 0) {\n",
    "    pval <- 2 * pt(abs(tval), df = df, lower.tail = FALSE)\n",
    "    cnames <- c(\"Estimate\", \"Std. Error\", \"t value\", \"Pr(>|t|)\")\n",
    "    mthd <- \"t\"\n",
    "  } else {\n",
    "    pval <- 2 * pnorm(abs(tval), lower.tail = FALSE)\n",
    "    cnames <- c(\"Estimate\", \"Std. Error\", \"z value\", \"Pr(>|z|)\")\n",
    "    mthd <- \"z\"\n",
    "  }\n",
    "  rval <- cbind(est, se, tval, pval)\n",
    "  colnames(rval) <- cnames\n",
    "  class(rval) <- \"coeftest\"\n",
    "  attr(rval, \"method\") <- paste(mthd, \"test of coefficients\")\n",
    "  ##  dQuote(class(x)[1]), \"object\", sQuote(deparse(substitute(x))))\n",
    "  return(rval)\n",
    "} \n",
    "\n",
    "coeftest.glm <- function(x, vcov. = NULL, df = Inf, ...)\n",
    "  coeftest.default(x, vcov. = vcov., df = df, ...)  \n",
    "\n",
    "coeftest.mlm <- function(x, vcov. = NULL, df = NULL, ...)\n",
    "{\n",
    "  ## obtain vcov\n",
    "  v <- if(is.null(vcov.)) vcov(x) else if(is.function(vcov.)) vcov.(x) else vcov.\n",
    "\n",
    "  ## nasty hack: replace coefficients so that their names match the vcov() method\n",
    "  x$coefficients <- structure(as.vector(x$coefficients), .Names = colnames(vcov(x)))\n",
    "\n",
    "  ## call default method\n",
    "  coeftest.default(x, vcov. = v, df = df, ...)\n",
    "}\n",
    "\n",
    "coeftest.survreg <- function(x, vcov. = NULL, df = Inf, ...)\n",
    "{\n",
    "  if(is.null(vcov.)) v <- vcov(x) else {\n",
    "      if(is.function(vcov.)) v <- vcov.(x)\n",
    "  \telse v <- vcov.\n",
    "  }\n",
    "  if(length(x$coefficients) < NROW(x$var)) {\n",
    "    x$coefficients <- c(x$coefficients, \"Log(scale)\" = log(x$scale))\n",
    "  }\n",
    "  coeftest.default(x, vcov. = v, df = df, ...)  \n",
    "} \n",
    "\n",
    "coeftest.breakpointsfull <- function(x, vcov. = NULL, df = NULL, ...)\n",
    "{\n",
    "  est <- coef(x, ...)\n",
    "  if(is.null(df)) {\n",
    "    df <- df.residual(x, ...)\n",
    "    df <- as.vector(rep(df, rep(NCOL(est), length(df))))\n",
    "  }  \n",
    "\n",
    "  rnames <- as.vector(t(outer(rownames(est), colnames(est), paste)))\n",
    "  est <- as.vector(t(est))\n",
    "  \n",
    "  se <- vcov(x, vcov. = vcov., ...)\n",
    "\n",
    "  se <- as.vector(sapply(seq(along = se), function(x) sqrt(diag(se[[x]]))))\n",
    "  tval <- est/se\n",
    "\n",
    "  if(any(is.finite(df) && df > 0)) {\n",
    "    pval <- 2 * pt(abs(tval), df = df, lower.tail = FALSE)\n",
    "    cnames <- c(\"Estimate\", \"Std. Error\", \"t value\", \"Pr(>|t|)\")\n",
    "    mthd <- \"t\"\n",
    "  } else {\n",
    "    pval <- 2 * pnorm(abs(tval), lower.tail = FALSE)\n",
    "    cnames <- c(\"Estimate\", \"Std. Error\", \"z value\", \"Pr(>|z|)\")\n",
    "    mthd <- \"z\"\n",
    "  }\n",
    "  rval <- cbind(est, se, tval, pval)\n",
    "  colnames(rval) <- cnames\n",
    "  rownames(rval) <- rnames\n",
    "  class(rval) <- \"coeftest\"\n",
    "  attr(rval, \"method\") <- paste(mthd, \"test of coefficients\")\n",
    "  ##  dQuote(class(x)[1]), \"object\", sQuote(deparse(substitute(x))))\n",
    "  return(rval)\n",
    "} \n",
    "\n",
    "print.coeftest <- function(x, ...)\n",
    "{\n",
    "  mthd <- attr(x, \"method\")\n",
    "  if(is.null(mthd)) mthd <- \"Test of coefficients\"\n",
    "  cat(paste(\"\\n\", mthd,\":\\n\\n\", sep = \"\"))\n",
    "  printCoefmat(x, ...)\n",
    "  cat(\"\\n\")\n",
    "  invisible(x)\n",
    "}"
   ]
  },
  {
   "cell_type": "code",
   "execution_count": 64,
   "metadata": {
    "collapsed": false
   },
   "outputs": [],
   "source": [
    "### Cleanup variables in municipality level dataset\n",
    "mundf$chnginc1 <- mundf$grossalary13-mundf$inc02\n",
    "mundf$chnginc2 <- mundf$frstsourcinc13-mundf$inc02\n",
    "mundf$chnginc3 <- mundf$occinc13-mundf$inc02\n",
    "\n",
    "mundf$prov <- factor(mundf$prov)\n",
    "mundf$chngtrf <- mundf$duty02-mundf$duty13"
   ]
  },
  {
   "cell_type": "code",
   "execution_count": 65,
   "metadata": {
    "collapsed": false
   },
   "outputs": [],
   "source": [
    "### Cleanup variables in municipality level (ISIC 4) dataset\n",
    "munisic4df$chnginc1 <- munisic4df$occinc13-munisic4df$inc02\n",
    "munisic4df$chnginc2 <- log(1+munisic4df$grossalary13)-log(1+munisic4df$inc02)\n",
    "munisic4df$chnginc3 <- munisic4df$frstsourcinc13-munisic4df$inc02\n",
    "munisic4df$prov <- factor(munisic4df$prov)\n",
    "munisic4df$chngtrf <- munisic4df$duty13-munisic4df$duty02"
   ]
  },
  {
   "cell_type": "code",
   "execution_count": 66,
   "metadata": {
    "collapsed": false
   },
   "outputs": [],
   "source": [
    "### Cleanup variables in municipality/occupation level dataset\n",
    "munoccdf$chnginc1 <- munoccdf$frstsourcinc13-munoccdf$inc2002\n",
    "munoccdf$chnginc2 <- munoccdf$grossalary13-munoccdf$inc2002\n",
    "munoccdf$chnginc3 <- munoccdf$occinc13-munoccdf$inc2002\n",
    "munoccdf$chngtrf <- munoccdf$duty02-munoccdf$duty13\n",
    "munoccdf$lgchng <- log(munoccdf$chngtrf+1)\n",
    "munoccdf$lgdty02 <-log(munoccdf$duty02+1)\n",
    "munoccdf$chngwrk <- munoccdf$numworkers10-munoccdf$numworkers02\n",
    "munoccdf$occ <- factor(munoccdf$occ)\n",
    "munoccdf$munocc <- factor(munoccdf$munocc)\n",
    "\n",
    "## Make a different dataset with only occupations producing tradables\n",
    "tradedsectordf <- subset(munoccdf, nontraded == 0) "
   ]
  },
  {
   "cell_type": "code",
   "execution_count": 67,
   "metadata": {
    "collapsed": false
   },
   "outputs": [
    {
     "name": "stderr",
     "output_type": "stream",
     "text": [
      "The table was written to the file '../Plots/munregs.tex'.\n",
      "\n"
     ]
    }
   ],
   "source": [
    "### Municipality level regressions\n",
    "#colnames(mundf)\n",
    "munreg1 <- lm(chnginc1~chngtrf, data = mundf)\n",
    "munreg2 <- lm(chnginc1~chngtrf+prov, data = mundf)\n",
    "robmunreg1 <- robust.se(munreg1, mundf$prov)[[2]]\n",
    "robmunreg2 <- robust.se(munreg2, mundf$prov)[[2]]\n",
    "\n",
    "#summary(munreg1)\n",
    "#plot(mundf$chnginc3,mundf$chngtrf)\n",
    "\n",
    "texreg(list(munreg1,munreg2),#,munreg3),\n",
    "        file=munlevelresults,\n",
    "        stars = c(0.01, 0.05,0.10),\n",
    "        caption=\"Municipality level regressions\",\n",
    "        caption.above = TRUE, \n",
    "        override.se=list(robmunreg1[,2],robmunreg2[,2]),\n",
    "        override.pval=list(robmunreg1[,4],robmunreg2[,4]),\n",
    "        omit.coef=\"prov\",\n",
    "        custom.model.names=c(\"(1)\",\"(2)\"))#,\"(3)\"))\n"
   ]
  },
  {
   "cell_type": "code",
   "execution_count": 68,
   "metadata": {
    "collapsed": false
   },
   "outputs": [
    {
     "name": "stderr",
     "output_type": "stream",
     "text": [
      "The table was written to the file '../Plots/mun4digregs.tex'.\n",
      "\n"
     ]
    }
   ],
   "source": [
    "### Municipality level (ISIC 4 digit) regressions\n",
    "#colnames(mundf)\n",
    "mun4reg1 <- lm(chnginc2~chngtrf, data = munisic4df)\n",
    "mun4reg2 <- lm(chnginc2~chngtrf+prov, data = munisic4df)\n",
    "mun4reg3 <- lm(chnginc3~chngtrf+prov, data = munisic4df)\n",
    "robmun4reg1 <- robust.se(mun4reg1, munisic4df$prov)[[2]]\n",
    "robmun4reg2 <- robust.se(mun4reg2, munisic4df$prov)[[2]]\n",
    "robmun4reg3 <- robust.se(mun4reg3, munisic4df$prov)[[2]]\n",
    "\n",
    "#summary(mun4reg1)\n",
    "\n",
    "texreg(list(mun4reg1,mun4reg2,mun4reg3),\n",
    "        file=mun4diglevelresults,\n",
    "        stars = c(0.01, 0.05,0.10),\n",
    "        caption=\"Municipality level regressions\",\n",
    "        caption.above = TRUE, \n",
    "        override.se=list(robmun4reg1[,2],robmun4reg2[,2],robmun4reg3[,2]),\n",
    "        override.pval=list(robmun4reg1[,4],robmun4reg2[,4],robmun4reg3[,4]),\n",
    "        omit.coef=\"prov\",\n",
    "        custom.model.names=c(\"(1)\",\"(2)\",\"(3)\"))"
   ]
  },
  {
   "cell_type": "code",
   "execution_count": 69,
   "metadata": {
    "collapsed": false
   },
   "outputs": [
    {
     "name": "stderr",
     "output_type": "stream",
     "text": [
      "The table was written to the file '../Plots/munoccregs.tex'.\n",
      "\n"
     ]
    }
   ],
   "source": [
    "### Municipality/occupation level regressions\n",
    "#colnames(munoccdf)\n",
    "reg1 <- lm(chnginc2~chngtrf+munocc,data = tradedsectordf)\n",
    "reg2 <- lm(chnginc2~chngtrf+munocc,data = munoccdf)\n",
    "reg3 <- lm(chnginc2~chngtrf+chngwrk,data = munoccdf)\n",
    "reg4 <- lm(chnginc2~chngtrf+chngwrk+munocc,data = munoccdf)\n",
    "robreg1 <- robust.se(reg1, tradedsectordf$munocc)[[2]]\n",
    "robreg2 <- robust.se(reg2, munoccdf$munocc)[[2]]\n",
    "robreg3 <- robust.se(reg3, munoccdf$munocc)[[2]]\n",
    "robreg4 <- robust.se(reg4, munoccdf$munocc)[[2]]\n",
    "\n",
    "#summary(reg1)\n",
    "#plot(munoccdf$chnginc2,munoccdf$chngtrf)\n",
    "\n",
    "texreg(list(reg1,reg2,reg3,reg4),\n",
    "        file=occupationlevelresults,\n",
    "        stars = c(0.01, 0.05,0.10),\n",
    "        caption=\"Municipality/occupation level regressions\",\n",
    "        caption.above = TRUE,\n",
    "        override.se=list(robreg1[,2],robreg2[,2],robreg3[,2],\n",
    "                        robreg4[,2]),\n",
    "        override.pval=list(robreg1[,4],robreg2[,4],robreg3[,4],\n",
    "                        robreg4[,4]),\n",
    "        omit.coef=\"munocc|z\",\n",
    "        custom.model.names=c(\"(1)\",\"(2)\",\"(3)\",\"(4)\"))"
   ]
  }
 ],
 "metadata": {
  "kernelspec": {
   "display_name": "R",
   "language": "R",
   "name": "ir"
  },
  "language_info": {
   "codemirror_mode": "r",
   "file_extension": ".r",
   "mimetype": "text/x-r-source",
   "name": "R",
   "pygments_lexer": "r",
   "version": "3.2.2"
  }
 },
 "nbformat": 4,
 "nbformat_minor": 0
}
