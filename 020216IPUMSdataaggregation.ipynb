{
 "cells": [
  {
   "cell_type": "markdown",
   "metadata": {},
   "source": [
    "012616IPUMSdataaggregation.py - Takes cleaned IPUMS data (cleaned by IPUMS/01182016ipumscleaning.py) and\n",
    "aggregates the variables in the files to the provincial and municipal level, after merging geolevel with universal key\n",
    "\n",
    "INPUTS: \n",
    "'IPUMS/ipumsclean.csv' - cleaned IPUMS data  (by 01182016ipumscleaning.ipynb) for DR in 2002 and 2010\n",
    "'DR Codigos/muncorrespondence.csv' - file which provides a correspondence between IPUMS geo2 names and D.R. municipality ccodes\n",
    "\n",
    "INTERMEDIATE FILES: N/A\n",
    "\n",
    "OUTPUTS:\n",
    "'occupationbymunicipality2002.csv' - IPUMS 2002 information on the share of workers with reported ISIC 2-digit occupation in a given D.R. municipality\n",
    "\n",
    "'occupationbymunicipality2010.csv'  - IPUMS 2010 information on the share of workers with reported ISIC 2-digit occupation in a given D.R. municipality\n",
    "\n",
    "'averageincomebymunicipality2002.csv' - IPUMS 2002 information on the average income of workers in the private sector for a given D.R. municipality\n",
    "\n",
    "Jay Sayre - sayrejay@gmail.com"
   ]
  },
  {
   "cell_type": "code",
   "execution_count": 1,
   "metadata": {
    "collapsed": false
   },
   "outputs": [],
   "source": [
    "import pandas as pd\n",
    "import os\n",
    "\n",
    "if os.name == 'nt':\n",
    "    base_dir = \"D:/Dropbox/Dropbox (Personal)/College/DR_Paper/\"\n",
    "else:\n",
    "    base_dir = \"/home/j/Dropbox/College/DR_Paper/\"\n",
    "\n",
    "## INPUTS\n",
    "inputfl = base_dir+'IPUMS/ipumsclean.csv'\n",
    "geocodefl = base_dir+'cafta-dr/DR Codigos/muncorrespondence.csv'\n",
    "## OUTPUTS\n",
    "occumunoutput2002 = base_dir+'cafta-dr/Output/occupationbymunicipality2002.csv'\n",
    "occumunoutput2010 = base_dir+'cafta-dr/Output/occupationbymunicipality2010.csv'\n",
    "munincoutput = base_dir+'cafta-dr/Output/averageincomebymunicipality2002.csv'\n",
    "\n",
    "## Read in input files\n",
    "df = pd.read_csv(inputfl, encoding='utf-8')\n",
    "geodf = pd.read_csv(geocodefl, encoding='utf-8')\n",
    "\n",
    "## Merge IPUMS data with geographic key\n",
    "\n",
    "## Make list of IPUMS names that correspond to more than one municipality\n",
    "tempc = geodf.set_index('CODIGO')['IPUMS'].to_dict()\n",
    "codesnames = {}\n",
    "for a,b in tempc.items():\n",
    "    if b not in codesnames.keys():\n",
    "        codesnames[b] = [a]\n",
    "    else:\n",
    "        codesnames[b].extend([a])\n",
    "        \n",
    "## Manually add \"other municipalities\" categories\n",
    "codesnames.update({'Other municipalities in Peravia':[1701,1702],\n",
    " 'Other municipalities in Monte Plata':[2901,2902,2903,2904,2905],\n",
    " 'Other municipalities in La Altagracia':[1101,1102],\n",
    " 'Other municipalities in Duarte':[601,602,603,604,605,606,607],\n",
    " 'Other municipalities in Maria Trinidad':[1401,1402,1403,1404],\n",
    " 'Other municipalities in Hermanas Mirabal':[1901,1902,1903],\n",
    " 'Other municipalities in La Vega':[1301,1302,1303,1304],\n",
    " u'Other municipalities in Monse\\xf1or Nouel':[2801,2802,2803],\n",
    " 'Other municipalities in Espaillat':[901,902,903,904],\n",
    " 'Other municipalities in Puerto Plata':[1801,1802,1803,1804,1805,1806,1807,1808,1809],\n",
    " 'Other municipalities in Monte Cristi':[1501,1502,1503,1504,1505,1506],\n",
    " 'Other municipalities in Valverde':[2701,2702,2703],\n",
    " 'Other municipalities in San Juan':[2201,2202,2203,2204,2205,2206],\n",
    " ##Since I can't determine where \"El Carril\" is, dropping obs from data set \n",
    " #'El Carril':[]\n",
    "    })\n",
    "#Drop 'El Carril' observations\n",
    "df = df[df[\"geo2_dox\"] != 'El Carril']\n",
    "\n",
    "## Split data set into 2002 and 2010 sections, we primarily care about 2002\n",
    "df2002, df2010 = df[df['year']==2002], df[df['year']==2010]\n",
    "\n",
    "## Subsetting down to only obs with available (and nonzero) income data for 2002\n",
    "incdf = df2002[df2002['inctot']!= 9999998]\n",
    "incdf = incdf[incdf['inctot']!= 9999999]\n",
    "incdf = incdf[incdf['inctot']!= 0]\n",
    "## Subset to only workers employed in the private sector\n",
    "incdf = incdf[incdf['classwk'] == 2]\n",
    "\n",
    "## Subsetting down to only workers employed in the private sector for 2010\n",
    "workers2010df = df2010[df2010['classwk'] == 2]"
   ]
  },
  {
   "cell_type": "markdown",
   "metadata": {
    "collapsed": true
   },
   "source": [
    "cols = ['COUNTRY', 'YEAR', 'SAMPLE', 'SERIAL', 'PERSONS', 'HHWT', 'SUBSAMP', 'STRATA', 'URBAN', 'REGIONW', 'GEOLEV1', 'GEO1_DO', 'GEO1_DOX', 'GEO2_DOX', 'SUBRDO', 'AGE', 'SEX', 'NATIVITY', 'BPLCOUNTRY', 'BPLDO', 'YRIMM', 'YRSIMM', 'SCHOOL', 'LIT', 'EDATTAIN', 'EDATTAIND', 'YRSCHOOL', 'EDUCDO', 'EMPSTAT', 'EMPSTATD', 'OCCISCO', 'OCC', 'INDGEN', 'IND', 'CLASSWK', 'CLASSWKD', 'EMPSECT', 'INCTOT', 'MIGRATE5', 'MIGCTRY5', 'MIGDO', 'DISABLED', 'DISEMP']"
   ]
  },
  {
   "cell_type": "code",
   "execution_count": 2,
   "metadata": {
    "collapsed": false
   },
   "outputs": [],
   "source": [
    "## Calculate average income at the municipality level for 2002\n",
    "\n",
    "## Calculate number of observations for each municipality code originating from each IPUMS geoname \n",
    "## Create dict with number of observations from a given municipality for each municipio codigo\n",
    "munshares = {}\n",
    "munobs = incdf.groupby('geo2_dox')['year'].count()\n",
    "munobs = dict(zip(munobs.index,munobs))\n",
    "for mun in munobs.keys():\n",
    "    for muncode in codesnames[mun]:\n",
    "        if muncode in munshares.keys():\n",
    "            munshares[muncode][mun] = munobs[mun]\n",
    "        else:\n",
    "            munshares[muncode] = {mun:munobs[mun]}\n",
    "            \n",
    "\n",
    "# Weight municipality according to num of obs from each category\n",
    "codigos = [str(b) for b in list(geodf['CODIGO'])]\n",
    "for muncode in munshares.keys():\n",
    "    if len(munshares[muncode]) == 1:\n",
    "        munshares[muncode] = [1]\n",
    "    else:\n",
    "        othermuns = float(len([a for a in codigos if str(muncode)[:2] in a[:2]]))\n",
    "        totalcount = 0\n",
    "        for munname in munshares[muncode].keys():\n",
    "                if 'Other municipalities' in munname:\n",
    "                    totalcount += munshares[muncode][munname]/othermuns\n",
    "                    othermuncount = munshares[muncode][munname]/othermuns\n",
    "                else:\n",
    "                    totalcount += munshares[muncode][munname]\n",
    "                    frstmuncount = munshares[muncode][munname]\n",
    "        munshares[muncode] = [frstmuncount/totalcount, othermuncount/totalcount]\n",
    "        \n",
    "## Quick program to find row according to each municipality\n",
    "def whereindf(item,dataframe,column='mun'):\n",
    "    return list(dataframe[column]).index(item)\n",
    "\n",
    "## Aggregate income data at the municipality level\n",
    "muninc = incdf.groupby('geo2_dox', as_index=False)['inctot'].mean()\n",
    "muninc = dict(zip(muninc['geo2_dox'],muninc['inctot']))\n",
    "munincdf = pd.DataFrame({'mun':list(geodf['CODIGO'])+['MEAN'],'inctot':0})\n",
    "for municiname in muninc.keys():\n",
    "    for municicode in codesnames[municiname]:\n",
    "        if len(munshares[municicode]) == 1:\n",
    "            munincdf.loc[whereindf(municicode,munincdf),'inctot'] = muninc[municiname]\n",
    "        else:\n",
    "            if 'Other municipalities' in municiname:\n",
    "                munincdf.loc[whereindf(municicode,munincdf),'inctot'] += munshares[municicode][1]*muninc[municiname]\n",
    "            else: \n",
    "                munincdf.loc[whereindf(municicode,munincdf),'inctot'] += munshares[municicode][1]*muninc[municiname]\n",
    "                \n",
    "munincdf.loc[whereindf('MEAN',munincdf),'inctot'] = float(munincdf.mean())"
   ]
  },
  {
   "cell_type": "code",
   "execution_count": 3,
   "metadata": {
    "collapsed": true
   },
   "outputs": [],
   "source": [
    "## Figure out proportion of occupations in each municipality for 2002 data\n",
    "occudf = pd.DataFrame({'mun':list(geodf['CODIGO'])})\n",
    "occupationcodes = sorted(incdf['occ'].unique())\n",
    "## Create columns in dataframe according to each occupation code\n",
    "for occ in occupationcodes:\n",
    "    occudf[occ] = 0    \n",
    "## Construct data set\n",
    "munocc = incdf.groupby('occ', as_index=False)['geo2_dox'].groups\n",
    "for occ in occupationcodes:\n",
    "    for dfindex in munocc[occ]:\n",
    "        municiname = incdf['geo2_dox'][dfindex]\n",
    "        for municicode in codesnames[municiname]:\n",
    "            occudf.loc[whereindf(municicode,occudf),occ] += 1"
   ]
  },
  {
   "cell_type": "code",
   "execution_count": 4,
   "metadata": {
    "collapsed": false
   },
   "outputs": [],
   "source": [
    "## Figure out proportion of occupations in each municipality for 2010 data\n",
    "## This code is literally a direct copy of code above\n",
    "\n",
    "occudf2010 = pd.DataFrame({'mun':list(geodf['CODIGO'])})\n",
    "occodes2010 = sorted(workers2010df['occ'].unique())\n",
    "## Create columns in dataframe according to each occupation code\n",
    "for occ in occodes2010:\n",
    "    occudf2010[occ] = 0    \n",
    "## Construct data set\n",
    "munocc2010 = workers2010df.groupby('occ', as_index=False)['geo2_dox'].groups\n",
    "for occ in occodes2010:\n",
    "    for dfindex in munocc2010[occ]:\n",
    "        municiname = workers2010df['geo2_dox'][dfindex]\n",
    "        for municicode in codesnames[municiname]:\n",
    "            occudf2010.loc[whereindf(municicode,occudf2010),occ] += 1"
   ]
  },
  {
   "cell_type": "code",
   "execution_count": 5,
   "metadata": {
    "collapsed": true
   },
   "outputs": [],
   "source": [
    "## Write each file to csv\n",
    "occudf.to_csv(occumunoutput2002,index=False)\n",
    "occudf2010.to_csv(occumunoutput2010,index=False)\n",
    "munincdf.to_csv(munincoutput,index=False)"
   ]
  },
  {
   "cell_type": "code",
   "execution_count": null,
   "metadata": {
    "collapsed": true
   },
   "outputs": [],
   "source": [
    "## Aggregate income data at the municipality and occupation level for 2002\n",
    "## Not really necessary, I think I won't link IPUMS income and occupation data\n",
    "#munincocc = incdf.groupby(['geo2_dox','occ'], as_index=False)['inctot'].mean()"
   ]
  }
 ],
 "metadata": {
  "kernelspec": {
   "display_name": "Python 2",
   "language": "python",
   "name": "python2"
  },
  "language_info": {
   "codemirror_mode": {
    "name": "ipython",
    "version": 2
   },
   "file_extension": ".py",
   "mimetype": "text/x-python",
   "name": "python",
   "nbconvert_exporter": "python",
   "pygments_lexer": "ipython2",
   "version": "2.7.11"
  }
 },
 "nbformat": 4,
 "nbformat_minor": 0
}
