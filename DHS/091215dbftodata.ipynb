{
 "cells": [
  {
   "cell_type": "code",
   "execution_count": 1,
   "metadata": {
    "collapsed": false
   },
   "outputs": [],
   "source": [
    "# Used to convert DHS 2007 and 2013 geo clusters into csvs\n",
    "##  Inputs: DHS/2007Standard/geo/DRGE52FL.dbf \n",
    "##  and DHS/2013Standard/geo/DRGE61FL.dbf\n",
    "\n",
    "## Outputs: DRGE**FL.csv in each respective folder\n",
    "\n",
    "import pandas as pd\n",
    "import pysal as ps\n",
    "import os\n",
    "\n",
    "#filedir = \"/home/j/Dropbox/College/DR_Paper/DHS/\"\n",
    "filedir = \"D:/Dropbox/Dropbox (Personal)/College/DR_Paper/DHS/\"\n",
    "\n",
    "geo2007 = filedir + \"2007Standard/geo/DRGE52FL.dbf\"\n",
    "geo2013 = filedir + \"2013Standard/geo/DRGE61FL.dbf\"\n",
    "mrg2007 = filedir + \"2007Standard/geo/merge2007clust.dbf\"\n",
    "mrg2013 = filedir + \"2013Standard/geo/merge2013clust.dbf\"\n",
    "test2007 = filedir + \"2007Standard/geo/TEST2007clust.dbf\"\n",
    "\n",
    "dbffiles = [geo2007, geo2013, mrg2007, mrg2013, test2007]\n",
    "for dbfile in dbffiles:\n",
    "    output = dbfile[:-4] + '.csv'\n",
    "    dbf = ps.open(dbfile)\n",
    "    d = {col: dbf.by_col(col) for col in dbf.header}\n",
    "    df = pd.DataFrame(d)\n",
    "    df.to_csv(output, index=False, encoding=\"utf-8\")"
   ]
  }
 ],
 "metadata": {
  "kernelspec": {
   "display_name": "Python 2",
   "language": "python",
   "name": "python2"
  },
  "language_info": {
   "codemirror_mode": {
    "name": "ipython",
    "version": 2
   },
   "file_extension": ".py",
   "mimetype": "text/x-python",
   "name": "python",
   "nbconvert_exporter": "python",
   "pygments_lexer": "ipython2",
   "version": "2.7.9"
  }
 },
 "nbformat": 4,
 "nbformat_minor": 0
}
