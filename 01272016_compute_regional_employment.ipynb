{
 "cells": [
  {
   "cell_type": "markdown",
   "metadata": {},
   "source": [
    "compute_regional_employment.py\n",
    "Jay Sayre - sayrejay@gmail.com\n",
    "\n",
    "Computes estimated share of employment in each municipality of the Dominican Republic in a given ISIC (International Standard Industrial Classification) code using data provided by IPUMS international at the ISIC 2-digit level on workers' occupations and data provided by the DR's ONE (Oficina Nacional de Estadística) at the ISIC 4-digit level on companies (empresas) registered in the D.R.\n",
    "\n",
    "Inputs:\n",
    "DirectoryofCompaniesandEstablishments/data/mergedprov.csv - D.R. provided information on the companies (and their sizes and industrial classifications) in each municipality. Merged together from separate files in \"data/\" folder using a UNIX one-liner.\n",
    "\n",
    "Intermediate data:\n",
    "DirectoryofCompaniesandEstablishments/companiesandsizesbymunicipality.csv - Clean and aggegrate input companies data (mergedprov.csv) to the municipality level, computing number of companies of a given size in a given industry\n",
    "\n",
    "DirectoryofCompaniesandEstablishments/municipalitycodecorrespondence.csv - Takes input data, strips data of ll information except for geocodes and corresponding province/municipality names\n",
    "\n",
    "Outputs:\n",
    "\n",
    "\n"
   ]
  },
  {
   "cell_type": "code",
   "execution_count": 5,
   "metadata": {
    "collapsed": true
   },
   "outputs": [],
   "source": [
    "import pandas as pd\n",
    "import os\n",
    "\n",
    "if os.name == 'nt':\n",
    "    tdir =\"D:/Dropbox/Dropbox (Personal)/College/DR_Paper/\"\n",
    "else:\n",
    "    tdir =\"/home/j/Dropbox/College/DR_Paper/\"\n",
    "sndlvl = \"DirectoryofCompaniesandEstablishments/\"\n",
    "    \n",
    "## Inputs\n",
    "empresadata = tdir+sndlvl+\"data/mergedprov.csv\"\n",
    "occu2002 = tdir+'cafta-dr/Output/occupationbymunicipality2002.csv'\n",
    "occu2010 = tdir+'cafta-dr/Output/occupationbymunicipality2010.csv'\n",
    "## Outputs\n",
    "muncodecorres = tdir+sndlvl+'municipalitycodecorrespondence.csv'\n",
    "companiesbysize = tdir+sndlvl+'companiesandsizesbymunicipality.csv'"
   ]
  },
  {
   "cell_type": "code",
   "execution_count": 32,
   "metadata": {
    "collapsed": false
   },
   "outputs": [],
   "source": [
    "## Create correspondence table of municis to codes found in Empresa data\n",
    "## Only need to run this once\n",
    "'''\n",
    "provlistdf = pd.read_csv(empresadata,encoding='utf-8')\n",
    "provlistdf['ISIC'] = provlistdf['CLASS'].apply(lambda x: \"'\"+x[-4:])\n",
    "provdrops = [u'SECT',u'DIV',u'GROUP',u'CLASS',u'SECT_DESC',\n",
    "            u'DIV_DESC',u'GROUP_DESC',u'CLASS_DESC',u'GEOCODE',\n",
    "            u'PROVINCE_DESC', u'MUNICIPIO_DESC']\n",
    "provdrops.remove(u'PROVINCE_DESC')\n",
    "provdrops.remove(u'MUNICIPIO_DESC')\n",
    "provdrops.extend(['ISIC'])\n",
    "provlistdf = provlistdf.drop(provdrops, 1)\n",
    "provlistdf = provlistdf.groupby(['PROVINCE','MUNICIPIO','PROVINCE_DESC', 'MUNICIPIO_DESC'], as_index=False).sum()\n",
    "provlistdf = provlistdf.drop('EMPRESAS', 1)\n",
    "\n",
    "## Commented out so it won't write to file everytime\n",
    "#provlistdf.to_csv(muncodecorres,index=False,encoding=\"utf-8\")\n",
    "'''"
   ]
  },
  {
   "cell_type": "code",
   "execution_count": 4,
   "metadata": {
    "collapsed": false
   },
   "outputs": [],
   "source": [
    "## Directory of Empresas\n",
    "## Calculate share of companies in a industry of a given size in each mun\n",
    "\n",
    "empresadf = pd.read_csv(empresadata,encoding='utf-8')\n",
    "empresadf['ISIC'] = empresadf['CLASS'].apply(lambda x: \"'\"+x[-4:])\n",
    "dropcols = [u'SECT',u'DIV',u'GROUP',u'CLASS',u'SECT_DESC',\n",
    "            u'DIV_DESC',u'GROUP_DESC',u'CLASS_DESC',u'GEOCODE',\n",
    "            u'PROVINCE_DESC', u'MUNICIPIO_DESC']\n",
    "\n",
    "empresadf.drop(dropcols, 1, inplace=True)\n",
    "\n",
    "## Weighting by company size\n",
    "def csize(word):\n",
    "    if word == u'050 a 099':\n",
    "        return \"50-99\"\n",
    "    elif word == u'010 a 049':\n",
    "        return \"10-49\"\n",
    "    elif word == u'001 a 009':\n",
    "        return \"1-9\"\n",
    "    elif word == u'250 o m\\xe1s':\n",
    "        return \"250-\"\n",
    "    elif word == u'100 a 249':\n",
    "        return \"100-249\"\n",
    "    else:\n",
    "        return word\n",
    "empresadf['SIZE'] = empresadf['SIZE'].apply(lambda x: csize(x))\n",
    "\n",
    "## Group Empresas by Municipality, ISIC Code, and size\n",
    "empresadf = empresadf.groupby(['PROVINCE','MUNICIPIO','ISIC','SIZE'], as_index=False).sum()\n",
    "\n",
    "## Calculate total number of companies by size in province and municipality\n",
    "municidf = empresadf.groupby(['PROVINCE','MUNICIPIO','SIZE'], as_index=False).sum()\n",
    "provdf = empresadf.groupby(['PROVINCE','SIZE'], as_index=False)['EMPRESAS'].sum()\n",
    "municidf.columns = ['PROVINCE','MUNICIPIO','SIZE','MUNICINUM']\n",
    "provdf.columns = ['PROVINCE','SIZE','PROVNUM']\n",
    "\n",
    "empresadf = empresadf.merge(municidf, on=['PROVINCE','MUNICIPIO','SIZE'], how='left')\n",
    "empresadf = empresadf.merge(provdf, on=['PROVINCE','SIZE'], how='left')\n",
    "\n",
    "#empresadf.to_csv(companiesbysize,index=False)"
   ]
  },
  {
   "cell_type": "code",
   "execution_count": 6,
   "metadata": {
    "collapsed": false
   },
   "outputs": [],
   "source": [
    "## Calibrate above data with IPUMS industry data for 2002 and 2010\n",
    "## IPUMS data is the output of IPUMSdataaggregation.py\n",
    "\n",
    "occudf2002 = pd.read_csv(occu2002)\n",
    "occudf2010 = pd.read_csv(occu2010)\n"
   ]
  }
 ],
 "metadata": {
  "kernelspec": {
   "display_name": "Python 2",
   "language": "python",
   "name": "python2"
  },
  "language_info": {
   "codemirror_mode": {
    "name": "ipython",
    "version": 2
   },
   "file_extension": ".py",
   "mimetype": "text/x-python",
   "name": "python",
   "nbconvert_exporter": "python",
   "pygments_lexer": "ipython2",
   "version": "2.7.11"
  }
 },
 "nbformat": 4,
 "nbformat_minor": 0
}
