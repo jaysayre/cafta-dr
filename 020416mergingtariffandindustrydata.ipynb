{
 "cells": [
  {
   "cell_type": "markdown",
   "metadata": {},
   "source": [
    "mergingtariffandindustrydata.py\n",
    "\n",
    "Jay Sayre - sayrejay (at) Gmai|,\n",
    "\n",
    "Purpose: \n",
    "Converts tariff data (processed by wtoandcaftatariffcleaning.py)\n",
    "to ISIC two digit averages\n",
    "\n",
    "Also combines tariff data (processed by wtoandcaftatariffcleaning.py) and estimated shares of industrial activity in a given municipality (processed by compute_regional_employment.py)\n",
    "\n",
    "INPUTS -\n",
    "\n",
    "'Tariff Conversion/HS1996toISIC3/HS1996toISIC3.csv' - Not sure\n",
    "what file made this, source seems to be \n",
    "http://wits.worldbank.org/product_concordance.html\n",
    "\n",
    "estmunicipalindustryactivity2002.csv - Estimates municipal industrial activity at the ISIC 2-digit level for 2002 (using D.R. empresa and IPUMS data) processed by compute_regional_employment.py\n",
    "\n",
    "estmunicipalindustryactivity2010.csv - Estimates municipal industrial activity at the ISIC 2-digit level for 2010\n",
    "\n",
    "\"cafta-dr/Output/wtoandcaftahstariff.csv\" - Harmonized system 6-digit level tariff data from 1996-2015 from both WTO data and CAFTA treaty text processed by wtoandcaftatariffcleaning.py\n",
    "\n",
    "INTERMEDIATE DATA -\n",
    "\n",
    "OUTPUTS - \n",
    "\n",
    "\"cafta-dr/Output/ISICtwodigitleveltariffs.csv\" - tariff averages at the ISIC 2-digit level for 2002 and 2013\n",
    "    \n",
    "\"cafta-dr/Output/municipalityaveragetariff2002.csv\" - municipality level tariff averages (for import competing industries, where import\n",
    "competing is considered harmonized system goods that correspond to ISIC\n",
    "codes based upon conversion table) for the D.R. in 2002, using estimated industrial activity in a municipality for 2002 produced by\n",
    "the script compute_regional_employment.py\n",
    "\n",
    "\"cafta-dr/Output/municipalityaveragetariff2013.csv\" - municipality level tariff averages (for import competing industries, where import\n",
    "competing is considered harmonized system goods that correspond to ISIC\n",
    "codes based upon conversion table) for the D.R. in 2013, using estimated industrial activity in a municipality for 2010 produced by\n",
    "the script compute_regional_employment.py\n",
    "\n"
   ]
  },
  {
   "cell_type": "code",
   "execution_count": 1,
   "metadata": {
    "collapsed": false
   },
   "outputs": [],
   "source": [
    "import pandas as pd\n",
    "import os\n",
    "\n",
    "if os.name == 'nt':\n",
    "    base_dir = \"D:/Dropbox/Dropbox (Personal)/College/DR_Paper/\"\n",
    "else:\n",
    "    base_dir = \"/home/j/Dropbox/College/DR_Paper/\"\n",
    "\n",
    "## INPUTS\n",
    "hs96isic3 = base_dir + 'Tariff Conversion/HS1996toISIC3/HS1996toISIC3.csv'\n",
    "wtoandcaftadata = base_dir +\"cafta-dr/Output/wtoandcaftahstariff.csv\"\n",
    "industry2002 = base_dir+'cafta-dr/Output/estmunicipalindustryactivity2002.csv'\n",
    "industry2010 = base_dir+'cafta-dr/Output/estmunicipalindustryactivity2010.csv'\n",
    "\n",
    "## INTERMEDIATE DATA\n",
    "\n",
    "## OUTPUTS\n",
    "isictariffavg = base_dir+\"cafta-dr/Output/ISICtwodigitleveltariffs.csv\"\n",
    "munavgtariff2002 = base_dir+\"cafta-dr/Output/municipalityaveragetariff2002.csv\"\n",
    "munavgtariff2013 = base_dir+\"cafta-dr/Output/municipalityaveragetariff2013.csv\""
   ]
  },
  {
   "cell_type": "code",
   "execution_count": 2,
   "metadata": {
    "collapsed": false
   },
   "outputs": [],
   "source": [
    "### Convert wtoandcaftadata from Harmonized System 1996 to ISIC four digit codes\n",
    "\n",
    "## Build table to convert HS1996 to ISIC3 data\n",
    "isic3 = pd.read_csv(hs96isic3, \n",
    "                    converters={'HS 1996 Product Code': lambda x: str(x),\n",
    "                                'ISIC Revision 3 Product Code': lambda x: str(x)})\n",
    "isic3.columns=['HS96', 'HSdesc', 'ISIC3', 'ISICdesc']\n",
    "isic3 = isic3[['HS96', 'ISIC3']]\n",
    "\n",
    "isic3conv = dict(zip(isic3['HS96'],isic3['ISIC3']))\n",
    "\n",
    "## Convert tariff data from HS1996 to ISIC3\n",
    "tariffdf = pd.read_csv(wtoandcaftadata)\n",
    "#Drop number of tariff lines per HS6 good\n",
    "lines = [a for a in tariffdf.columns if 'Lines' in a] \n",
    "tariffdf = tariffdf.drop(lines, 1)\n",
    "\n",
    "#Convert HS1996 codes in tariff data into ISIC3 codes\n",
    "tariffdf['ISIC'] = tariffdf['HS6'].apply(lambda x: \"'\"+isic3conv[x.replace(\"'\",\"\")])\n",
    "\n",
    "### Group tariff data down to the ISIC two digit level\n",
    "## This is a really unsophisticated way to group data\n",
    "tariffdf['ISICtwodig'] = tariffdf['ISIC'].apply(lambda x: str(int(x[1:3])))\n",
    "tariffdf.drop(['HS6','ISIC'],1)\n",
    "tariffdf = tariffdf.groupby('ISICtwodig', as_index=False)[list(tariffdf.columns)].mean()\n",
    "## Keep only columns that need to be merged with industrial activity data\n",
    "tariffdrops = set(tariffdf.columns)-set(['ISICtwodig','2002AvgRate','duty2013'])\n",
    "tariffdf = tariffdf.drop(list(tariffdrops),1)\n",
    "tariffdf.rename(columns={'ISICtwodig':'isic'},inplace=True)\n",
    "## We don't want ISIC code 99, serves as a catchall term in conversion\n",
    "tariffdf = tariffdf[tariffdf['isic'] != '99']"
   ]
  },
  {
   "cell_type": "code",
   "execution_count": 3,
   "metadata": {
    "collapsed": false
   },
   "outputs": [
    {
     "name": "stdout",
     "output_type": "stream",
     "text": [
      "ISIC 2 digit codes in conversion data: 35\n",
      "ISIC Codes: set([1, 2, 5, 10, 11, 12, 13, 14, 15, 16, 17, 18, 19, 20, 21, 22, 23, 24, 25, 26, 27, 28, 29, 30, 31, 32, 33, 34, 35, 36, 40, 74, 92, 93, 99])\n",
      "ISIC 2 digit codes in tariff data: 34\n",
      "ISIC 2 digit codes in industrial activity data:\n"
     ]
    }
   ],
   "source": [
    "## Checking merging issues - unfortunately, seems unfixable\n",
    "print \"ISIC 2 digit codes in conversion data:\", \n",
    "print len(set([int(a[:2]) for a in isic3conv.values()]))\n",
    "print \"ISIC Codes:\", set([int(a[:2]) for a in isic3conv.values()])\n",
    "print \"ISIC 2 digit codes in tariff data:\", len(list(tariffdf['isic']))\n",
    "print \"ISIC 2 digit codes in industrial activity data:\",\n",
    "#print len([a for a in list(indusdf2002.columns) if len(a) <= 2])"
   ]
  },
  {
   "cell_type": "code",
   "execution_count": 4,
   "metadata": {
    "collapsed": false
   },
   "outputs": [],
   "source": [
    "### Merge tariff data with municipality level occupation data\n",
    "### Used to compute municipality level average of import competing tariff\n",
    "\n",
    "indusdf2002  =  pd.read_csv(industry2002)\n",
    "indusdf2010  =  pd.read_csv(industry2010) \n",
    "\n",
    "## Drop ISIC 2 digit codes that don't have corresponding tariff data\n",
    "isicintariffdf = list(tariffdf['isic'])\n",
    "indusdf2002drops = [a for a in indusdf2002.columns if a not in isicintariffdf]\n",
    "indusdf2010drops = [a for a in indusdf2010.columns if a not in isicintariffdf]\n",
    "indusdf2002drops.remove('mun')\n",
    "indusdf2010drops.remove('mun')\n",
    "indusdf2002 = indusdf2002.drop(list(indusdf2002drops),1)\n",
    "indusdf2010 = indusdf2010.drop(list(indusdf2010drops),1)\n",
    "##Compute total number of sample of workers in given municipality\n",
    "codes2002 = [a for a in indusdf2002.columns if 'mun' not in a]\n",
    "codes2010 = [a for a in indusdf2010.columns if 'mun' not in a]\n",
    "indusdf2002['MUNTOTAL']=0\n",
    "indusdf2010['MUNTOTAL']=0\n",
    "for col in codes2002:\n",
    "    indusdf2002['MUNTOTAL'] += indusdf2002[col]\n",
    "for col in codes2010:\n",
    "    indusdf2010['MUNTOTAL'] += indusdf2010[col]\n",
    "## Compute share of occupation in a given municipality\n",
    "for col in codes2002:\n",
    "    indusdf2002[col] = indusdf2002[col]/indusdf2002['MUNTOTAL']\n",
    "for col in codes2010:\n",
    "    indusdf2010[col] = indusdf2010[col]/indusdf2010['MUNTOTAL']\n",
    "indusdf2002 = indusdf2002.drop('MUNTOTAL',1)\n",
    "indusdf2010 = indusdf2010.drop('MUNTOTAL',1)\n",
    "\n",
    "## Pivot municipality level occupation data.\n",
    "indusdf2002 = indusdf2002.set_index('mun').T.reset_index()\n",
    "indusdf2010 = indusdf2010.set_index('mun').T.reset_index()\n",
    "indusdf2002.rename(columns={'index':'isic'},inplace=True)\n",
    "indusdf2010.rename(columns={'index':'isic'},inplace=True)\n",
    "\n",
    "## Merge\n",
    "indusdf2002 = indusdf2002.merge(tariffdf, on='isic',how='left')\n",
    "indusdf2010 = indusdf2010.merge(tariffdf, on='isic',how='left')\n",
    "\n",
    "## Compute average tariff in 2002 and 2013 for a given municipality\n",
    "cols02=set(list(indusdf2002.columns))-set(['isic','2002AvgRate','duty2013'])\n",
    "cols10=set(list(indusdf2010.columns))-set(['isic','2002AvgRate','duty2013'])\n",
    "cols02 = sorted(list(cols02))\n",
    "cols10 = sorted(list(cols10))\n",
    "for col in cols02:\n",
    "    indusdf2002[str(col)+'duty2002']=indusdf2002[col]*indusdf2002['2002AvgRate']\n",
    "for col in cols10:    \n",
    "    indusdf2010[str(col)+'duty2013']=indusdf2010[col]*indusdf2010['duty2013']\n",
    "    \n",
    "dropcols02=cols02+['isic','2002AvgRate','duty2013']\n",
    "dropcols10=cols10+['isic','2002AvgRate','duty2013']\n",
    "indusdf2002.drop(dropcols02,1,inplace=True)\n",
    "indusdf2010.drop(dropcols10,1,inplace=True)\n",
    "indusdf2002 = indusdf2002.sum()\n",
    "indusdf2010 = indusdf2010.sum()\n",
    "indusdf2002 = indusdf2002.reset_index()\n",
    "indusdf2010 = indusdf2010.reset_index()\n",
    "indusdf2002.columns = ['mun','tariff']\n",
    "indusdf2010.columns = ['mun','tariff']\n",
    "indusdf2002['mun'] = indusdf2002['mun'].apply(lambda x: x.replace('duty2002',''))\n",
    "indusdf2010['mun'] = indusdf2010['mun'].apply(lambda x: x.replace('duty2013',''))"
   ]
  },
  {
   "cell_type": "code",
   "execution_count": 5,
   "metadata": {
    "collapsed": false
   },
   "outputs": [],
   "source": [
    "### Save outputs to file\n",
    "tariffdf.to_csv(isictariffavg,index=False)\n",
    "indusdf2002.to_csv(munavgtariff2002,index=False)\n",
    "indusdf2010.to_csv(munavgtariff2013,index=False)"
   ]
  }
 ],
 "metadata": {
  "kernelspec": {
   "display_name": "Python 2",
   "language": "python",
   "name": "python2"
  },
  "language_info": {
   "codemirror_mode": {
    "name": "ipython",
    "version": 2
   },
   "file_extension": ".py",
   "mimetype": "text/x-python",
   "name": "python",
   "nbconvert_exporter": "python",
   "pygments_lexer": "ipython2",
   "version": "2.7.11"
  }
 },
 "nbformat": 4,
 "nbformat_minor": 0
}
