{
 "cells": [
  {
   "cell_type": "markdown",
   "metadata": {},
   "source": [
    "exploratoryanalysis.R\n",
    "Jay Sayre - sayrejay (at) gmail,\n",
    "\n",
    "NOTE: cleanuptextable.py MUST BE RUN AFTER RUNNING THIS SCRIPT TO UPDATE TABLES IN PAPER\n",
    "\n",
    "INPUTS: \n",
    "\"municipality_level_DATASET.csv\" - As titled, produced by dataassembly.py\n",
    "\n",
    "\"mun_level_isic4dig_DATASET.csv\" - Same as above, except uses ISIC 4 digit and only empresas data (not IPUMS), produced by dataassembly.py\n",
    "\n",
    "\"municipality_occupation_level_DATASET.csv\" - As titled, produced by dataassembly.py\n",
    "\n",
    "OUTPUTS:\n",
    "\n",
    "\"../Plots/munregs.tex\" - Municipality level results\n",
    "\n",
    "\"../Plots/mun4digregs.tex\" - Municipality level results (ISIC 4 digit/no IPUMS occupation)\n",
    "\n",
    "\"../Plots/munoccregs.tex\" - Occupation level results"
   ]
  },
  {
   "cell_type": "code",
   "execution_count": 1,
   "metadata": {
    "collapsed": false
   },
   "outputs": [
    {
     "name": "stderr",
     "output_type": "stream",
     "text": [
      "Version:  1.36\n",
      "Date:     2015-12-08\n",
      "Author:   Philip Leifeld (Eawag & University of Bern)\n",
      "\n",
      "Please cite the JSS article in your publications -- see citation(\"texreg\").\n"
     ]
    }
   ],
   "source": [
    "library(ggplot2)\n",
    "library(texreg)\n",
    "library(tikzDevice)\n",
    "\n",
    "## Directory information\n",
    "setwd(\"~/Dropbox/College/DR_Paper/cafta-dr/Output/\")\n",
    "#setwd(\"D:/Dropbox/Dropbox (Personal)/College/DR_Paper/\")\n",
    "plotdir <- \"../Plots/\"\n",
    "\n",
    "## INPUTS \n",
    "mundf <- read.csv(\"municipality_level_DATASET.csv\")\n",
    "munisic4df <- read.csv(\"mun_level_isic4dig_DATASET.csv\")\n",
    "munoccdf <- read.csv(\"municipality_occupation_level_DATASET.csv\")\n",
    "usd2013todr02pesos <- 18.609825*(0.975)\n",
    "usd2013todr13pesos <- 41.8081439153*(0.985)\n",
    "\n",
    "\n",
    "## OUTPUTS \n",
    "munlevelresults <- paste(plotdir,\"munregs.tex\",sep=\"\")\n",
    "mun4diglevelresults <- paste(plotdir,\"mun4digregs.tex\",sep=\"\")\n",
    "occupationlevelresults <- paste(plotdir,\"munoccregs.tex\",sep=\"\")"
   ]
  },
  {
   "cell_type": "code",
   "execution_count": 2,
   "metadata": {
    "collapsed": false
   },
   "outputs": [],
   "source": [
    "### Cleanup variables in municipality level dataset\n",
    "\n",
    "## Convert variables into 2013 USD, not sure about DHS data\n",
    "mundf$inc02 <- (mundf$inc02/usd2013todr02pesos)*12\n",
    "mundf$totalhhincpercapita13 <- (mundf$totalhhincpercapita13/usd2013todr13pesos)*12\n",
    "mundf$incforocc13 <- (mundf$incforocc13/usd2013todr13pesos)*12\n",
    "mundf$firstsourceofincome13 <- (mundf$firstsourceofincome13/usd2013todr13pesos)*12\n",
    "mundf$incpercapita13 <- (mundf$incpercapita13/usd2013todr13pesos)*12\n",
    "\n",
    "#mundf$chnginc1 <- log(1+mundf$incforocc13)-log(1+mundf$inc02)\n",
    "mundf$chnginc1 <- mundf$incforocc13-mundf$inc02\n",
    "#mundf$chnginc3 <- log(1+mundf$firstsourceofincome13)-log(1+mundf$inc02)\n",
    "mundf$chnginc2 <- mundf$totalhhincpercapita13-mundf$inc02\n",
    "mundf$chnginc3 <- mundf$firstsourceofincome13-mundf$inc02\n",
    "mundf$chnginc4 <- mundf$incpercapita13-mundf$inc02\n",
    "\n",
    "mundf$prov <- factor(mundf$prov)\n",
    "mundf$chngtrf <- mundf$duty02-mundf$duty13"
   ]
  },
  {
   "cell_type": "code",
   "execution_count": 3,
   "metadata": {
    "collapsed": false
   },
   "outputs": [],
   "source": [
    "### Cleanup variables in municipality level (ISIC 4) dataset\n",
    "## Convert variables into 2013 USD, not sure about DHS data\n",
    "munisic4df$inc02 <- (munisic4df$inc02/usd2013todr02pesos)*12\n",
    "munisic4df$totalhhincpercapita13 <- (munisic4df$totalhhincpercapita13/usd2013todr13pesos)*12\n",
    "munisic4df$incforocc13 <- (munisic4df$incforocc13/usd2013todr13pesos)*12\n",
    "munisic4df$firstsourceofincome13 <- (munisic4df$firstsourceofincome13/usd2013todr13pesos)*12\n",
    "munisic4df$incpercapita13 <- (munisic4df$incpercapita13/usd2013todr13pesos)*12\n",
    "\n",
    "munisic4df$chnginc1 <- munisic4df$incforocc13-munisic4df$inc02\n",
    "munisic4df$chnginc2 <- log(1+munisic4df$totalhhincpercapita13)-log(1+munisic4df$inc02)\n",
    "munisic4df$chnginc3 <- munisic4df$firstsourceofincome13-munisic4df$inc02\n",
    "munisic4df$chnginc4 <- log(1+munisic4df$incpercapita13)-log(1+munisic4df$inc02)\n",
    "munisic4df$prov <- factor(munisic4df$prov)\n",
    "munisic4df$chngtrf <- munisic4df$duty13-munisic4df$duty02"
   ]
  },
  {
   "cell_type": "code",
   "execution_count": 4,
   "metadata": {
    "collapsed": false
   },
   "outputs": [
    {
     "ename": "ERROR",
     "evalue": "Error in `$<-.data.frame`(`*tmp*`, \"inc02\", value = numeric(0)): replacement has 0 rows, data has 963\n",
     "output_type": "error",
     "traceback": [
      "Error in `$<-.data.frame`(`*tmp*`, \"inc02\", value = numeric(0)): replacement has 0 rows, data has 963\n"
     ]
    },
    {
     "name": "stderr",
     "output_type": "stream",
     "text": [
      "Warning message:\n",
      "In log(-munoccdf$chngtrf + 1): NaNs produced"
     ]
    }
   ],
   "source": [
    "### Cleanup variables in municipality/occupation level dataset\n",
    "\n",
    "## Convert variables into 2013 USD, not sure about DHS data\n",
    "munoccdf$inc02 <- (munoccdf$inc02/usd2013todr02pesos)*12\n",
    "munoccdf$totalhhincpercapita13 <- (munoccdf$totalhhincpercapita13/usd2013todr13pesos)*12\n",
    "munoccdf$incforocc13 <- (munoccdf$incforocc13/usd2013todr13pesos)*12\n",
    "munoccdf$firstsourceofincome13 <- (munoccdf$firstsourceofincome13/usd2013todr13pesos)*12\n",
    "munoccdf$incpercapita13 <- (munoccdf$incpercapita13/usd2013todr13pesos)*12\n",
    "\n",
    "\n",
    "munoccdf$chnginc1 <- munoccdf$incforocc13-munoccdf$inc2002\n",
    "munoccdf$chnginc2 <- munoccdf$firstsourceofincome13-munoccdf$inc2002\n",
    "munoccdf$chnginc3 <- munoccdf$totalhhincpercapita13-munoccdf$inc2002\n",
    "munoccdf$chnginc4 <- munoccdf$incpercapita13-munoccdf$inc2002\n",
    "munoccdf$chngtrf <- munoccdf$duty02-munoccdf$duty13\n",
    "munoccdf$lgchng <- log(-munoccdf$chngtrf+1)\n",
    "munoccdf$lgdty02 <-log(munoccdf$duty02+1)\n",
    "munoccdf$chngwrk <- munoccdf$numworkers10-munoccdf$numworkers02\n",
    "munoccdf$occ <- factor(munoccdf$occ)\n",
    "munoccdf$munocc <- factor(munoccdf$munocc)"
   ]
  },
  {
   "cell_type": "code",
   "execution_count": 5,
   "metadata": {
    "collapsed": false
   },
   "outputs": [
    {
     "name": "stderr",
     "output_type": "stream",
     "text": [
      "The table was written to the file '../Plots/munregs.tex'.\n",
      "\n"
     ]
    }
   ],
   "source": [
    "### Municipality level regressions\n",
    "#colnames(mundf)\n",
    "munreg1 <- lm(chnginc1~chngtrf, data = mundf)\n",
    "munreg2 <- lm(chnginc1~chngtrf+prov, data = mundf)\n",
    "#munreg3 <- lm(chnginc3~chngtrf+prov, data = mundf)\n",
    "\n",
    "#summary(munreg1)\n",
    "#summary(munreg2)\n",
    "#summary(munreg3)\n",
    "\n",
    "#plot(mundf$chnginc3,mundf$chngtrf)\n",
    "\n",
    "texreg(list(munreg1,munreg2),#,munreg3),\n",
    "        file=munlevelresults,\n",
    "        stars = c(0.01, 0.05,0.10),\n",
    "        caption=\"Municipality level regressions\",\n",
    "        caption.above = TRUE, \n",
    "        omit.coef=\"prov\",\n",
    "        custom.model.names=c(\"(1)\",\"(2)\"))#,\"(3)\"))"
   ]
  },
  {
   "cell_type": "code",
   "execution_count": 6,
   "metadata": {
    "collapsed": false
   },
   "outputs": [
    {
     "name": "stderr",
     "output_type": "stream",
     "text": [
      "The table was written to the file '../Plots/mun4digregs.tex'.\n",
      "\n"
     ]
    }
   ],
   "source": [
    "### Municipality level (ISIC 4 digit) regressions\n",
    "#colnames(mundf)\n",
    "mun4reg1 <- lm(chnginc1~chngtrf, data = munisic4df)\n",
    "mun4reg2 <- lm(chnginc1~chngtrf+prov, data = munisic4df)\n",
    "mun4reg3 <- lm(chnginc3~chngtrf+prov, data = munisic4df)\n",
    "\n",
    "#summary(mun4reg1)\n",
    "#summary(mun4reg2)\n",
    "#summary(mun4reg3)\n",
    "\n",
    "texreg(list(mun4reg1,mun4reg2,mun4reg3),\n",
    "        file=mun4diglevelresults,\n",
    "        stars = c(0.01, 0.05,0.10),\n",
    "        caption=\"Municipality level regressions\",\n",
    "        caption.above = TRUE, \n",
    "        omit.coef=\"prov\",\n",
    "        custom.model.names=c(\"(1)\",\"(2)\",\"(3)\"))"
   ]
  },
  {
   "cell_type": "code",
   "execution_count": 7,
   "metadata": {
    "collapsed": false
   },
   "outputs": [
    {
     "name": "stderr",
     "output_type": "stream",
     "text": [
      "The table was written to the file '../Plots/munoccregs.tex'.\n",
      "\n"
     ]
    }
   ],
   "source": [
    "### Municipality/occupation level regressions\n",
    "#colnames(munoccdf)\n",
    "reg1 <- lm(chnginc2~chngtrf,data = munoccdf)\n",
    "reg2 <- lm(chnginc2~chngtrf+munocc,data = munoccdf)\n",
    "reg3 <- lm(chnginc2~chngtrf+chngwrk,data = munoccdf)\n",
    "reg4 <- lm(chnginc2~chngtrf+chngwrk+munocc,data = munoccdf)\n",
    "\n",
    "#summary(reg1)\n",
    "#summary(reg2)\n",
    "#summary(reg3)\n",
    "#summary(reg4)\n",
    "#plot(munoccdf$chnginc2,munoccdf$chngtrf)\n",
    "\n",
    "texreg(list(reg1,reg2,reg3,reg4),\n",
    "        file=occupationlevelresults,\n",
    "        stars = c(0.01, 0.05,0.10),\n",
    "        caption=\"Municipality/occupation level regressions\",\n",
    "        caption.above = TRUE, \n",
    "        omit.coef=\"munocc|z\",\n",
    "        custom.model.names=c(\"(1)\",\"(2)\",\"(3)\",\"(4)\"))"
   ]
  }
 ],
 "metadata": {
  "kernelspec": {
   "display_name": "R",
   "language": "R",
   "name": "ir"
  },
  "language_info": {
   "codemirror_mode": "r",
   "file_extension": ".r",
   "mimetype": "text/x-r-source",
   "name": "R",
   "pygments_lexer": "r",
   "version": "3.2.2"
  }
 },
 "nbformat": 4,
 "nbformat_minor": 0
}
