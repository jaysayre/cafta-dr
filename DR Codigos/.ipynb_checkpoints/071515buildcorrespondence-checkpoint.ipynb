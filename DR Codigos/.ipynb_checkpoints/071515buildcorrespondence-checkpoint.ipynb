{
 "cells": [
  {
   "cell_type": "code",
   "execution_count": 1,
   "metadata": {
    "collapsed": true
   },
   "outputs": [],
   "source": [
    "import pandas as pd\n",
    "import unicodedata\n",
    "\n",
    "def deaccent(word):\n",
    "    return unicodedata.normalize('NFKD', word).encode('ascii', 'ignore')\n"
   ]
  },
  {
   "cell_type": "code",
   "execution_count": 2,
   "metadata": {
    "collapsed": false
   },
   "outputs": [],
   "source": [
    "wdir = \"/home/j/Dropbox/College/DR_Paper/DR Codigos/\"\n",
    "inputfl = wdir+\"mundistricts.xls\"\n",
    "outputfl = wdir+\"muncorrespondence.csv\"\n",
    "\n",
    "df = pd.read_excel(inputfl,skiprows=[0,1,2,3,4],encoding='utf-8')\n",
    "\n",
    "df.columns = ['REGION','PROV','MUN', 'DISTRITOMUN','MUNNAME']\n",
    "df = df[df['DISTRITOMUN'] == 0]\n",
    "df = df.drop('DISTRITOMUN',1)\n",
    "df['PROV'] = df['PROV'].apply(lambda x: str(x)) \n",
    "df['MUN'] = df['MUN'].apply(lambda x: str(int(x)) if len(str(int(x))) == 2 else '0'+str(int(x))) \n",
    "df['MUNNAME'] = df['MUNNAME'].apply(lambda x: x.replace('(MG)','').strip())\n",
    "df['MUNNAME'] = df['MUNNAME'].apply(lambda x: x.replace('MG','').strip())\n",
    "df['STDNAME'] = df['MUNNAME'].apply(lambda x: deaccent(x).upper())\n",
    "df['PROVNAME'] = ''\n",
    "df.index = range(len(df))\n",
    "\n",
    "for i in df.index:\n",
    "    if df['MUN'][i] == \"00\":\n",
    "        df.loc[i,'PROVNAME'] = df['MUNNAME'][i]\n",
    "    else:\n",
    "        df.loc[i,'PROVNAME'] = df['PROVNAME'][i-1]\n",
    "df = df[df['MUN'] != \"00\"]       \n",
    "df['CODIGO'] = df['PROV']+df['MUN']\n",
    "\n",
    "df = df[['REGION','PROV','MUN','CODIGO','PROVNAME','MUNNAME','STDNAME']]\n",
    "df.to_csv(outputfl, index=False, encoding='utf-8')"
   ]
  }
 ],
 "metadata": {
  "kernelspec": {
   "display_name": "Python 2",
   "language": "python",
   "name": "python2"
  },
  "language_info": {
   "codemirror_mode": {
    "name": "ipython",
    "version": 2
   },
   "file_extension": ".py",
   "mimetype": "text/x-python",
   "name": "python",
   "nbconvert_exporter": "python",
   "pygments_lexer": "ipython2",
   "version": "2.7.10"
  }
 },
 "nbformat": 4,
 "nbformat_minor": 0
}
