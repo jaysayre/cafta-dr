{
 "cells": [
  {
   "cell_type": "markdown",
   "metadata": {},
   "source": [
    "mergingtariffandindustrydata.py\n",
    "mail-sayrejay@gmail.comn\n",
    "\n",
    "Purpose: Combines tariff data (processed by wtoandcaftatariffcleaning.py) and estimated shares of industrial activity in a given municipality (processed by compute_regional_employment.py)\n",
    "\n",
    "INPUTS -\n",
    "\n",
    "'Tariff Conversion/HS1996toISIC3/HS1996toISIC3.csv' - Not sure\n",
    "what file made this, source seems to be \n",
    "http://wits.worldbank.org/product_concordance.html\n",
    "\n",
    "estmunicipalindustryactivity2002.csv - Estimates municipal industrial activity at the ISIC 2-digit level for 2002 (using D.R. empresa and IPUMS data) processed by compute_regional_employment.py\n",
    "\n",
    "estmunicipalindustryactivity2010.csv - Estimates municipal industrial activity at the ISIC 2-digit level for 2010\n",
    "\n",
    "\"cafta-dr/Output/wtoandcaftahstariff.csv\" - Harmonized system 6-digit level tariff data from 1996-2015 from both WTO data and CAFTA treaty text processed by wtoandcaftatariffcleaning.py\n",
    "\n",
    "INTERMEDIATE DATA -\n",
    "\n",
    "OUTPUTS - \n",
    "    \n",
    "    "
   ]
  },
  {
   "cell_type": "code",
   "execution_count": 1,
   "metadata": {
    "collapsed": false
   },
   "outputs": [],
   "source": [
    "import pandas as pd\n",
    "import os\n",
    "\n",
    "if os.name == 'nt':\n",
    "    base_dir = \"D:/Dropbox/Dropbox (Personal)/College/DR_Paper/\"\n",
    "else:\n",
    "    base_dir = \"/home/j/Dropbox/College/DR_Paper/\"\n",
    "\n",
    "## INPUTS\n",
    "hs96isic3 = base_dir + 'Tariff Conversion/HS1996toISIC3/HS1996toISIC3.csv'\n",
    "wtoandcaftadata = base_dir +\"cafta-dr/Output/wtoandcaftahstariff.csv\"\n",
    "industry2002 = base_dir+'cafta-dr/Output/estmunicipalindustryactivity2002.csv'\n",
    "industry2010 = base_dir+'cafta-dr/Output/estmunicipalindustryactivity2010.csv'\n",
    "\n",
    "## INTERMEDIATE DATA\n",
    "\n",
    "## OUTPUTS\n"
   ]
  },
  {
   "cell_type": "code",
   "execution_count": 2,
   "metadata": {
    "collapsed": false
   },
   "outputs": [],
   "source": [
    "### Convert wtoandcaftadata from Harmonized System 1996 to ISIC four digit codes\n",
    "\n",
    "## Build table to convert HS1996 to ISIC3 data\n",
    "isic3 = pd.read_csv(hs96isic3, \n",
    "                    converters={'HS 1996 Product Code': lambda x: str(x),\n",
    "                                'ISIC Revision 3 Product Code': lambda x: str(x)})\n",
    "isic3.columns=['HS96', 'HSdesc', 'ISIC3', 'ISICdesc']\n",
    "isic3 = isic3[['HS96', 'ISIC3']]\n",
    "\n",
    "isic3conv = dict(zip(isic3['HS96'],isic3['ISIC3']))\n",
    "\n",
    "## Convert tariff data from HS1996 to ISIC3\n",
    "tariffdf = pd.read_csv(wtoandcaftadata)\n",
    "#Drop number of tariff lines per HS6 good\n",
    "lines = [a for a in tariffdf.columns if 'Lines' in a] \n",
    "tariffdf = tariffdf.drop(lines, 1)\n",
    "\n",
    "#Convert HS1996 codes in tariff data into ISIC3 codes\n",
    "tariffdf['ISIC'] = tariffdf['HS6'].apply(lambda x: \"'\"+isic3conv[x.replace(\"'\",\"\")])\n",
    "\n",
    "### Group tariff data down to the ISIC two digit level\n",
    "## This is a really unsophisticated way to group data\n",
    "tariffdf['ISICtwodig'] = tariffdf['ISIC'].apply(lambda x: str(int(x[1:3])))\n",
    "tariffdf.drop(['HS6','ISIC'],1)\n",
    "tariffdf = tariffdf.groupby('ISICtwodig', as_index=False)[list(tariffdf.columns)].mean()\n",
    "## Keep only columns that need to be merged with industrial activity data\n",
    "tariffdrops = set(tariffdf.columns)-set(['ISICtwodig','2002AvgRate','duty2013'])\n",
    "tariffdf = tariffdf.drop(list(tariffdrops),1)\n",
    "tariffdf.rename(columns={'ISICtwodig':'isic'},inplace=True)"
   ]
  },
  {
   "cell_type": "code",
   "execution_count": 98,
   "metadata": {
    "collapsed": false
   },
   "outputs": [
    {
     "name": "stdout",
     "output_type": "stream",
     "text": [
      "ISIC 2 digit codes in conversion data: 35\n",
      "ISIC 2 digit codes in tariff data: 35\n",
      "ISIC 2 digit codes in industrial activity data: 62\n"
     ]
    }
   ],
   "source": [
    "## Checking merging issues - unfortunately, seems unfixable\n",
    "print \"ISIC 2 digit codes in conversion data:\", \n",
    "print len(set([int(a[:2]) for a in isic3conv.values()]))\n",
    "print \"ISIC 2 digit codes in tariff data:\", len(list(tariffdf['isic']))\n",
    "print \"ISIC 2 digit codes in industrial activity data:\",\n",
    "print len([a for a in list(indusdf2002.columns) if len(a) <= 2])"
   ]
  },
  {
   "cell_type": "code",
   "execution_count": 4,
   "metadata": {
    "collapsed": false
   },
   "outputs": [],
   "source": [
    "### Merge tariff data with municipality level occupation data\n",
    "indusdf2002  =  pd.read_csv(industry2002)\n",
    "indusdf2010  =  pd.read_csv(industry2010) # Do this too\n",
    "\n",
    "## Drop ISIC 2 digit codes that don't have corresponding tariff data\n",
    "isicintariffdf = list(tariffdf['isic'])\n",
    "indusdf2002drops = [a for a in indusdf2002.columns if a not in isicintariffdf]\n",
    "indusdf2002drops.remove('mun')\n",
    "indusdf2002 = indusdf2002.drop(list(indusdf2002drops),1)\n",
    "##Compute total number of sample of workers in given municipality\n",
    "codes = [a for a in indusdf2002.columns if 'mun' not in a]\n",
    "indusdf2002['MUNTOTAL']=0\n",
    "for col in codes:\n",
    "    indusdf2002['MUNTOTAL'] += indusdf2002[col]\n",
    "## Compute share of occupation in a given municipality\n",
    "for col in codes:\n",
    "    indusdf2002[col] = indusdf2002[col]/indusdf2002['MUNTOTAL']\n",
    "indusdf2002 = indusdf2002.drop('MUNTOTAL',1)\n",
    "\n",
    "## Pivot municipality level occupation data.\n",
    "indusdf2002 = indusdf2002.set_index('mun').T.reset_index()\n",
    "indusdf2002.rename(columns={'index':'isic'},inplace=True)\n",
    "\n",
    "## Complete merge\n",
    "indusdf2002 = indusdf2002.merge(tariffdf, on='isic',how='left')\n",
    "\n",
    "## Could write this to intermediate data if I feel like it.."
   ]
  },
  {
   "cell_type": "code",
   "execution_count": 7,
   "metadata": {
    "collapsed": false
   },
   "outputs": [],
   "source": [
    "#indusdf2002.set_index('isic').T"
   ]
  },
  {
   "cell_type": "code",
   "execution_count": null,
   "metadata": {
    "collapsed": true
   },
   "outputs": [],
   "source": [
    "## Need to fix this script - OLD\n",
    "## Compute weighted average of import competing tariff for each\n",
    "## municipality/province\n",
    "## Sum down to municipality and province tariff averages\n",
    "\n",
    "# Province level\n",
    "provtariffdf= compdf\n",
    "provkeeps = [a for a in provtariffdf.columns if 'wptr' in a]\n",
    "provkeeps.extend(['PROVINCE'])\n",
    "provtariffdf = provtariffdf[provkeeps]\n",
    "provcols = list(provtariffdf.columns)\n",
    "provcols.remove('PROVINCE')\n",
    "provtariffdf = provtariffdf.groupby('PROVINCE', as_index=False)[provcols].sum()\n",
    "provtariffdf.to_csv(provcsv,index=False)\n",
    "\n",
    "# Municipality level\n",
    "municitariffdf = compdf\n",
    "municikeeps = [a for a in municitariffdf.columns if 'wmtr' in a]\n",
    "municikeeps.extend(['MUNICIPIO'])\n",
    "municitariffdf = municitariffdf[municikeeps]\n",
    "municicols = list(municitariffdf.columns)\n",
    "municicols.remove('MUNICIPIO')\n",
    "municitariffdf = municitariffdf.groupby('MUNICIPIO', as_index=False)[municicols].sum()\n",
    "municitariffdf.to_csv(municicsv,index=False)\n",
    "\n",
    "## Merge income numbers with municipality level tariff data\n",
    "## Only used for test conducted on 9/13/2015\n",
    "\n",
    "municitarf = base_dir + \"municitariffs.csv\"\n",
    "#munemp = base_dir + \"DirectoryofCompaniesandEstablishments/municipalitycodecorrespondence.csv\"\n",
    "income = base_dir + \"MUNICIoccinc.csv\"\n",
    "\n",
    "\n",
    "municitarfdf = pd.read_csv(municitarf)\n",
    "#munempdf = pd.read_csv(munemp,encoding='utf-8')\n",
    "#munempdf = munempdf.drop([u'PROVINCE_DESC',u'MUNICIPIO_DESC'],1)\n",
    "incomedf = pd.read_csv(income)\n",
    "incomedf['MUNICIPIO'] = incomedf['PROV'].astype(str)+'0'+incomedf['MUN'].astype(str)\n",
    "incomedf.drop(['PROV','MUN'],1, inplace=True)\n",
    "incomedf.columns = ['INC07', 'INC13','MUNICIPIO']\n",
    "\n",
    "\n",
    "#municitarfdf = municitarfdf.merge(munempdf, on='MUNICIPIO', how='left')\n",
    "municitarfdf['MUNICIPIO'] = municitarfdf['MUNICIPIO'].astype(str)\n",
    "municitarfdf = municitarfdf.merge(incomedf, on='MUNICIPIO', how='left')\n",
    "municitarfdf.to_csv(base_dir + 'municitarincocc.csv',index=False,encoding='utf-8')\n",
    "\n",
    "## Merge income numbers with province level tariff data\n",
    "## Only used for test conducted on 9/13/2015\n",
    "\n",
    "provtarf = base_dir + \"provtariffs.csv\"\n",
    "income = base_dir + \"PROVoccinc.csv\"\n",
    "\n",
    "\n",
    "provtarfdf = pd.read_csv(provtarf)\n",
    "incomedf = pd.read_csv(income)\n",
    "incomedf.columns = ['PROVINCE','INC07', 'INC13']\n",
    "\n",
    "provtarfdf = provtarfdf.merge(incomedf, on='PROVINCE', how='left')\n",
    "provtarfdf.to_csv(base_dir + 'provtarincocc.csv',index=False,encoding='utf-8')"
   ]
  }
 ],
 "metadata": {
  "kernelspec": {
   "display_name": "Python 2",
   "language": "python",
   "name": "python2"
  },
  "language_info": {
   "codemirror_mode": {
    "name": "ipython",
    "version": 2
   },
   "file_extension": ".py",
   "mimetype": "text/x-python",
   "name": "python",
   "nbconvert_exporter": "python",
   "pygments_lexer": "ipython2",
   "version": "2.7.11"
  }
 },
 "nbformat": 4,
 "nbformat_minor": 0
}
