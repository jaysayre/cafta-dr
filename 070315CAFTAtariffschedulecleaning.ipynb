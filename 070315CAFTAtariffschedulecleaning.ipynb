{
 "cells": [
  {
   "cell_type": "markdown",
   "metadata": {},
   "source": [
    "Inputs: OCR'ed table of DR Tariff Schedule (DRTARIFFSCHEDULE.xls or DRTARIFFSCHEDULE.ods, from DRTARIFFSCHEDULE.pdf)\n",
    "\n",
    "Outputs: Cleaned and merged csv table of DR Tariff Schedule (DRTariff.csv) "
   ]
  },
  {
   "cell_type": "code",
   "execution_count": 35,
   "metadata": {
    "collapsed": false
   },
   "outputs": [
    {
     "name": "stderr",
     "output_type": "stream",
     "text": [
      "/home/j/anaconda/lib/python2.7/site-packages/IPython/kernel/__main__.py:22: RuntimeWarning: Argument <type 'float'> is not an unicode object. Passing an encoded string will likely have unexpected results.\n",
      "/home/j/anaconda/lib/python2.7/site-packages/IPython/kernel/__main__.py:33: RuntimeWarning: Argument <type 'float'> is not an unicode object. Passing an encoded string will likely have unexpected results.\n"
     ]
    }
   ],
   "source": [
    "import os \n",
    "import pandas as pd\n",
    "import string\n",
    "import xlrd\n",
    "import csv\n",
    "from openpyxl import load_workbook\n",
    "from unidecode import unidecode\n",
    "\n",
    "if os.name == 'nt':\n",
    "    tdir =\"D:/Dropbox/Dropbox (Personal)/College/DR_Paper/cafta-dr/Treaties/\"\n",
    "else:\n",
    "    tdir =\"/home/j/Dropbox/College/DR_Paper/cafta-dr/Treaties/\"\n",
    "\n",
    "## INPUTS\n",
    "inputfl = tdir+\"Treaty_Text/OCR/DRTARIFFSCHEDULE.xls\"\n",
    "## OUTPUTS\n",
    "outputfl = tdir+\"Intermediate_Data/DRTariff.csv\"\n",
    "\n",
    "\n",
    "maindf = pd.DataFrame()\n",
    "excelfile = pd.ExcelFile(inputfl)\n",
    "\n",
    "for tab in excelfile.sheet_names[:]:\n",
    "    df = excelfile.parse(tab)\n",
    "    droprows = []\n",
    "    \n",
    "    for i in reversed(df.index):\n",
    "        try:\n",
    "            if str(unidecode(df['Description'][i])) != \"nan\":\n",
    "                df.loc[i,'Description'] = df['Description'][i].replace(',',';')\n",
    "            if str(df['Category'][i]) != \"nan\":\n",
    "                df.loc[i,'Category'] = df['Category'][i].replace(',',';')\n",
    "        except:\n",
    "            pass\n",
    "        \n",
    "        if str(df[\"HS8\"][i]) == \"nan\":\n",
    "            droprows.append(i)\n",
    "            \n",
    "            try:\n",
    "                if str(unidecode(df['Description'][i])) != \"nan\":\n",
    "                    df.loc[i-1,'Description'] = df['Description'][i-1]+' '+df['Description'][i]\n",
    "                if str(df['Category'][i]) != \"nan\":\n",
    "                    df.loc[i-1,'Category'] = df['Category'][i-1]+' '+df['Category'][i]\n",
    "            except:\n",
    "                pass\n",
    "                    \n",
    "    for row in droprows:\n",
    "        df = df.drop(row)\n",
    "    \n",
    "    maindf = maindf.append(df)\n",
    "    \n",
    "maindf = maindf.drop(\"Unnamed: 2\",1)\n",
    "cols = ['HS8', 'Description', 'Base', 'Category']\n",
    "maindf = maindf[cols]\n",
    "\n",
    "# Check for any missing base tariffs\n",
    "maindf.index = range(len(maindf))\n",
    "#for i in maindf.index:\n",
    "#    if str(maindf['Base'][i]) == \"nan\":\n",
    "#        print i\n",
    "        \n",
    "maindf.loc[6826,'Base'] = 20\n",
    "maindf.loc[6832,'Base'] = 20\n",
    "maindf.loc[950,'HS8']=20092100\n",
    "maindf.loc[5467,'HS8']=84709020\n",
    "\n",
    "maindf['HS8'] = maindf['HS8'].apply(lambda x: int(x))\n",
    "maindf['HS4'] = maindf['HS8'].apply(lambda x: \"'0\"+str(x)[:3] if len(str(x)) == 7 else \"'\"+str(x)[:4])\n",
    "maindf['HS6'] = maindf['HS8'].apply(lambda x: \"'0\"+str(x)[:5] if len(str(x)) == 7 else \"'\"+str(x)[:6])\n",
    "maindf['Cat'] = maindf['Category'].apply(lambda x: \"SP\" if \"Appendix\" in x else x)\n",
    "maindf['Cat'] = maindf['Cat'].apply(lambda x: \"D\" if \"D/1\" == x else x)\n",
    "\n",
    "maindf.to_csv(outputfl,encoding=\"utf-8\",index=False)"
   ]
  },
  {
   "cell_type": "code",
   "execution_count": 14,
   "metadata": {
    "collapsed": false
   },
   "outputs": [
    {
     "name": "stdout",
     "output_type": "stream",
     "text": [
      "Cat\n",
      "A     4326\n",
      "B      381\n",
      "C      692\n",
      "D      121\n",
      "G      903\n",
      "M      313\n",
      "N       22\n",
      "SP      48\n",
      "V        2\n",
      "W        2\n",
      "X       21\n",
      "Y        2\n",
      "dtype: int64\n"
     ]
    }
   ],
   "source": [
    "print maindf.groupby('Cat').size()"
   ]
  }
 ],
 "metadata": {
  "kernelspec": {
   "display_name": "Python 2",
   "language": "python",
   "name": "python2"
  },
  "language_info": {
   "codemirror_mode": {
    "name": "ipython",
    "version": 2
   },
   "file_extension": ".py",
   "mimetype": "text/x-python",
   "name": "python",
   "nbconvert_exporter": "python",
   "pygments_lexer": "ipython2",
   "version": "2.7.11"
  }
 },
 "nbformat": 4,
 "nbformat_minor": 0
}
