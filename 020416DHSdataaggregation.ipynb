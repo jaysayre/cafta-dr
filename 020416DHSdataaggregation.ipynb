{
 "cells": [
  {
   "cell_type": "markdown",
   "metadata": {},
   "source": [
    "DHSdataaggregation.py - Takes DHS data and\n",
    "aggregates the variables in the files (most importantly income and wage data) to the occupation and municipality level, after making necessary cleaning and merging steps\n",
    "\n",
    "Jay Sayre - sayrejay (at) gmail,\n",
    "\n",
    "INPUTS: \n",
    "\n",
    "\"../DHS/2013Standard/geo/merge2013clust.csv\" - DHS 2013 Dominican Republic geospatial data corresponding to geo-tagged keys in DHS 2013 dataset, compiled by extractoneshapefiletopoint.py\n",
    "\n",
    "\"../DHS/2013Standard/hhmember/DRPR61FL.csv\" - DHS 2013 Dominican Republic Household Member Dataset (converted to csv by DHS/DHSbuild.R script)\n",
    "\n",
    "Ditto for DHS 2007 data (don't think I'm using this)\n",
    "\n",
    "\"/cafta-dr/DHS/DHSoccupationsISIC.xlsx\" - Code for converting DHS occupation categories into ISIC occupation codes, compiled by author (me!)\n",
    "\n",
    "INTERMEDIATE DATA: N/A\n",
    "\n",
    "OUTPUTS: \"averageincomebymunicipality2013.csv\" - Average income in each D.R. municipality for 2013\n",
    "\n",
    "TODO - \"averageincomebyoccmun2013.csv\" - Average income in each D.R. municipality and occupation for 2013\n"
   ]
  },
  {
   "cell_type": "code",
   "execution_count": 118,
   "metadata": {
    "collapsed": false
   },
   "outputs": [],
   "source": [
    "import pandas as pd\n",
    "import os\n",
    "import numpy as np\n",
    "\n",
    "if os.name == 'nt':\n",
    "    base_dir = \"D:/Dropbox/Dropbox (Personal)/College/DR_Paper/\"\n",
    "else:\n",
    "    base_dir = \"/home/j/Dropbox/College/DR_Paper/\"\n",
    "    \n",
    "## INPUTS\n",
    "dhs_geoclust_2007 = base_dir + \"DHS/2007Standard/geo/merge2007clust.csv\"\n",
    "dhs_hhmember_2007 = base_dir + \"DHS/2007Standard/hhmember/DRPR52FL.csv\" # Converted to csv by DHSbuild.R in  main directory\n",
    "dhs_geoclust_2013 = base_dir + \"DHS/2013Standard/geo/merge2013clust.csv\"\n",
    "dhs_hhmember_2013 = base_dir + \"DHS/2013Standard/hhmember/DRPR61FL.csv\" # Converted to csv by DHSbuild.R in  main directory\n",
    "dhs_occupations_conversion = base_dir+\"cafta-dr/DHS/DHSoccupationsISIC.xlsx\"\n",
    "\n",
    "## OUTPUTS\n",
    "averageincmun = base_dir + \"/cafta-dr/Output/averageincomebymunicipality2013.csv\"\n",
    "averageincmunocc = base_dir + \"/cafta-dr/Output/averageincomebyoccmun2013.csv\""
   ]
  },
  {
   "cell_type": "markdown",
   "metadata": {},
   "source": [
    "Takes the DHS geocluster csvs (merged with ONE municipality codes by 091215extractoneshapefiletopoint.py and converted to csvs by 091215dbftodata.py) and merges them with DHS samples\n",
    "\n",
    "Number of DHS clusters incorrectly marked in another province: 53"
   ]
  },
  {
   "cell_type": "code",
   "execution_count": null,
   "metadata": {
    "collapsed": false
   },
   "outputs": [
    {
     "name": "stdout",
     "output_type": "stream",
     "text": [
      "Observations with occcupation data 8487\n",
      "Observations classified as having a private employer 3248\n"
     ]
    }
   ],
   "source": [
    "#geo_df_2007 = pd.read_csv(dhs_geoclust_2007)\n",
    "#dhs_data_2007 = pd.read_csv(dhs_hhmember_2007)\n",
    "geo_df_2013 = pd.read_csv(dhs_geoclust_2013, encoding='latin_1')\n",
    "dhs_data_2013 = pd.read_csv(dhs_hhmember_2013, encoding='latin_1')\n",
    "\n",
    "## Subset geocluster datasets down to relevant variables\n",
    "geo_keep_cols = ['ADM1DHS','ALT_DEM',\"DHSCLUST\",\"MUN\",\"PROV\",\"REG\",\"URBAN_RURA\"]\n",
    "#geo_df_2007 = geo_df_2007[geo_keep_cols]\n",
    "geo_df_2013 = geo_df_2013[geo_keep_cols]\n",
    "## Merge geodata with DHS data\n",
    "#dhs_data_2007 = dhs_data_2007.merge(geo_df_2007, left_on=\"hv001\", right_on=\"DHSCLUST\", how=\"left\")\n",
    "dhs_data_2013 = dhs_data_2013.merge(geo_df_2013, left_on=\"hv001\", right_on=\"DHSCLUST\", how=\"left\")\n",
    "\n",
    "##May want to apply some correction to municipality displacement. Only problem is correction isn't possible for 2013 data.\n",
    "##Commented section below tests whether different shapefile has better municipality displacement, which it does not.\n",
    "#count = 0 \n",
    "#for i in geo_df_2013.index:\n",
    "#    if geo_df_2013['ADM1DHS'][i] != geo_df_2013['PROV'][i]:\n",
    "#        count += 1\n",
    "#print \"Number of DHS clusters incorrectly marked in another province:\", count\n",
    "\n",
    "### Clean DHS data\n",
    "\n",
    "## Convert occupations provided in espanol to ISIC two digit code\n",
    "## Build conversion dictionary\n",
    "occonversion = pd.read_excel(dhs_occupations_conversion,encoding='latin_1')\n",
    "occonversion['isic2digitV3']=occonversion['isic2digitV3'].astype(str)\n",
    "occonversion['isic2digitV3']=occonversion['isic2digitV3'].apply(lambda x: x.split(','))\n",
    "occonversion = dict(zip(occonversion['espanol'],occonversion['isic2digitV3']))\n",
    "## Take steps necessary to convert occupations\n",
    "dhs_data_2013['sg110'] = dhs_data_2013['sg110'].fillna('missing')\n",
    "dhs_data_2013 = dhs_data_2013[dhs_data_2013['sg110'] != 'missing']\n",
    "dhs_data_2013['sg110'] = dhs_data_2013['sg110'].apply(lambda x: occonversion[x.rstrip()])\n",
    "print \"Observations with occcupation data\", len(dhs_data_2013)\n",
    "\n",
    "## Subset down to workers employed in the private sector \n",
    "## NOT SURE IF I'M  DOING THIS, BUT I DID IT IN IPUMS DATA \n",
    "##Do I want to include the 162 some employers here? 'employer'\n",
    "print \"Observations classified as having a private employer\", len(dhs_data_2013[dhs_data_2013['sg111'] == \"private employee\"])\n",
    "#dhs_data_2013 = dhs_data_2013[dhs_data_2013['sg111'] == \"private employee\"] \n"
   ]
  },
  {
   "cell_type": "code",
   "execution_count": 72,
   "metadata": {
    "collapsed": false
   },
   "outputs": [
    {
     "name": "stdout",
     "output_type": "stream",
     "text": [
      "Observations with income data 7854\n",
      "10451.003947\n",
      "8756.32806935\n",
      "13425.4538088\n",
      "12820.858232\n"
     ]
    }
   ],
   "source": [
    "##Check average income numbers for DR and if they match up with GDP P.C.\n",
    "##2013 -  5,968.7, 2002 - 3,008.5 \n",
    "##Takeaway is that there are several different sources for income data\n",
    "print \"Observations with income data\", len(dhs_data_2013[dhs_data_2013['singresoo'].astype(str) != 'nan'])\n",
    "\n",
    "print dhs_data_2013['singresoo'].mean()\n",
    "print dhs_data_2013['singrthp'].mean()\n",
    "print dhs_data_2013['sg117a'].mean()\n",
    "print dhs_data_2013['singresotp'].mean()"
   ]
  },
  {
   "cell_type": "code",
   "execution_count": null,
   "metadata": {
    "collapsed": false
   },
   "outputs": [],
   "source": [
    "def codigo(prov):\n",
    "    prov = str(prov)\n",
    "    if len(prov) == 1:\n",
    "        return '0'+prov\n",
    "    else:\n",
    "        return prov\n",
    "\n",
    "#dhs_data_2007 = dhs_data_2007[dhs_data_2007['ingoo'].astype(str) != 'nan']\n",
    "dhs_data_2013 = dhs_data_2013[dhs_data_2013['singresoo'].astype(str) != 'nan']\n",
    "\n",
    "## Aggregate income at the municipality level\n",
    "muninc2013 = dhs_data_2013.groupby(['PROV','MUN'], as_index=False)[['singresoo','singrthp','sg117a','singresotp']].mean()\n",
    "muninc2013['PROV'] = muninc2013['PROV'].astype(str)\n",
    "muninc2013['MUN'] = muninc2013['MUN'].apply(lambda x: codigo(x))\n",
    "muninc2013['CODIGO'] = muninc2013['PROV']+muninc2013['MUN']\n",
    "muninc2013.to_csv(averageincmun, index=False)\n",
    "\n",
    "## Aggregate income at the municipality and occupation level\n",
    "## Duplicate rows into different occupation categories\n",
    "for i in dhs_data_2013.index:\n",
    "    numisics = len(dhs_data_2013.loc[i,'sg110'])\n",
    "    if numisics != 1:\n",
    "        updaterows = []\n",
    "        for j in range(numisics)[1:]:\n",
    "            newrow = dict(dhs_data_2013.loc[i,:])\n",
    "            newrow['sg110']=dhs_data_2013.loc[i,'sg110'][j]\n",
    "            updaterows.append(newrow)\n",
    "        dhs_data_2013.loc[i,'sg110'] = dhs_data_2013.loc[i,'sg110'][0]\n",
    "        dhs_data_2013.append(updaterows)\n",
    "    else:\n",
    "        dhs_data_2013.loc[i,'sg110'] = dhs_data_2013.loc[i,'sg110'][0]\n",
    "\n",
    "dhs_data_2013 = dhs_data_2013.groupby(['PROV','MUN','sg110'], as_index=False)[['singresoo','singrthp','sg117a','singresotp']].mean()\n",
    "dhs_data_2013['PROV'] = dhs_data_2013['PROV'].astype(str)\n",
    "dhs_data_2013['MUN'] = dhs_data_2013['MUN'].apply(lambda x: codigo(x))\n",
    "dhs_data_2013['CODIGO'] = dhs_data_2013['PROV']+dhs_data_2013['MUN']\n",
    "dhs_data_2013.to_csv(averageincmunocc, index=False)"
   ]
  },
  {
   "cell_type": "code",
   "execution_count": 117,
   "metadata": {
    "collapsed": false
   },
   "outputs": [
    {
     "data": {
      "text/plain": [
       "23                                                      85\n",
       "31                                                      74\n",
       "32                                                [85, 86]\n",
       "36                                                    [52]\n",
       "44                                                    [80]\n",
       "54                                                    [90]\n",
       "69                                                    [73]\n",
       "70                                                    [52]\n",
       "73                                                    [74]\n",
       "74                                                    [74]\n",
       "75                                                    [74]\n",
       "78                                                    [45]\n",
       "80                                                [85, 86]\n",
       "82                                                    [45]\n",
       "102                                                   [60]\n",
       "107                                   [10, 11, 12, 13, 14]\n",
       "108                                                   [90]\n",
       "113                                                   [60]\n",
       "115                                                    [1]\n",
       "127                                                   [74]\n",
       "128      [15, 16, 17, 18, 19, 20, 21, 22, 23, 24, 25, 2...\n",
       "133                                   [10, 11, 12, 13, 14]\n",
       "134                                                   [90]\n",
       "139                                                   [90]\n",
       "140                                                   [52]\n",
       "149                                   [10, 11, 12, 13, 14]\n",
       "151                                                   [50]\n",
       "153                                                   [40]\n",
       "173                                               [53, 93]\n",
       "175                                                   [52]\n",
       "                               ...                        \n",
       "41093                                                 [40]\n",
       "41109                                                 [50]\n",
       "41114                                                  [1]\n",
       "41115                                                  [1]\n",
       "41116                                                 [90]\n",
       "41118                                                 [60]\n",
       "41127                                                 [90]\n",
       "41131                                                 [74]\n",
       "41146                                                 [90]\n",
       "41147                                                 [92]\n",
       "41149                                                 [90]\n",
       "41153                                                 [52]\n",
       "41171                                                 [74]\n",
       "41176                                                 [60]\n",
       "41179                                             [20, 36]\n",
       "41180                                                 [63]\n",
       "41198                                                  [1]\n",
       "41200                                             [01, 05]\n",
       "41202                                 [10, 11, 12, 13, 14]\n",
       "41221                                                 [55]\n",
       "41222                                                 [74]\n",
       "41227                                                 [52]\n",
       "41234                                             [28, 29]\n",
       "41235                                             [28, 29]\n",
       "41248                                             [53, 93]\n",
       "41250                                                 [90]\n",
       "41258                                             [01, 05]\n",
       "41260                                 [10, 11, 12, 13, 14]\n",
       "41261                                 [10, 11, 12, 13, 14]\n",
       "41264                                                 [55]\n",
       "Name: sg110, dtype: object"
      ]
     },
     "execution_count": 117,
     "metadata": {},
     "output_type": "execute_result"
    }
   ],
   "source": [
    "dhs_data_2013['sg110']"
   ]
  }
 ],
 "metadata": {
  "kernelspec": {
   "display_name": "Python 2",
   "language": "python",
   "name": "python2"
  },
  "language_info": {
   "codemirror_mode": {
    "name": "ipython",
    "version": 2
   },
   "file_extension": ".py",
   "mimetype": "text/x-python",
   "name": "python",
   "nbconvert_exporter": "python",
   "pygments_lexer": "ipython2",
   "version": "2.7.11"
  }
 },
 "nbformat": 4,
 "nbformat_minor": 0
}
