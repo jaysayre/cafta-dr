{
 "cells": [
  {
   "cell_type": "markdown",
   "metadata": {},
   "source": [
    "011816incomeandwagedataaggregation.py - Takes DHS data and\n",
    "aggregates the variables in the files (most importantly income and wage data) to the sector and municipality level, after making necessary cleaning and merging steps\n",
    "\n",
    "Jay Sayre - sayrejay@gmail.com\n",
    "\n",
    "INPUTS: \n",
    "\n",
    "\"DHS/2013Standard/geo/merge2013clust.csv\" - DHS 2013 Dominican Republic geospatial data corresponding to geo-tagged keys in DHS 2013 dataset, compiled by extractoneshapefiletopoint.py\n",
    "\n",
    "\"DHS/2013Standard/hhmember/DRPR61FL.csv\" - DHS 2013 Dominican Republic Household Member Dataset (converted to csv by DHS/DHSbuild.R script)\n",
    "\n",
    "Also potentially 2007 DHS data\n",
    "\n",
    "INTERMEDIATE DATA: N/A\n",
    "\n",
    "OUTPUTS: \"averageincomebymunicipality2010.csv\" - Average income in each D.R. municipality for 2013"
   ]
  },
  {
   "cell_type": "code",
   "execution_count": 1,
   "metadata": {
    "collapsed": false
   },
   "outputs": [],
   "source": [
    "import pandas as pd\n",
    "import os\n",
    "\n",
    "if os.name == 'nt':\n",
    "    base_dir = \"D:/Dropbox/Dropbox (Personal)/College/DR_Paper/\"\n",
    "else:\n",
    "    base_dir = \"/home/j/Dropbox/College/DR_Paper/\""
   ]
  },
  {
   "cell_type": "markdown",
   "metadata": {},
   "source": [
    "Takes the DHS geocluster csvs (merged with ONE municipality codes by 091215extractoneshapefiletopoint.py and converted to csvs by 091215dbftodata.py) and merges them with DHS samples\n",
    "\n",
    "Number of DHS clusters incorrectly marked in another province: 53"
   ]
  },
  {
   "cell_type": "code",
   "execution_count": 19,
   "metadata": {
    "collapsed": false
   },
   "outputs": [],
   "source": [
    "dhs_geoclust_2007 = base_dir + \"DHS/2007Standard/geo/merge2007clust.csv\"\n",
    "dhs_hhmember_2007 = base_dir + \"DHS/2007Standard/hhmember/DRPR52FL.csv\" # Converted to csv by DHSbuild.R in  main directory\n",
    "dhs_geoclust_2013 = base_dir + \"DHS/2013Standard/geo/merge2013clust.csv\"\n",
    "dhs_hhmember_2013 = base_dir + \"DHS/2013Standard/hhmember/DRPR61FL.csv\" # Converted to csv by DHSbuild.R in  main directory\n",
    "\n",
    "geo_df_2007 = pd.read_csv(dhs_geoclust_2007)\n",
    "geo_df_2013 = pd.read_csv(dhs_geoclust_2013)\n",
    "dhs_data_2007 = pd.read_csv(dhs_hhmember_2007)\n",
    "dhs_data_2013 = pd.read_csv(dhs_hhmember_2013)\n",
    "\n",
    "# Subset geocluster datasets down to relevant variables\n",
    "geo_keep_cols = ['ADM1DHS','ALT_DEM',\"DHSCLUST\",\"MUN\",\"PROV\",\"REG\",\"URBAN_RURA\"]\n",
    "geo_df_2007 = geo_df_2007[geo_keep_cols]\n",
    "geo_df_2013 = geo_df_2013[geo_keep_cols]\n",
    "\n",
    "#May want to apply some correction to municipality displacement. Only problem is correction isn't possible for 2013 data.\n",
    "# Commented section below tests whether different shapefile has better municipality displacement, which it does not.\n",
    "#count = 0 \n",
    "#for i in geo_df_2013.index:\n",
    "#    if geo_df_2013['ADM1DHS'][i] != geo_df_2013['PROV'][i]:\n",
    "#        count += 1\n",
    "#print \"Number of DHS clusters incorrectly marked in another province:\", count\n",
    "\n",
    "dhs_data_2007 = dhs_data_2007.merge(geo_df_2007, left_on=\"hv001\", right_on=\"DHSCLUST\", how=\"left\")\n",
    "dhs_data_2013 = dhs_data_2013.merge(geo_df_2013, left_on=\"hv001\", right_on=\"DHSCLUST\", how=\"left\")"
   ]
  },
  {
   "cell_type": "markdown",
   "metadata": {
    "collapsed": false
   },
   "source": [
    "### DEPRECATED\n",
    "## Used to test whether DIVA-GIS provided ADM shapefile is more accurate. \n",
    "## It isn't.\n",
    "## 60 missing clusters\n",
    "\n",
    "#dhs_testclust_2007 = base_dir + \"DHS/2007Standard/geo/TEST2007clust.csv\"\n",
    "#dhs_testmerge = base_dir + \"DR Codigos/muncorrespondence.csv\"\n",
    "\n",
    "#geo_df_test = pd.read_csv(dhs_testclust_2007)\n",
    "#test_keeps = ['ADM1DHS','ALT_DEM',\"DHSCLUST\",\"URBAN_RURA\",\"ID_1\",\"ID_2\"]\n",
    "#geo_df_test = geo_df_test[test_keeps]\n",
    "#geo_df_test.columns = ['ADM1DHS','ALT_DEM',\"DHSCLUST\",\"URBAN_RURA\",\"GEOID_1\",\"GEOID_2\"]\n",
    "#testcode = pd.read_csv(dhs_testmerge)\n",
    "#testcode = testcode[[u'REGION', u'PROV', u'MUN', u'GEOID_1', u'GEOID_2']]\n",
    "\n",
    "#geo_df_test = geo_df_test.merge(testcode, on=['GEOID_1', 'GEOID_2'], how='left')\n",
    "\n",
    "#count = 0 \n",
    "#for i in geo_df_test.index:\n",
    "#    if geo_df_test['ADM1DHS'][i] != geo_df_test['PROV'][i]:\n",
    "#        count += 1\n",
    "#print count"
   ]
  },
  {
   "cell_type": "code",
   "execution_count": 3,
   "metadata": {
    "collapsed": false
   },
   "outputs": [],
   "source": [
    "def codigo(prov):\n",
    "    prov = str(prov)\n",
    "    if len(prov) == 1:\n",
    "        return '0'+prov\n",
    "    else:\n",
    "        return prov"
   ]
  },
  {
   "cell_type": "code",
   "execution_count": 16,
   "metadata": {
    "collapsed": false
   },
   "outputs": [],
   "source": [
    "## Subset down to workers employed in the private sector\n",
    "#Do I want to include the 162 some employers here? 'employer'\n",
    "dhs_data_2013 = dhs_data_2013[dhs_data_2013['sg111'] == \"private employee\"] \n",
    "#print dhs_data_2013['sg110'].unique() # detailed employment categories (espanol)\n",
    "#dhs_data_2013['sg112a'].unique() # gross salary\n",
    "\n",
    "#print dhs_data_2007['gs14'].unique() #these are the codes in 2013/occ categories\n",
    "#print dhs_data_2007['gs16'].unique()"
   ]
  },
  {
   "cell_type": "code",
   "execution_count": 29,
   "metadata": {
    "collapsed": false
   },
   "outputs": [
    {
     "name": "stdout",
     "output_type": "stream",
     "text": [
      "['public employee' 'self-employee' 'domestic worker' 'private employee' nan\n",
      " 'employer' 'member of cooperative' \"don't know\"]\n",
      "7909\n",
      "10446.2326843\n",
      "8832.79855481\n",
      "11441.00513\n",
      "13432.408699\n"
     ]
    }
   ],
   "source": [
    "#Check average income numbers for DR and if they match up with GDP P.C.\n",
    "# 2013 -  5,968.7, 2002 - 3,008.5 \n",
    "print dhs_data_2013['sg111'].unique()\n",
    "print len(dhs_data_2013[dhs_data_2013['singresoo'].astype(str) != 'nan'])\n",
    "\n",
    "\n",
    "print dhs_data_2013['singresoo'].mean()\n",
    "print dhs_data_2013['singrthp'].mean()\n",
    "print dhs_data_2013['sg117a'].mean()\n",
    "print dhs_data_2013['singresotp'].mean()"
   ]
  },
  {
   "cell_type": "code",
   "execution_count": 28,
   "metadata": {
    "collapsed": false
   },
   "outputs": [],
   "source": [
    "# Aggregate income variables, very quickly - come back and improve this\n",
    "#print len(dhs_data_2007) - len(dhs_data_2007[dhs_data_2007['ingoo'].astype(str) != 'nan']) # Observations missing data\n",
    "#print len(dhs_data_2013) - len(dhs_data_2013[dhs_data_2013['singresoo'].astype(str) != 'nan']) # Observations missing data\n",
    "\n",
    "dhs_data_2007 = dhs_data_2007[dhs_data_2007['ingoo'].astype(str) != 'nan']\n",
    "dhs_data_2013 = dhs_data_2013[dhs_data_2013['singresoo'].astype(str) != 'nan']\n",
    "\n",
    "occinc2007 = dhs_data_2007.groupby(['PROV','MUN'], as_index=False)['ingoo'].mean()\n",
    "occinc2013 = dhs_data_2013.groupby(['PROV','MUN'], as_index=False)['singresoo'].mean()\n",
    "occinc = occinc2013\n",
    "occinc = occinc2007.merge(occinc2013, on=['PROV','MUN'], how=\"inner\")\n",
    "occinc['PROV'] = occinc['PROV'].astype(str)\n",
    "occinc['MUN'] = occinc['MUN'].apply(lambda x: codigo(x))\n",
    "occinc['CODIGO'] = occinc['PROV']+occinc['MUN']\n",
    "occinc.to_csv(base_dir + \"averageincomebymunicipality2010.csv\", index=False)\n",
    "\n",
    "#provoccinc2007 = dhs_data_2007.groupby('PROV', as_index=False)['ingoo'].mean()\n",
    "#provoccinc2013 = dhs_data_2013.groupby('PROV', as_index=False)['singresoo'].mean()\n",
    "#provoccinc = provoccinc2007.merge(provoccinc2013, on='PROV', how=\"inner\")\n",
    "#provoccinc.to_csv(base_dir + \"PROVoccinc.csv\", index=False)"
   ]
  }
 ],
 "metadata": {
  "kernelspec": {
   "display_name": "Python 2",
   "language": "python",
   "name": "python2"
  },
  "language_info": {
   "codemirror_mode": {
    "name": "ipython",
    "version": 2
   },
   "file_extension": ".py",
   "mimetype": "text/x-python",
   "name": "python",
   "nbconvert_exporter": "python",
   "pygments_lexer": "ipython2",
   "version": "2.7.11"
  }
 },
 "nbformat": 4,
 "nbformat_minor": 0
}
